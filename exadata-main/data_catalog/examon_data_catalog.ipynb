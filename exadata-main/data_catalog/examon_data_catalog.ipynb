{
 "nbformat": 4,
 "nbformat_minor": 0,
 "metadata": {
  "colab": {
   "name": "examon_data_catalog.ipynb",
   "provenance": [],
   "collapsed_sections": []
  },
  "kernelspec": {
   "name": "python3",
   "language": "python",
   "display_name": "Python 3 (ipykernel)"
  },
  "language_info": {
   "name": "python"
  },
  "accelerator": "GPU",
  "gpuClass": "standard"
 },
 "cells": [
  {
   "cell_type": "markdown",
   "source": [
    "# ExaMon Data Catalog\n",
    "\n",
    "This notebook attempts to define an inventory of the data within the ExaMon database and more importantly wants to show how to use the API to build and extend it.\n",
    "\n",
    "The procedures shown below focus on data related to the Marconi 100 system. These are mainly intended to show how to obtain, in a practical way, data information (metadata) from the database to efficiently create and document any dataset extracted from ExaMon.\n",
    "\n",
    "**Status**: The notebook is a work in progress so questions and comments are welcome.\n",
    "\n"
   ],
   "metadata": {
    "id": "fANcu7rjAXD4"
   }
  },
  {
   "cell_type": "code",
   "source": [
    "# Init steps\n",
    "\n",
    "%matplotlib inline\n",
    "\n",
    "!pip3 install wheel\n",
    "!pip3 install pandas\n",
    "\n",
    "import os\n",
    "import getpass\n",
    "import numpy as np\n",
    "import pandas as pd\n",
    "from examon.examon import Client, ExamonQL\n",
    "\n",
    "# Connect\n",
    "USER = input('username:')\n",
    "print('password:')\n",
    "PWD = getpass.getpass()\n",
    "ex = Client('examon.cineca.it', port='3000', user=USER, password=PWD, verbose=False, proxy=True)\n",
    "sq = ExamonQL(ex)\n"
   ],
   "metadata": {
    "id": "AgrQsKlkk4y7",
    "ExecuteTime": {
     "end_time": "2023-12-03T19:36:15.805181Z",
     "start_time": "2023-12-03T19:36:13.868595Z"
    }
   },
   "execution_count": 10,
   "outputs": [
    {
     "name": "stdout",
     "output_type": "stream",
     "text": [
      "Requirement already satisfied: wheel in /Users/ahmedmoustafa/School/FA23/CS6784/6784-final/env/lib/python3.11/site-packages (0.42.0)\r\n",
      "Requirement already satisfied: pandas in /Users/ahmedmoustafa/School/FA23/CS6784/6784-final/env/lib/python3.11/site-packages (2.1.2)\r\n",
      "Requirement already satisfied: numpy<2,>=1.23.2 in /Users/ahmedmoustafa/School/FA23/CS6784/6784-final/env/lib/python3.11/site-packages (from pandas) (1.23.5)\r\n",
      "Requirement already satisfied: python-dateutil>=2.8.2 in /Users/ahmedmoustafa/School/FA23/CS6784/6784-final/env/lib/python3.11/site-packages (from pandas) (2.8.2)\r\n",
      "Requirement already satisfied: pytz>=2020.1 in /Users/ahmedmoustafa/School/FA23/CS6784/6784-final/env/lib/python3.11/site-packages (from pandas) (2023.3.post1)\r\n",
      "Requirement already satisfied: tzdata>=2022.1 in /Users/ahmedmoustafa/School/FA23/CS6784/6784-final/env/lib/python3.11/site-packages (from pandas) (2023.3)\r\n",
      "Requirement already satisfied: six>=1.5 in /Users/ahmedmoustafa/School/FA23/CS6784/6784-final/env/lib/python3.11/site-packages (from python-dateutil>=2.8.2->pandas) (1.16.0)\r\n"
     ]
    },
    {
     "ename": "ModuleNotFoundError",
     "evalue": "No module named 'pandas'",
     "output_type": "error",
     "traceback": [
      "\u001B[0;31m---------------------------------------------------------------------------\u001B[0m",
      "\u001B[0;31mModuleNotFoundError\u001B[0m                       Traceback (most recent call last)",
      "Cell \u001B[0;32mIn[10], line 11\u001B[0m\n\u001B[1;32m      9\u001B[0m \u001B[38;5;28;01mimport\u001B[39;00m \u001B[38;5;21;01mgetpass\u001B[39;00m\n\u001B[1;32m     10\u001B[0m \u001B[38;5;28;01mimport\u001B[39;00m \u001B[38;5;21;01mnumpy\u001B[39;00m \u001B[38;5;28;01mas\u001B[39;00m \u001B[38;5;21;01mnp\u001B[39;00m\n\u001B[0;32m---> 11\u001B[0m \u001B[38;5;28;01mimport\u001B[39;00m \u001B[38;5;21;01mpandas\u001B[39;00m \u001B[38;5;28;01mas\u001B[39;00m \u001B[38;5;21;01mpd\u001B[39;00m\n\u001B[1;32m     12\u001B[0m \u001B[38;5;28;01mfrom\u001B[39;00m \u001B[38;5;21;01mexamon\u001B[39;00m\u001B[38;5;21;01m.\u001B[39;00m\u001B[38;5;21;01mexamon\u001B[39;00m \u001B[38;5;28;01mimport\u001B[39;00m Client, ExamonQL\n\u001B[1;32m     14\u001B[0m \u001B[38;5;66;03m# Connect\u001B[39;00m\n",
      "\u001B[0;31mModuleNotFoundError\u001B[0m: No module named 'pandas'"
     ]
    }
   ]
  },
  {
   "cell_type": "markdown",
   "source": [
    "# ExaMon Plugins\n",
    "Plugins are components of ExaMon that collect or process data. Each plugin is specialized for a particular type of data or application. Consequently, in the case of collector-type plugins, they define a unique set of tags for the metrics exported to ExaMon. \n",
    "\n",
    "The `plugin` tag found in each ExaMon data is simply a namespace that defines metrics that have the same attributes (set of tags). Wanting to see things from a relational db (RDBMS) perspective, we can consider the metrics equivalent to *tables* that, in the context of the plugin, share the same schema.\n",
    "\n",
    "In conclusion, it should be always possible to collect data related to a given plugin in a normalized table having as columns the tag keys of the metrics it collects.\n",
    "\n",
    "To get started using the data contained in the ExaMon db, one option is to analyze the different sets of metrics collected by the various plugins. It is possible to use the `plugin` tag to identify the different groups of metrics in the ExaMon db."
   ],
   "metadata": {
    "id": "QNN2U2qtV2Zi"
   }
  },
  {
   "cell_type": "code",
   "source": [
    "df = sq.DESCRIBE(tag_key='plugin') \\\n",
    "    .execute()\n",
    "\n",
    "display(df)"
   ],
   "metadata": {
    "colab": {
     "base_uri": "https://localhost:8080/",
     "height": 426
    },
    "id": "BBzRsGBPV5Vp",
    "outputId": "13ae5ec5-ec19-46a2-e4c9-11bc346dfe47",
    "ExecuteTime": {
     "end_time": "2023-12-03T19:36:15.810523Z",
     "start_time": "2023-12-03T19:36:15.808757Z"
    }
   },
   "execution_count": null,
   "outputs": []
  },
  {
   "cell_type": "markdown",
   "source": [
    "**NOTE:** In this report, we focus only on plugins that collect data from the Marconi 100 cluster of Cineca. The inner details of the operation of each plugin are omitted in favor of the data description."
   ],
   "metadata": {
    "id": "jHYUNJprJ2MG"
   }
  },
  {
   "cell_type": "markdown",
   "source": [
    "## Ganglia\n",
    "The [Ganglia](http://ganglia.sourceforge.net/) plugin connects to the Ganglia server (gmond), collects and translates the data payload (XML) to the ExaMon data model.\n"
   ],
   "metadata": {
    "id": "Autn6PA9Vjsk"
   }
  },
  {
   "cell_type": "code",
   "source": [
    "# Query of all metrics (a.k.a. tables) collected by the ganglia plugin\n",
    "\n",
    "df = sq.DESCRIBE(tag_key='plugin', tag_value='ganglia_pub') \\\n",
    "    .execute()\n",
    "\n",
    "display(df)"
   ],
   "metadata": {
    "colab": {
     "base_uri": "https://localhost:8080/",
     "height": 569
    },
    "id": "rbMVqUlPVqzz",
    "outputId": "8b556700-a795-4a85-9124-86491909021d",
    "ExecuteTime": {
     "start_time": "2023-12-03T19:36:15.810462Z"
    }
   },
   "execution_count": null,
   "outputs": []
  },
  {
   "cell_type": "code",
   "source": [
    "# Query of all attributes (keys and values) of a specific metric\n",
    "#\n",
    "# RDBMS analogy:\n",
    "# tag key = table column name\n",
    "# tag values = table column values\n",
    "\n",
    "df = sq.DESCRIBE(metric='Gpu0_gpu_temp') \\\n",
    "    .execute()\n",
    "\n",
    "display(df)"
   ],
   "metadata": {
    "colab": {
     "base_uri": "https://localhost:8080/",
     "height": 363
    },
    "cellView": "code",
    "id": "j3PFc_QCY4sc",
    "outputId": "75ce77e6-e314-4069-a926-c65d4f7999f3",
    "ExecuteTime": {
     "start_time": "2023-12-03T19:36:15.811751Z"
    }
   },
   "execution_count": null,
   "outputs": []
  },
  {
   "cell_type": "markdown",
   "source": [
    "Some tags that are specific to this plugin are:\n",
    "\n",
    "\n",
    "*   `gcluster`: cluster where the Ganglia server is collecting the data\n",
    "*   `group`: label used by Ganglia to define sets of similar metrics\n",
    "\n",
    "\n",
    "\n"
   ],
   "metadata": {
    "id": "0madUePDQqJB"
   }
  },
  {
   "cell_type": "code",
   "source": [
    "# All the possible values of a given tag key\n",
    "#\n",
    "# For example, we are interested in knowing all the possible \"group\"s of metric\n",
    "# configured in the Ganglia instance \n",
    "\n",
    "df = sq.DESCRIBE(tag_key='group') \\\n",
    "    .execute()\n",
    "\n",
    "display(df)"
   ],
   "metadata": {
    "colab": {
     "base_uri": "https://localhost:8080/",
     "height": 645
    },
    "id": "EBEBc-k2kKVz",
    "outputId": "de0d5a2e-026e-4334-8f48-0a6dbf2989ee",
    "ExecuteTime": {
     "start_time": "2023-12-03T19:36:15.812886Z"
    }
   },
   "execution_count": null,
   "outputs": []
  },
  {
   "cell_type": "code",
   "source": [
    "# ...and consequently the Ganglia metrics that belong to a specific group:\n",
    "\n",
    "df = sq.DESCRIBE(tag_key='group', tag_value='gpu') \\\n",
    "    .execute()\n",
    "\n",
    "display(df)"
   ],
   "metadata": {
    "colab": {
     "base_uri": "https://localhost:8080/",
     "height": 526
    },
    "id": "Q0x5O_jikfUM",
    "outputId": "1d8d64a4-565b-41fe-db70-6036056f6b94",
    "ExecuteTime": {
     "start_time": "2023-12-03T19:36:15.814112Z"
    }
   },
   "execution_count": null,
   "outputs": []
  },
  {
   "cell_type": "markdown",
   "source": [
    "## IPMI\n",
    "The [IPMI](https://en.wikipedia.org/wiki/Intelligent_Platform_Management_Interface) plugin collects all the sensor data provided by the OOB management interface (BMC) of cluster nodes.\n"
   ],
   "metadata": {
    "id": "t1c8GO2Qq8LG"
   }
  },
  {
   "cell_type": "code",
   "source": [
    "# Query of all metrics collected by the IPMI plugin for all the clusters\n",
    "\n",
    "df = sq.DESCRIBE(tag_key='plugin', tag_value='ipmi_pub') \\\n",
    "    .execute()\n",
    "\n",
    "display(df)"
   ],
   "metadata": {
    "colab": {
     "base_uri": "https://localhost:8080/",
     "height": 655
    },
    "id": "nEeeOx8oq2cd",
    "outputId": "bcae3bc8-da19-47d7-bf22-90d6b488c205",
    "ExecuteTime": {
     "start_time": "2023-12-03T19:36:15.815356Z"
    }
   },
   "execution_count": null,
   "outputs": []
  },
  {
   "cell_type": "code",
   "source": [
    "# For example, if we only want to know metrics that relate to the ipmi collector of \n",
    "# Marconi 100:\n",
    "\n",
    "df = sq.DESCRIBE(tag_key='plugin', tag_value='ipmi_pub') \\\n",
    "    .DESCRIBE(tag_key='cluster', tag_value='marconi100') \\\n",
    "    .JOIN(how='inner') \\\n",
    "    .execute()\n",
    "\n",
    "display(df)"
   ],
   "metadata": {
    "colab": {
     "base_uri": "https://localhost:8080/",
     "height": 224
    },
    "id": "Zm7aHD89r9i1",
    "outputId": "e97c5851-c5d2-4675-9726-ea0f353bc8c4",
    "ExecuteTime": {
     "start_time": "2023-12-03T19:36:15.816490Z"
    }
   },
   "execution_count": null,
   "outputs": []
  },
  {
   "cell_type": "code",
   "source": [
    "# If you are not sure, to obtain the list of eligible \"tag_value\"s to use as \n",
    "# \"cluster\" filter: \n",
    "\n",
    "df = sq.DESCRIBE(tag_key='cluster') \\\n",
    "    .execute()\n",
    "\n",
    "print('Eligible \"cluster\" tag values:')\n",
    "display(df)"
   ],
   "metadata": {
    "colab": {
     "base_uri": "https://localhost:8080/",
     "height": 286
    },
    "outputId": "f39dd829-f3b8-44ae-e669-bf3900e8ae20",
    "id": "KVWcD7BZvUGR",
    "ExecuteTime": {
     "start_time": "2023-12-03T19:36:15.817635Z"
    }
   },
   "execution_count": null,
   "outputs": []
  },
  {
   "cell_type": "code",
   "source": [
    "# Query of all attributes (keys and values) of a specific metric\n",
    "\n",
    "df = sq.DESCRIBE(metric='total_power') \\\n",
    "    .execute()\n",
    "\n",
    "display(df)"
   ],
   "metadata": {
    "colab": {
     "base_uri": "https://localhost:8080/",
     "height": 300
    },
    "id": "u_i-osVMraBJ",
    "outputId": "39d2951d-9c2a-4cd1-d6be-916aeb19ec54",
    "ExecuteTime": {
     "start_time": "2023-12-03T19:36:15.818801Z"
    }
   },
   "execution_count": null,
   "outputs": []
  },
  {
   "cell_type": "markdown",
   "source": [
    "**NOTE:** `rack` and `slot`, if defined, are convenience tags that are extracted from the hostname of the nodes, which is already collected in the `node` field. "
   ],
   "metadata": {
    "id": "h5nIU9kHTfAv"
   }
  },
  {
   "cell_type": "markdown",
   "source": [
    "## Nagios\n",
    "\n",
    "This plugin interfaces with a [Nagios](https://www.nagios.org/) extension developed by CINECA called [\"Hnagios\"](https://prace-ri.eu/wp-content/uploads/Design_Development_and_Improvement_of_Nagios_System_Monitoring_for_Large_Clusters.pdf), collects and translates the data payload to the ExaMon data model."
   ],
   "metadata": {
    "id": "IHuiZM96xUOB"
   }
  },
  {
   "cell_type": "code",
   "source": [
    "# Query of all metrics collected by the Nagios plugin for all the clusters\n",
    "\n",
    "df = sq.DESCRIBE(tag_key='plugin', tag_value='nagios_pub') \\\n",
    "    .execute()\n",
    "\n",
    "display(df)"
   ],
   "metadata": {
    "colab": {
     "base_uri": "https://localhost:8080/",
     "height": 143
    },
    "id": "evE6Ygu5xS-o",
    "outputId": "dc5e4a74-0d25-4db8-ca47-8aed9db8ccc1",
    "ExecuteTime": {
     "start_time": "2023-12-03T19:36:15.820126Z"
    }
   },
   "execution_count": null,
   "outputs": []
  },
  {
   "cell_type": "code",
   "source": [
    "# Query of all attributes (keys and values) of a specific metric\n",
    "\n",
    "df = sq.DESCRIBE(metric='plugin_output') \\\n",
    "    .execute()\n",
    "\n",
    "display(df)"
   ],
   "metadata": {
    "colab": {
     "base_uri": "https://localhost:8080/",
     "height": 426
    },
    "id": "i90NlUiXx_-b",
    "outputId": "c68ed221-1eda-41d7-87ea-b3453ef6e4b5",
    "ExecuteTime": {
     "start_time": "2023-12-03T19:36:15.821446Z"
    }
   },
   "execution_count": null,
   "outputs": []
  },
  {
   "cell_type": "markdown",
   "source": [
    "Some tags that are specific to this plugin are:\n",
    "\n",
    "\n",
    "*   `description`: it is the name of the entity (HW/SW) that is currently monitored by Nagios. It is defined as a hierarchy using `::` as a separator.\n",
    "*   `host_group`: label to define group of nodes sharing the same function.\n",
    "*   `nagiosdrained`: flag indicating that the node on which the specific alarm occurred was drained (placed offline) manually by an operator.\n",
    "*   `state`: number indicating the state of host or service when the event handler was run\n",
    "  *   Host events:\n",
    "      *   0=UP,1=DOWN,2=UNREACHABLE\n",
    "  *   Service events:\n",
    "      *   0=OK,1=WARNING,2=CRITICAL,3=UNKNOWN\n",
    "*   `state_type`:\n",
    "      *   0=SOFT,1=HARD\n",
    "\n",
    "\n",
    "\n",
    "\n",
    "\n",
    "\n"
   ],
   "metadata": {
    "id": "Eb8O-ctDV8-L"
   }
  },
  {
   "cell_type": "code",
   "source": [
    "# For example, we may be interested in all the entities monitored by nagios on \n",
    "# marconi100 and only for the 'compute' nodes\n",
    "\n",
    "ret = ex.query_metricstags('state', 'description', filt={'cluster':['marconi100'], 'host_group':['compute']})\n",
    "\n",
    "display(pd.DataFrame(ret))"
   ],
   "metadata": {
    "colab": {
     "base_uri": "https://localhost:8080/",
     "height": 582
    },
    "id": "AokY33Op4Nkc",
    "outputId": "8d410482-7bbc-46d6-db9d-ec8b72c8fecb",
    "ExecuteTime": {
     "start_time": "2023-12-03T19:36:15.822720Z"
    }
   },
   "execution_count": null,
   "outputs": []
  },
  {
   "cell_type": "code",
   "source": [
    "# For example, we may be interested in which Marconi 100 nodes are included in a \n",
    "# certain \"host_group\"\n",
    "\n",
    "# 1) list M100 \"host_group\"s\n",
    "ret = ex.query_metricstags('state', 'host_group', filt={'cluster':['marconi100']})\n",
    "\n",
    "display(pd.DataFrame(ret))"
   ],
   "metadata": {
    "colab": {
     "base_uri": "https://localhost:8080/",
     "height": 655
    },
    "id": "gm4L9egvENS0",
    "outputId": "14dd6122-1bcb-4b12-889a-f8a6a1cb3858",
    "ExecuteTime": {
     "start_time": "2023-12-03T19:36:15.824018Z"
    }
   },
   "execution_count": null,
   "outputs": []
  },
  {
   "cell_type": "code",
   "source": [
    "# 2) The \"management\" nodes of Marconi 100\n",
    "\n",
    "ret = ex.query_metricstags('state', 'node', filt={'cluster':['marconi100'],'host_group':['management']})\n",
    "\n",
    "display(pd.DataFrame(ret))"
   ],
   "metadata": {
    "colab": {
     "base_uri": "https://localhost:8080/",
     "height": 81
    },
    "id": "IKjd5LoKCkzO",
    "outputId": "00c57b03-d985-4380-9121-7ca4b261f0ec",
    "ExecuteTime": {
     "start_time": "2023-12-03T19:36:15.825545Z"
    }
   },
   "execution_count": null,
   "outputs": []
  },
  {
   "cell_type": "markdown",
   "source": [
    "## Weather\n",
    "This plugin collects all the weather data related to the Cineca facility location (Casalecchio di Reno) using an online open weather service  (https://openweathermap.org)."
   ],
   "metadata": {
    "id": "gurR46TWHDfG"
   }
  },
  {
   "cell_type": "code",
   "source": [
    "# Query of all metrics collected by the Weather plugin \n",
    "\n",
    "df = sq.DESCRIBE(tag_key='plugin', tag_value='weather_pub') \\\n",
    "    .execute()\n",
    "\n",
    "display(df)"
   ],
   "metadata": {
    "colab": {
     "base_uri": "https://localhost:8080/",
     "height": 363
    },
    "id": "7GPXTgOqHLPy",
    "outputId": "41f0e8bf-6663-4513-f61e-a81fb4540ff3",
    "ExecuteTime": {
     "start_time": "2023-12-03T19:36:15.826784Z"
    }
   },
   "execution_count": null,
   "outputs": []
  },
  {
   "cell_type": "code",
   "source": [
    "# Query of all attributes (keys and values) of a specific metric\n",
    "\n",
    "df = sq.DESCRIBE(metric='clouds') \\\n",
    "    .execute()\n",
    "\n",
    "display(df)"
   ],
   "metadata": {
    "colab": {
     "base_uri": "https://localhost:8080/",
     "height": 269
    },
    "id": "JaWPaiJkHdiB",
    "outputId": "2bc0436f-7e31-4808-e9af-20b70140c3ad",
    "ExecuteTime": {
     "start_time": "2023-12-03T19:36:15.827833Z"
    }
   },
   "execution_count": null,
   "outputs": []
  },
  {
   "cell_type": "markdown",
   "source": [
    "The `type` tag specifies the type of the requested metric:\n",
    "*   `current`: measured value\n",
    "*   `(hourly/daily)_forecast`: forecast at different time granularity"
   ],
   "metadata": {
    "id": "3_K8XyQWeq7r"
   }
  },
  {
   "cell_type": "markdown",
   "source": [
    "## Slurm\n",
    "The Slurm plugin (time series data) collects some aggragated data from the [Slurm Workload Manager](https://www.schedmd.com/) server of the Cineca clusters. \n",
    "\n",
    "**NOTE:** it is a work in progress and may have some inconsistencies.\n"
   ],
   "metadata": {
    "id": "V-4YEy1NKOD5"
   }
  },
  {
   "cell_type": "code",
   "source": [
    "# Query of all metrics collected by the Slurm plugin for all the clusters\n",
    "\n",
    "df = sq.DESCRIBE(tag_key='plugin', tag_value='slurm_pub') \\\n",
    "    .execute()\n",
    "\n",
    "display(df)"
   ],
   "metadata": {
    "colab": {
     "base_uri": "https://localhost:8080/",
     "height": 655
    },
    "id": "vUQxL0JzKFi-",
    "outputId": "f37627bc-e4aa-426b-81e6-8550c8b9f30f",
    "ExecuteTime": {
     "start_time": "2023-12-03T19:36:15.828574Z"
    }
   },
   "execution_count": null,
   "outputs": []
  },
  {
   "cell_type": "code",
   "source": [
    "# Query of all attributes (keys and values) of a specific metric\n",
    "\n",
    "df = sq.DESCRIBE(metric='s21.totals.total_nodes_alloc') \\\n",
    "    .execute()\n",
    "\n",
    "display(df)"
   ],
   "metadata": {
    "colab": {
     "base_uri": "https://localhost:8080/",
     "height": 238
    },
    "outputId": "c2f7a951-1391-49d4-b353-47f3078fe87d",
    "id": "2L97XFOiKn0B",
    "ExecuteTime": {
     "start_time": "2023-12-03T19:36:15.829358Z"
    }
   },
   "execution_count": null,
   "outputs": []
  },
  {
   "cell_type": "markdown",
   "source": [
    "The `partition` tag defines a logical subdivision (namely, the Slurm queue) of the cluster nodes.\n",
    "\n",
    "\n",
    "\n"
   ],
   "metadata": {
    "id": "FlaqeCeRhJ5T"
   }
  },
  {
   "cell_type": "markdown",
   "source": [
    "## Logics\n",
    "Logics is a data collection system already installed at Cineca. It is specialized for collecting power consumption data from equipment in the different rooms, typically using multimeters that communicate via [Modbus](https://modbus.org/) protocol. \n",
    "\n",
    "The ExaMon plugin dedicated to collecting this data interfaces to the Logics database (RDBMS) via its REST API. \n",
    "\n",
    "**NOTE:** Since the translation process is fully automated, the same inconsistencies present in the original db may result in the ExaMon database: e.g., metric names in the Italian language, units of measure as metric name, etc.\n"
   ],
   "metadata": {
    "id": "xOhS70-aNY0d"
   }
  },
  {
   "cell_type": "code",
   "source": [
    "# Query of all metrics collected by the Logics plugin \n",
    "\n",
    "df = sq.DESCRIBE(tag_key='plugin', tag_value='logics_pub') \\\n",
    "    .execute()\n",
    "\n",
    "display(df)"
   ],
   "metadata": {
    "colab": {
     "base_uri": "https://localhost:8080/",
     "height": 655
    },
    "id": "xqCtW_oKNwnn",
    "outputId": "8f1d27cb-2039-4d87-a14b-b0eacd7e2a49",
    "ExecuteTime": {
     "start_time": "2023-12-03T19:36:15.830061Z"
    }
   },
   "execution_count": null,
   "outputs": []
  },
  {
   "cell_type": "markdown",
   "source": [
    "The most interesting metrics are `Potenza` and `Potenza_attiva`, which refer to the power consumption measured by the various multimeters.\n",
    "\n",
    "Then there are other metrics derived from Logics such as `pue` and `Pue` that report the calculated PUE of the three computer rooms (F, N and M) of Cineca.\n",
    "\n",
    "Finally, other derived metrics are `Tot*`, `pit`, and `pt` which represent the total power consumption of different categories of equipment (CDZs, pumps, chillers, racks, ...) typically used in Logics for the PUE calculation."
   ],
   "metadata": {
    "id": "mQ6LZunT2vvq"
   }
  },
  {
   "cell_type": "code",
   "source": [
    "# Query of all attributes (keys and values) of a specific metric\n",
    "\n",
    "df = sq.DESCRIBE(metric='Potenza') \\\n",
    "    .execute()\n",
    "\n",
    "display(df)"
   ],
   "metadata": {
    "colab": {
     "base_uri": "https://localhost:8080/",
     "height": 332
    },
    "id": "QEv0dCxtOKRy",
    "outputId": "5f1c6e9d-4521-4fc7-bf5c-54026fd388fc",
    "ExecuteTime": {
     "start_time": "2023-12-03T19:36:15.830744Z"
    }
   },
   "execution_count": null,
   "outputs": []
  },
  {
   "cell_type": "code",
   "source": [
    "# Query of all attributes (keys and values) of a specific metric\n",
    "\n",
    "df = sq.DESCRIBE(metric='Potenza_attiva') \\\n",
    "    .execute()\n",
    "\n",
    "display(df)"
   ],
   "metadata": {
    "colab": {
     "base_uri": "https://localhost:8080/",
     "height": 332
    },
    "id": "_LB66IimR3Je",
    "outputId": "2ff310ff-7a69-424c-caf3-02ff707f0d08",
    "ExecuteTime": {
     "start_time": "2023-12-03T19:36:15.831461Z"
    }
   },
   "execution_count": null,
   "outputs": []
  },
  {
   "cell_type": "markdown",
   "source": [
    "The most representative tags of Logics metrics are:\n",
    "\n",
    "*  `panel`: the name of the electrical panel within the computer rooms\n",
    "*  `device`: the name of the device, connected to the panel, of which the multimeter measures the parameters."
   ],
   "metadata": {
    "id": "6dRnN8wF1au5"
   }
  },
  {
   "cell_type": "code",
   "source": [
    "# Example: list of panels for metric \"Potenza\"\n",
    "\n",
    "ret = ex.query_metricstags('Potenza', 'panel')\n",
    "\n",
    "display(pd.DataFrame(ret))"
   ],
   "metadata": {
    "colab": {
     "base_uri": "https://localhost:8080/",
     "height": 430
    },
    "id": "F_6-O5BuQH6G",
    "outputId": "bf42aaca-b563-4525-87b3-7201298e12c1",
    "ExecuteTime": {
     "start_time": "2023-12-03T19:36:15.832139Z"
    }
   },
   "execution_count": null,
   "outputs": []
  },
  {
   "cell_type": "code",
   "source": [
    "# Example: list of panels for metric \"Potenza_attiva\"\n",
    "\n",
    "ret = ex.query_metricstags('Potenza_attiva', 'panel')\n",
    "\n",
    "display(pd.DataFrame(ret))"
   ],
   "metadata": {
    "colab": {
     "base_uri": "https://localhost:8080/",
     "height": 193
    },
    "id": "QhIorW34REcT",
    "outputId": "b1e95ab0-e321-4770-bb79-0819de7695e3",
    "ExecuteTime": {
     "start_time": "2023-12-03T19:36:15.832792Z"
    }
   },
   "execution_count": null,
   "outputs": []
  },
  {
   "cell_type": "code",
   "source": [
    "# Example: list of \"device\"s connected to the \"panel\"s named \"f-a\" and \"f-c\" \n",
    "\n",
    "ret = ex.query_metricstags('Potenza', 'device', filt={'panel':['f-a','f-c']})\n",
    "\n",
    "display(pd.DataFrame(ret))"
   ],
   "metadata": {
    "colab": {
     "base_uri": "https://localhost:8080/",
     "height": 193
    },
    "id": "HQVyiN6IPLGE",
    "outputId": "e4a19c30-ba62-49d2-b2cb-259ea04904d4",
    "ExecuteTime": {
     "start_time": "2023-12-03T19:36:15.833483Z"
    }
   },
   "execution_count": null,
   "outputs": []
  },
  {
   "cell_type": "code",
   "source": [
    "# For example, it may be of interest to understand what metrics are collected from \n",
    "# a given device\n",
    "\n",
    "df = sq.DESCRIBE(tag_key='plugin', tag_value='logics_pub') \\\n",
    "    .DESCRIBE(tag_key='device', tag_value='chiller1-1') \\\n",
    "    .JOIN(how='inner') \\\n",
    "    .execute()\n",
    "\n",
    "display(df)"
   ],
   "metadata": {
    "colab": {
     "base_uri": "https://localhost:8080/",
     "height": 426
    },
    "id": "CsvkwFPc5Mly",
    "outputId": "c9f1e023-a3a0-4f2b-8d9d-3566a900b3c3",
    "ExecuteTime": {
     "start_time": "2023-12-03T19:36:15.834183Z"
    }
   },
   "execution_count": null,
   "outputs": []
  },
  {
   "cell_type": "code",
   "source": [
    "# For example, we can plot some of these metrics for the given device ('chiller1-1')\n",
    "\n",
    "%matplotlib inline\n",
    "\n",
    "metrics = ['Potenza','Fattore_di_potenza','Tensione','Corrente','Stato']\n",
    "\n",
    "df_list = (sq.SELECT('*') \n",
    "      .FROM(metric) \n",
    "      .WHERE(device='chiller1-1')\n",
    "      .TSTART(7, 'days')\n",
    "      .AGGRBY('avg', sampling_value=1, sampling_unit='minutes', align_sampling=True)\n",
    "      .execute().df_table for metric in metrics)\n",
    "\n",
    "ex.df_table = pd.concat(df_list)\n",
    "ex.to_series(flat_index=True, interp='time', dropna=True, columns=['name'])\n",
    "ex.df_ts.plot(figsize=[30,12], subplots=True);"
   ],
   "metadata": {
    "colab": {
     "base_uri": "https://localhost:8080/",
     "height": 688
    },
    "id": "lnYhOFus72hu",
    "outputId": "1b6c2c2e-4825-404a-8b9c-af40fa103c40",
    "ExecuteTime": {
     "start_time": "2023-12-03T19:36:15.834821Z"
    }
   },
   "execution_count": null,
   "outputs": []
  },
  {
   "cell_type": "markdown",
   "source": [
    "## Schneider\n",
    "The Schneider plugin is a dedicated data collector designed to acquire data from an industrial PLC by accessing its HMI module (from [Schneider Electric](https://www.se.com/ww/en/product-category/2100-human-machine-interfaces-hmi/)).\n",
    "\n",
    "The PLC controls the valves and pumps of the liquid cooling circuit (RDHx) of Marconi 100. It consists of two (redundant) twin systems controllable by two identical HMI panels, Q101 and Q102.\n",
    "\n",
    "The examon plugin extracts and stores all the metrics available on both panels."
   ],
   "metadata": {
    "id": "wFkHmYaKTAE5"
   }
  },
  {
   "cell_type": "code",
   "source": [
    "# Query of all metrics collected by the Schneider plugin \n",
    "\n",
    "df = sq.DESCRIBE(tag_key='plugin', tag_value='schneider_pub') \\\n",
    "    .execute()\n",
    "\n",
    "display(df)"
   ],
   "metadata": {
    "colab": {
     "base_uri": "https://localhost:8080/",
     "height": 655
    },
    "id": "nkXdpJxbTD1h",
    "outputId": "e1140863-0579-4fb5-cd06-51d09c8745b0",
    "ExecuteTime": {
     "end_time": "2023-12-03T19:36:15.882099Z",
     "start_time": "2023-12-03T19:36:15.835441Z"
    }
   },
   "execution_count": null,
   "outputs": []
  },
  {
   "cell_type": "code",
   "source": [
    "# Query of all attributes (keys and values) of a specific metric\n",
    "\n",
    "df = sq.DESCRIBE(metric='PLC_PLC_Q101.Portata_1_hmi') \\\n",
    "    .execute()\n",
    "\n",
    "display(df)"
   ],
   "metadata": {
    "colab": {
     "base_uri": "https://localhost:8080/",
     "height": 236
    },
    "id": "XAYj2lQbRSIu",
    "outputId": "95fdeebe-be10-4b3b-c246-debbca7d9694",
    "ExecuteTime": {
     "start_time": "2023-12-03T19:36:15.836058Z"
    }
   },
   "execution_count": null,
   "outputs": []
  },
  {
   "cell_type": "markdown",
   "source": [
    "The tag `panel` is used to distinguish the metrics of the two panels (Q101 and Q102)."
   ],
   "metadata": {
    "id": "CdVCxYWPwKk8"
   }
  },
  {
   "cell_type": "markdown",
   "source": [
    "## Vertiv\n",
    "The [Vertiv](https://www.vertiv.com/en-emea/) plugin mainly collects data from the air-conditioning units (CDZ) located in room F (Marconi 100) of Cineca. \n",
    "\n",
    "The plugin uses the RESTful API interface available on the individual devices to extract the most interesting metrics."
   ],
   "metadata": {
    "id": "4qxeT-IuVphL"
   }
  },
  {
   "cell_type": "code",
   "source": [
    "# Query of all metrics collected by the Vertiv plugin\n",
    "\n",
    "df = sq.DESCRIBE(tag_key='plugin', tag_value='vertiv_pub') \\\n",
    "    .execute()\n",
    "\n",
    "display(df)"
   ],
   "metadata": {
    "colab": {
     "base_uri": "https://localhost:8080/",
     "height": 645
    },
    "id": "GP7DABEeVtI1",
    "outputId": "8bc68e77-5514-45fb-e18c-0eb41808e663",
    "ExecuteTime": {
     "start_time": "2023-12-03T19:36:15.836809Z"
    }
   },
   "execution_count": null,
   "outputs": []
  },
  {
   "cell_type": "code",
   "source": [
    "# Query of all attributes (keys and values) of a specific metric\n",
    "\n",
    "df = sq.DESCRIBE(metric='Supply_Air_Temperature') \\\n",
    "    .execute()\n",
    "\n",
    "display(df)"
   ],
   "metadata": {
    "colab": {
     "base_uri": "https://localhost:8080/",
     "height": 300
    },
    "id": "QLUFwAv9V8lR",
    "outputId": "c5cde87c-ca06-4022-a5cb-5ac13426dda9",
    "ExecuteTime": {
     "start_time": "2023-12-03T19:36:15.837501Z"
    }
   },
   "execution_count": null,
   "outputs": []
  },
  {
   "cell_type": "markdown",
   "source": [
    "The tag `device` is used to distinguish the metrics of the different CDZs (cdz1-6).\n",
    "\n",
    "\n",
    "\n",
    "\n"
   ],
   "metadata": {
    "id": "hSf5AVxzqyH1"
   }
  },
  {
   "cell_type": "code",
   "source": [
    "# For example, we can plot some of these metrics for all the CDZs.\n",
    "\n",
    "%matplotlib inline\n",
    "\n",
    "metrics = ['Supply_Air_Temperature','Return_Air_Temperature']\n",
    "\n",
    "df_list = (sq.SELECT('device') \n",
    "      .FROM(metric) \n",
    "      .TSTART(30, 'days')\n",
    "      .AGGRBY('avg', sampling_value=10, sampling_unit='minutes', align_sampling=True)\n",
    "      .execute().df_table for metric in metrics)\n",
    "\n",
    "ex.df_table = pd.concat(df_list)\n",
    "ex.to_series(flat_index=True, interp='time', dropna=True, columns=['device','name'])\n",
    "ax = ex.df_ts.plot(figsize=[30,12], subplots=True, layout=(6,2));\n",
    "for x in ax.reshape(-1):\n",
    "  x.set_ylim(15, 32)\n",
    "  x.set_ylabel('°C')"
   ],
   "metadata": {
    "colab": {
     "base_uri": "https://localhost:8080/",
     "height": 677
    },
    "outputId": "8b7389e0-af6f-4e9d-92ed-3c6533b10605",
    "id": "3k15IkH73ZeY",
    "ExecuteTime": {
     "start_time": "2023-12-03T19:36:15.838119Z"
    }
   },
   "execution_count": null,
   "outputs": []
  },
  {
   "cell_type": "markdown",
   "source": [
    "\n",
    "\n",
    "---\n",
    "\n"
   ],
   "metadata": {
    "id": "TcjzKjdrL813"
   }
  }
 ]
}
