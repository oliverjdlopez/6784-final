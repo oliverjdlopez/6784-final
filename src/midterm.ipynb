{
 "cells": [
  {
   "cell_type": "code",
   "execution_count": 1,
   "id": "initial_id",
   "metadata": {
    "collapsed": true,
    "ExecuteTime": {
     "end_time": "2023-12-03T16:41:45.711389665Z",
     "start_time": "2023-12-03T16:41:41.056436674Z"
    }
   },
   "outputs": [],
   "source": [
    "import pandas\n",
    "%reset -f\n",
    "\n",
    "import sys\n",
    "sys.path.append(\"../data/exadata/parquet_dataset/query_tool\")\n",
    "\n",
    "from toolz import pipe\n",
    "import pandas as pd\n",
    "import numpy as np\n",
    "import datetime\n",
    "from sklearn.linear_model import LinearRegression\n",
    "from query_tool import M100DataClient\n",
    "from matplotlib import pyplot as plt\n",
    "from model import DynamicsLearner\n",
    "\n",
    "dataset_path = \"../data/m100\"\n",
    "client = M100DataClient(dataset_path)\n",
    "\n"
   ]
  },
  {
   "cell_type": "code",
   "execution_count": null,
   "outputs": [
    {
     "name": "stdout",
     "output_type": "stream",
     "text": [
      "Retrieving data of type: float\n",
      "Retrieving data of type: float\n",
      "Retrieving data of type: int32\n"
     ]
    }
   ],
   "source": [
    "\"\"\"Cell purpose: pull desired features from plugins\"\"\"\n",
    "\n",
    "#vertiv plugin collects data for AC cooling \n",
    "vertiv_df = client.query([\"Supply_Air_Temperature\", \"Return_Air_Temperature\"],\n",
    "                  columns=['timestamp','value'],\n",
    "                  year_month=[\"22-02\"])\n",
    "vertiv_df = vertiv_df.rename(columns = {\"value\": \"air_temp\" })\n",
    "\n",
    "\n",
    "\n",
    "#ipmi pluging collects physical/hardware properties of nodes\n",
    "\n",
    "ipmi_df = client.query([\"ambient\", \"gpu0_core_temp\", \"p0_core0_temp\"], #starting with just one core for each, work out indexing deal later\n",
    "                  columns=['timestamp', \"node\", 'value'],\n",
    "                  year_month=[\"22-02\"])\n",
    "ipmi_df = ipmi_df.rename(columns = {\"value\": \"ambient_temp\" }).iloc[:101000]\n",
    "\n",
    "# #ganglia collects metrics on utilization of hardware\n",
    "# ganglia_df = client.query([\"load_fifteen\"],\n",
    "#                   columns=['timestamp', \"node\", 'value'],\n",
    "#                   year_month=[\"22-02\"])\n",
    "#logics collects power consumption data from equipment and devices\n",
    "# logics_df = client.query([\"Tot\"],\n",
    "#                   columns=['timestamp', \"node\", 'value'],\n",
    "#                   year_month=[\"22-02\"])\n",
    "\n",
    "#schneider collects data on liquid cooling system\n",
    "# schneider_df = client.query([\"Tot\"],\n",
    "#                   columns=['timestamp', \"node\", 'value'],\n",
    "#                   year_month=[\"22-02\"])\n",
    "\n",
    "#weather data\n",
    "weather_df = client.query([\"temp\"],\n",
    "                  columns=['timestamp', \"node\", 'value'],\n",
    "                  year_month=[\"22-02\"])\n",
    "\n"
   ],
   "metadata": {
    "collapsed": false,
    "is_executing": true,
    "ExecuteTime": {
     "start_time": "2023-12-03T16:41:45.718440582Z"
    }
   },
   "id": "22578a71535bd1bf"
  },
  {
   "cell_type": "code",
   "execution_count": null,
   "outputs": [],
   "source": [
    "# dfs = [weather_df, schneider_df, logics_df, ganglia_df, ipmi_df, vertiv_df]\n",
    "dfs = [ipmi_df, vertiv_df, weather_df]\n",
    "for d in dfs:\n",
    "    print(d.shape)\n",
    "    print(d.head(3))"
   ],
   "metadata": {
    "collapsed": false,
    "is_executing": true
   },
   "id": "176c98e2cc36cbe1"
  },
  {
   "cell_type": "code",
   "execution_count": null,
   "outputs": [],
   "source": [
    "\"\"\"Cell purpose: preprocess and/or merge data as desired\"\"\"\n",
    "df = dfs[0].join(dfs[1:])\n",
    "# print(merged_df[\"timestamp\"].astype(np.int64) * 10e-9)\n",
    "# merge_df[\"timestamp\"] = merge_df[\"timestamp\"].apply(lambda ts: ts.as_unit(\"ns\"))\n",
    "merged_df.shape\n",
    "train_df = merged_df[:-100]\n",
    "test_df = merged_df[-100:]"
   ],
   "metadata": {
    "collapsed": false,
    "is_executing": true
   },
   "id": "6b1733a0c94ce8c0"
  },
  {
   "cell_type": "code",
   "execution_count": null,
   "outputs": [],
   "source": [
    "\"\"\"Cell purpose: train\"\"\"\n",
    "model = LinearRegression().fit(merged_df[\"air_temp\"].to_numpy().reshape(-1,1), merged_df[\"ambient_temp\"].to_numpy().reshape(-1,1))"
   ],
   "metadata": {
    "collapsed": false,
    "is_executing": true
   },
   "id": "da89ca240a6e4c2b"
  },
  {
   "cell_type": "code",
   "execution_count": null,
   "outputs": [],
   "source": [
    "\"\"\"Cell purpose: inference\"\"\"\n",
    "preds = model.predict(test_df[\"air_temp\"].to_numpy().reshape(-1,1))\n"
   ],
   "metadata": {
    "collapsed": false,
    "is_executing": true
   },
   "id": "118a70fbe9449cf1"
  },
  {
   "cell_type": "code",
   "execution_count": null,
   "outputs": [],
   "source": [
    "\"\"\"Cell purpose: benchmarking\"\"\"\n",
    "\n",
    "labels = test_df[\"ambient_temp\"].to_numpy().reshape(-1,1)\n",
    "\n",
    "\n",
    "timesteps = [t for t in range(preds.shape[0])]\n",
    "colors = iter(plt.cm.rainbow(np.linspace(0, 0.5, 2)))\n",
    "plt.scatter(preds, labels, c=[\"blue\", \"red\"])\n",
    "\n",
    "plt.legend(loc=\"upper left\")\n",
    "plt.xlabel(\"Time\")\n",
    "plt.ylabel(\"Ambient temperature\")\n",
    "plt.grid()\n",
    "plt.show()\n",
    "\n"
   ],
   "metadata": {
    "collapsed": false,
    "is_executing": true
   },
   "id": "46493ce89db187d0"
  },
  {
   "cell_type": "code",
   "execution_count": null,
   "outputs": [],
   "source": [
    "\"\"\n"
   ],
   "metadata": {
    "collapsed": false,
    "is_executing": true
   },
   "id": "8ca995608b0b8e6c"
  }
 ],
 "metadata": {
  "kernelspec": {
   "display_name": "Python 3",
   "language": "python",
   "name": "python3"
  },
  "language_info": {
   "codemirror_mode": {
    "name": "ipython",
    "version": 2
   },
   "file_extension": ".py",
   "mimetype": "text/x-python",
   "name": "python",
   "nbconvert_exporter": "python",
   "pygments_lexer": "ipython2",
   "version": "2.7.6"
  }
 },
 "nbformat": 4,
 "nbformat_minor": 5
}
