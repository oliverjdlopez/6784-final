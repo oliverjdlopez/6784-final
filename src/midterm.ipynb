{
 "cells": [
  {
   "cell_type": "code",
   "execution_count": 5,
   "id": "initial_id",
   "metadata": {
    "collapsed": true,
    "ExecuteTime": {
     "end_time": "2023-12-04T06:34:18.023491093Z",
     "start_time": "2023-12-04T06:34:17.647885686Z"
    }
   },
   "outputs": [],
   "source": [
    "import pandas\n",
    "%reset -f\n",
    "\n",
    "import sys\n",
    "sys.path.append(\"../data/exadata/parquet_dataset/query_tool\")\n",
    "\n",
    "from toolz import pipe\n",
    "import pandas as pd\n",
    "import numpy as np\n",
    "import datetime\n",
    "import torch\n",
    "from torch.utils.data import Dataset\n",
    "from sklearn.linear_model import LinearRegression\n",
    "from query_tool import M100DataClient\n",
    "from matplotlib import pyplot as plt\n",
    "from models import LinearNN, StateEstimator\n",
    "\n",
    "dataset_path = \"../data/m100\"\n",
    "client = M100DataClient(dataset_path)\n",
    "\n"
   ]
  },
  {
   "cell_type": "code",
   "execution_count": 1,
   "outputs": [
    {
     "ename": "NameError",
     "evalue": "name 'pd' is not defined",
     "output_type": "error",
     "traceback": [
      "\u001B[0;31m---------------------------------------------------------------------------\u001B[0m",
      "\u001B[0;31mNameError\u001B[0m                                 Traceback (most recent call last)",
      "Cell \u001B[0;32mIn[1], line 29\u001B[0m\n\u001B[1;32m     27\u001B[0m ipmi_features \u001B[38;5;241m=\u001B[39m [\u001B[38;5;124m\"\u001B[39m\u001B[38;5;124mambient\u001B[39m\u001B[38;5;124m\"\u001B[39m, \u001B[38;5;124m\"\u001B[39m\u001B[38;5;124mgpu0_core_temp\u001B[39m\u001B[38;5;124m\"\u001B[39m, \u001B[38;5;124m\"\u001B[39m\u001B[38;5;124mp0_core0_temp\u001B[39m\u001B[38;5;124m\"\u001B[39m]\n\u001B[1;32m     28\u001B[0m ipmi_columns \u001B[38;5;241m=\u001B[39m [\u001B[38;5;124m\"\u001B[39m\u001B[38;5;124mtimestamp\u001B[39m\u001B[38;5;124m\"\u001B[39m, \u001B[38;5;124m\"\u001B[39m\u001B[38;5;124mnode\u001B[39m\u001B[38;5;124m\"\u001B[39m, \u001B[38;5;124m\"\u001B[39m\u001B[38;5;124mvalue\u001B[39m\u001B[38;5;124m\"\u001B[39m]\n\u001B[0;32m---> 29\u001B[0m ipmi_df \u001B[38;5;241m=\u001B[39m \u001B[43mextract_features\u001B[49m\u001B[43m(\u001B[49m\u001B[43mipmi_features\u001B[49m\u001B[43m,\u001B[49m\u001B[43m \u001B[49m\u001B[43mn_rows\u001B[49m\u001B[43m,\u001B[49m\u001B[43m \u001B[49m\u001B[43mipmi_columns\u001B[49m\u001B[43m,\u001B[49m\u001B[43m \u001B[49m\u001B[43myear_month\u001B[49m\u001B[43m)\u001B[49m\n\u001B[1;32m     30\u001B[0m \u001B[38;5;66;03m# #ganglia collects metrics on utilization of hardware\u001B[39;00m\n\u001B[1;32m     31\u001B[0m \u001B[38;5;66;03m# ganglia_df = client.query([\"load_fifteen\"],\u001B[39;00m\n\u001B[1;32m     32\u001B[0m \u001B[38;5;66;03m#                   columns=['timestamp', \"node\", 'value'],\u001B[39;00m\n\u001B[0;32m   (...)\u001B[0m\n\u001B[1;32m     47\u001B[0m \u001B[38;5;66;03m#                   columns=['timestamp', 'value'],\u001B[39;00m\n\u001B[1;32m     48\u001B[0m \u001B[38;5;66;03m#                   year_month=[\"22-02\"])\u001B[39;00m\n\u001B[1;32m     51\u001B[0m ipmi_df\u001B[38;5;241m.\u001B[39mhead()\n",
      "Cell \u001B[0;32mIn[1], line 5\u001B[0m, in \u001B[0;36mextract_features\u001B[0;34m(feature_list, n_rows, columns, year_month)\u001B[0m\n\u001B[1;32m      4\u001B[0m \u001B[38;5;28;01mdef\u001B[39;00m \u001B[38;5;21mextract_features\u001B[39m(feature_list, n_rows, columns, year_month):\n\u001B[0;32m----> 5\u001B[0m     df \u001B[38;5;241m=\u001B[39m \u001B[43mpd\u001B[49m\u001B[38;5;241m.\u001B[39mDataFrame()\n\u001B[1;32m      6\u001B[0m     \u001B[38;5;28;01mfor\u001B[39;00m f \u001B[38;5;129;01min\u001B[39;00m feature_list: \n\u001B[1;32m      7\u001B[0m         d \u001B[38;5;241m=\u001B[39m client\u001B[38;5;241m.\u001B[39mquery(f, \n\u001B[1;32m      8\u001B[0m                       columns\u001B[38;5;241m=\u001B[39mcolumns,\n\u001B[1;32m      9\u001B[0m                       year_month\u001B[38;5;241m=\u001B[39myear_month)\n",
      "\u001B[0;31mNameError\u001B[0m: name 'pd' is not defined"
     ]
    }
   ],
   "source": [
    "\"\"\"Cell purpose: pull desired features from plugins\"\"\"\n",
    "\n",
    "#For now I think it's necessary to do it this way because of memory issues\n",
    "def extract_features(feature_list, n_rows, columns, year_month):\n",
    "    df = pd.DataFrame()\n",
    "    for f in feature_list: \n",
    "        d = client.query(f, \n",
    "                      columns=columns,\n",
    "                      year_month=year_month)\n",
    "        selected_rows = d if df.shape[0] < n_rows else d[:n_rows] #could alos randomnly sample from df\n",
    "        df = pd.concat([df,selected_rows]).pivot(index=\"timestamp\", columns=\"node\")\n",
    "        print(df)\n",
    "        print(pd.concat([df,selected_rows]).pivot(index=\"timestamp\", columns=\"node\", values=\"value\"))\n",
    "        del d; del selected_rows #save memory. Gc might handle on its own but idk, doesn't hurt\n",
    "    return df\n",
    "\n",
    "n_rows = 50\n",
    "year_month = [\"22-02\"]\n",
    "#vertiv plugin collects data for AC cooling \n",
    "# vertiv_df = client.query([\"Supply_Air_Temperature\", \"Return_Air_Temperature\"],\n",
    "#                   columns=['timestamp','value'],\n",
    "#                   year_month=[\"22-02\"])\n",
    "\n",
    "\n",
    "\n",
    "#ipmi pluging collects physical/hardware properties of nodes\n",
    "ipmi_features = [\"ambient\", \"gpu0_core_temp\", \"p0_core0_temp\"]\n",
    "ipmi_columns = [\"timestamp\", \"node\", \"value\"]\n",
    "ipmi_df = extract_features(ipmi_features, n_rows, ipmi_columns, year_month)\n",
    "# #ganglia collects metrics on utilization of hardware\n",
    "# ganglia_df = client.query([\"load_fifteen\"],\n",
    "#                   columns=['timestamp', \"node\", 'value'],\n",
    "#                   year_month=[\"22-02\"])\n",
    "\n",
    "# logics collects power consumption data from equipment and devices\n",
    "# logics_df = client.query([\"Tot\"],\n",
    "#                   columns=['timestamp', \"device\", \"panel\", 'value'],\n",
    "#                   year_month=[\"22-02\"])\n",
    "\n",
    "#schneider collects data on liquid cooling system\n",
    "# schneider_df = client.query([\"Tot\"],\n",
    "#                   columns=['timestamp', \"node\", 'value'],\n",
    "#                   year_month=[\"22-02\"])\n",
    "\n",
    "#weather data\n",
    "# weather_df = client.query([\"temp\"],\n",
    "#                   columns=['timestamp', 'value'],\n",
    "#                   year_month=[\"22-02\"])\n",
    "\n",
    "\n",
    "ipmi_df.head()\n"
   ],
   "metadata": {
    "collapsed": false,
    "ExecuteTime": {
     "end_time": "2023-12-04T06:36:52.681476078Z",
     "start_time": "2023-12-04T06:36:52.254230502Z"
    }
   },
   "id": "22578a71535bd1bf"
  },
  {
   "cell_type": "code",
   "execution_count": 5,
   "outputs": [
    {
     "name": "stdout",
     "output_type": "stream",
     "text": [
      "(118500161, 3)\n",
      "                  timestamp node  value\n",
      "0 2022-02-07 18:56:20+00:00   44   16.6\n",
      "1 2022-02-07 18:56:40+00:00   44   16.6\n",
      "2 2022-02-07 18:57:00+00:00   44   16.4\n",
      "(2297640, 2)\n",
      "                  timestamp      value\n",
      "0 2022-02-26 23:00:00+00:00  24.299999\n",
      "1 2022-02-26 23:00:00+00:00  24.200001\n",
      "2 2022-02-26 23:00:00+00:00  22.799999\n",
      "(3400, 3)\n",
      "                  timestamp node  value\n",
      "0 2022-02-27 23:10:10+00:00  NaN   5.08\n",
      "1 2022-02-27 23:30:00+00:00  NaN   4.79\n",
      "2 2022-02-27 23:40:00+00:00  NaN   4.43\n"
     ]
    }
   ],
   "source": [
    "# dfs = [weather_df, schneider_df, logics_df, ganglia_df, ipmi_df, vertiv_df]\n",
    "# plugin_dfs = [ipmi_df, vertiv_df, weather_df]\n",
    "plugin_dfs = [ipmi_df]\n",
    "for d in plugin_dfs:\n",
    "    print(d.shape)\n",
    "    print(d.pivot(index=\"timestamp\").head(3))"
   ],
   "metadata": {
    "collapsed": false,
    "ExecuteTime": {
     "end_time": "2023-12-03T19:55:45.641602091Z",
     "start_time": "2023-12-03T19:55:45.607364769Z"
    }
   },
   "id": "176c98e2cc36cbe1"
  },
  {
   "cell_type": "code",
   "execution_count": 6,
   "outputs": [
    {
     "data": {
      "text/plain": "                  timestamp node  value\n0 2022-02-07 18:56:20+00:00   44   16.6\n1 2022-02-07 18:56:40+00:00   44   16.6\n2 2022-02-07 18:57:00+00:00   44   16.4\n3 2022-02-07 18:57:20+00:00   44   16.4\n4 2022-02-07 18:57:40+00:00   44   16.4\n5 2022-02-07 18:58:00+00:00   44   16.4\n6 2022-02-07 18:58:20+00:00   44   16.4\n7 2022-02-07 18:58:40+00:00   44   16.4\n8 2022-02-07 18:59:00+00:00   44   16.4\n9 2022-02-07 18:59:20+00:00   44   16.4",
      "text/html": "<div>\n<style scoped>\n    .dataframe tbody tr th:only-of-type {\n        vertical-align: middle;\n    }\n\n    .dataframe tbody tr th {\n        vertical-align: top;\n    }\n\n    .dataframe thead th {\n        text-align: right;\n    }\n</style>\n<table border=\"1\" class=\"dataframe\">\n  <thead>\n    <tr style=\"text-align: right;\">\n      <th></th>\n      <th>timestamp</th>\n      <th>node</th>\n      <th>value</th>\n    </tr>\n  </thead>\n  <tbody>\n    <tr>\n      <th>0</th>\n      <td>2022-02-07 18:56:20+00:00</td>\n      <td>44</td>\n      <td>16.6</td>\n    </tr>\n    <tr>\n      <th>1</th>\n      <td>2022-02-07 18:56:40+00:00</td>\n      <td>44</td>\n      <td>16.6</td>\n    </tr>\n    <tr>\n      <th>2</th>\n      <td>2022-02-07 18:57:00+00:00</td>\n      <td>44</td>\n      <td>16.4</td>\n    </tr>\n    <tr>\n      <th>3</th>\n      <td>2022-02-07 18:57:20+00:00</td>\n      <td>44</td>\n      <td>16.4</td>\n    </tr>\n    <tr>\n      <th>4</th>\n      <td>2022-02-07 18:57:40+00:00</td>\n      <td>44</td>\n      <td>16.4</td>\n    </tr>\n    <tr>\n      <th>5</th>\n      <td>2022-02-07 18:58:00+00:00</td>\n      <td>44</td>\n      <td>16.4</td>\n    </tr>\n    <tr>\n      <th>6</th>\n      <td>2022-02-07 18:58:20+00:00</td>\n      <td>44</td>\n      <td>16.4</td>\n    </tr>\n    <tr>\n      <th>7</th>\n      <td>2022-02-07 18:58:40+00:00</td>\n      <td>44</td>\n      <td>16.4</td>\n    </tr>\n    <tr>\n      <th>8</th>\n      <td>2022-02-07 18:59:00+00:00</td>\n      <td>44</td>\n      <td>16.4</td>\n    </tr>\n    <tr>\n      <th>9</th>\n      <td>2022-02-07 18:59:20+00:00</td>\n      <td>44</td>\n      <td>16.4</td>\n    </tr>\n  </tbody>\n</table>\n</div>"
     },
     "execution_count": 6,
     "metadata": {},
     "output_type": "execute_result"
    }
   ],
   "source": [
    "\"\"\"Cell purpose: preprocess and/or merge data as desired\"\"\"\n",
    "df = pd.concat(plugin_dfs)\n",
    "# print(merged_df[\"timestamp\"].astype(np.int64) * 10e-9)\n",
    "# merge_df[\"timestamp\"] = merge_df[\"timestamp\"].apply(lambda ts: ts.as_unit(\"ns\"))\n",
    "df.head(10)"
   ],
   "metadata": {
    "collapsed": false,
    "ExecuteTime": {
     "end_time": "2023-12-03T19:55:51.174780417Z",
     "start_time": "2023-12-03T19:55:48.729100569Z"
    }
   },
   "id": "6b1733a0c94ce8c0"
  },
  {
   "cell_type": "code",
   "execution_count": null,
   "outputs": [],
   "source": [
    "# Will have to make work with timestamp indexign later\n",
    "# class M100Data(Dataset):\n",
    "#     def __init__(self, df, transform = None, label_transform = None):\n",
    "#         self.df = df\n",
    "#         self.transform = transform\n",
    "# \n",
    "#     def __len__(self):\n",
    "#         return len(self.df.shape[0])\n",
    "# \n",
    "#     def __getitem__(self, idx):\n",
    "#         return feat, label\n",
    "    \n",
    "    "
   ],
   "metadata": {
    "collapsed": false
   },
   "id": "4a17ace650982f45"
  },
  {
   "cell_type": "code",
   "execution_count": null,
   "outputs": [],
   "source": [
    "\"\"\"Cell purpose: train\"\"\"\n",
    "model = LinearRegression().fit(merged_df[\"air_temp\"].to_numpy().reshape(-1,1), merged_df[\"ambient_temp\"].to_numpy().reshape(-1,1))"
   ],
   "metadata": {
    "collapsed": false,
    "is_executing": true
   },
   "id": "da89ca240a6e4c2b"
  },
  {
   "cell_type": "code",
   "execution_count": null,
   "outputs": [],
   "source": [
    "\"\"\"Cell purpose: inference\"\"\"\n",
    "preds = model.predict(test_df[\"air_temp\"].to_numpy().reshape(-1,1))\n"
   ],
   "metadata": {
    "collapsed": false,
    "is_executing": true
   },
   "id": "118a70fbe9449cf1"
  },
  {
   "cell_type": "code",
   "execution_count": null,
   "outputs": [],
   "source": [
    "\"\"\"Cell purpose: benchmarking\"\"\"\n",
    "\n",
    "labels = test_df[\"ambient_temp\"].to_numpy().reshape(-1,1)\n",
    "\n",
    "\n",
    "timesteps = [t for t in range(preds.shape[0])]\n",
    "colors = iter(plt.cm.rainbow(np.linspace(0, 0.5, 2)))\n",
    "plt.scatter(preds, labels, c=[\"blue\", \"red\"])\n",
    "\n",
    "plt.legend(loc=\"upper left\")\n",
    "plt.xlabel(\"Time\")\n",
    "plt.ylabel(\"Ambient temperature\")\n",
    "plt.grid()\n",
    "plt.show()\n",
    "\n"
   ],
   "metadata": {
    "collapsed": false,
    "is_executing": true
   },
   "id": "46493ce89db187d0"
  },
  {
   "cell_type": "code",
   "execution_count": null,
   "outputs": [],
   "source": [
    "\"\"\n"
   ],
   "metadata": {
    "collapsed": false,
    "is_executing": true
   },
   "id": "8ca995608b0b8e6c"
  }
 ],
 "metadata": {
  "kernelspec": {
   "display_name": "Python 3",
   "language": "python",
   "name": "python3"
  },
  "language_info": {
   "codemirror_mode": {
    "name": "ipython",
    "version": 2
   },
   "file_extension": ".py",
   "mimetype": "text/x-python",
   "name": "python",
   "nbconvert_exporter": "python",
   "pygments_lexer": "ipython2",
   "version": "2.7.6"
  }
 },
 "nbformat": 4,
 "nbformat_minor": 5
}
