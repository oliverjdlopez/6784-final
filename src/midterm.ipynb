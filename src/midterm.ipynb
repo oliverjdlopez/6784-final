{
 "cells": [
  {
   "cell_type": "code",
   "execution_count": 1,
   "id": "initial_id",
   "metadata": {
    "ExecuteTime": {
     "end_time": "2023-11-10T00:20:02.372933223Z",
     "start_time": "2023-11-10T00:20:01.376798725Z"
    },
    "collapsed": true
   },
   "outputs": [],
   "source": [
    "%reset -f\n",
    "import sys\n",
    "sys.path.append(\"../data/exadata/parquet_dataset/query_tool\")\n",
    "import pandas as pd\n",
    "import numpy as np\n",
    "from query_tool import M100DataClient\n",
    "from matplotlib import pyplot as plt\n",
    "import datetime"
   ]
  },
  {
   "cell_type": "code",
   "execution_count": 2,
   "id": "22578a71535bd1bf",
   "metadata": {
    "collapsed": false
   },
   "outputs": [],
   "source": [
    "dataset_path = '../data/m100'\n",
    "client = M100DataClient(dataset_path)"
   ]
  },
  {
   "cell_type": "code",
   "execution_count": 3,
   "id": "bc51e93f",
   "metadata": {},
   "outputs": [],
   "source": [
    "plugins = list(client.metrics_per_plugin.keys())"
   ]
  },
  {
   "cell_type": "code",
   "execution_count": 8,
   "id": "5b202f73",
   "metadata": {},
   "outputs": [],
   "source": [
    "ipmi_metrics = client.metrics_per_plugin['ipmi']\n",
    "ganglia_metrics = client.metrics_per_plugin['ganglia']\n",
    "vertiv_metrics = client.metrics_per_plugin['vertiv']\n",
    "schneider_metrics = client.metrics_per_plugin['schneider']\n",
    "weather_metrics = client.metrics_per_plugin['weather']\n",
    "logics_metrics = client.metrics_per_plugin['logics']\n",
    "nagios_metrics = client.metrics_per_plugin['nagios']\n",
    "slurm_metrics = client.metrics_per_plugin['slurm']\n",
    "job_table_metrics = client.metrics_per_plugin['job_table']\n"
   ]
  },
  {
   "cell_type": "code",
   "execution_count": 6,
   "id": "58af4a31",
   "metadata": {},
   "outputs": [
    {
     "name": "stdout",
     "output_type": "stream",
     "text": [
      "Retrieving data of type: int32\n"
     ]
    }
   ],
   "source": [
    "df = client.query('gpu0_core_temp', columns=['timestamp','value'],\n",
    "                  year_month='20-06')\n",
    "                  "
   ]
  },
  {
   "cell_type": "code",
   "execution_count": 12,
   "id": "12aa4bc8",
   "metadata": {},
   "outputs": [
    {
     "name": "stdout",
     "output_type": "stream",
     "text": [
      "Retrieving data of type: float\n"
     ]
    },
    {
     "data": {
      "text/html": [
       "<div>\n",
       "<style scoped>\n",
       "    .dataframe tbody tr th:only-of-type {\n",
       "        vertical-align: middle;\n",
       "    }\n",
       "\n",
       "    .dataframe tbody tr th {\n",
       "        vertical-align: top;\n",
       "    }\n",
       "\n",
       "    .dataframe thead th {\n",
       "        text-align: right;\n",
       "    }\n",
       "</style>\n",
       "<table border=\"1\" class=\"dataframe\">\n",
       "  <thead>\n",
       "    <tr style=\"text-align: right;\">\n",
       "      <th></th>\n",
       "      <th>timestamp</th>\n",
       "      <th>node</th>\n",
       "      <th>value</th>\n",
       "    </tr>\n",
       "  </thead>\n",
       "  <tbody>\n",
       "    <tr>\n",
       "      <th>0</th>\n",
       "      <td>2020-06-21 08:39:20+00:00</td>\n",
       "      <td>90</td>\n",
       "      <td>13.6</td>\n",
       "    </tr>\n",
       "    <tr>\n",
       "      <th>1</th>\n",
       "      <td>2020-06-21 08:39:40+00:00</td>\n",
       "      <td>90</td>\n",
       "      <td>13.6</td>\n",
       "    </tr>\n",
       "    <tr>\n",
       "      <th>2</th>\n",
       "      <td>2020-06-21 08:40:00+00:00</td>\n",
       "      <td>90</td>\n",
       "      <td>13.4</td>\n",
       "    </tr>\n",
       "    <tr>\n",
       "      <th>3</th>\n",
       "      <td>2020-06-21 08:40:20+00:00</td>\n",
       "      <td>90</td>\n",
       "      <td>13.4</td>\n",
       "    </tr>\n",
       "    <tr>\n",
       "      <th>4</th>\n",
       "      <td>2020-06-21 08:40:40+00:00</td>\n",
       "      <td>90</td>\n",
       "      <td>13.4</td>\n",
       "    </tr>\n",
       "  </tbody>\n",
       "</table>\n",
       "</div>"
      ],
      "text/plain": [
       "                  timestamp node  value\n",
       "0 2020-06-21 08:39:20+00:00   90   13.6\n",
       "1 2020-06-21 08:39:40+00:00   90   13.6\n",
       "2 2020-06-21 08:40:00+00:00   90   13.4\n",
       "3 2020-06-21 08:40:20+00:00   90   13.4\n",
       "4 2020-06-21 08:40:40+00:00   90   13.4"
      ]
     },
     "execution_count": 12,
     "metadata": {},
     "output_type": "execute_result"
    }
   ],
   "source": [
    "df = client.query(['ambient'],\n",
    "                  columns=['timestamp','node','value'],\n",
    "                  year_month=\"20-06\") \n",
    "df.head()"
   ]
  },
  {
   "cell_type": "code",
   "execution_count": 14,
   "id": "1e5c03d2",
   "metadata": {},
   "outputs": [
    {
     "name": "stdout",
     "output_type": "stream",
     "text": [
      "Retrieving data of type: float\n"
     ]
    },
    {
     "data": {
      "text/html": [
       "<div>\n",
       "<style scoped>\n",
       "    .dataframe tbody tr th:only-of-type {\n",
       "        vertical-align: middle;\n",
       "    }\n",
       "\n",
       "    .dataframe tbody tr th {\n",
       "        vertical-align: top;\n",
       "    }\n",
       "\n",
       "    .dataframe thead th {\n",
       "        text-align: right;\n",
       "    }\n",
       "</style>\n",
       "<table border=\"1\" class=\"dataframe\">\n",
       "  <thead>\n",
       "    <tr style=\"text-align: right;\">\n",
       "      <th></th>\n",
       "      <th>timestamp</th>\n",
       "      <th>node</th>\n",
       "      <th>value</th>\n",
       "    </tr>\n",
       "  </thead>\n",
       "  <tbody>\n",
       "    <tr>\n",
       "      <th>0</th>\n",
       "      <td>2020-06-10 18:35:40+00:00</td>\n",
       "      <td>395</td>\n",
       "      <td>3.10</td>\n",
       "    </tr>\n",
       "    <tr>\n",
       "      <th>1</th>\n",
       "      <td>2020-06-10 18:37:10+00:00</td>\n",
       "      <td>395</td>\n",
       "      <td>2.84</td>\n",
       "    </tr>\n",
       "    <tr>\n",
       "      <th>2</th>\n",
       "      <td>2020-06-10 18:38:40+00:00</td>\n",
       "      <td>395</td>\n",
       "      <td>2.55</td>\n",
       "    </tr>\n",
       "    <tr>\n",
       "      <th>3</th>\n",
       "      <td>2020-06-10 18:40:10+00:00</td>\n",
       "      <td>395</td>\n",
       "      <td>2.33</td>\n",
       "    </tr>\n",
       "    <tr>\n",
       "      <th>4</th>\n",
       "      <td>2020-06-10 18:41:42+00:00</td>\n",
       "      <td>395</td>\n",
       "      <td>2.09</td>\n",
       "    </tr>\n",
       "  </tbody>\n",
       "</table>\n",
       "</div>"
      ],
      "text/plain": [
       "                  timestamp node  value\n",
       "0 2020-06-10 18:35:40+00:00  395   3.10\n",
       "1 2020-06-10 18:37:10+00:00  395   2.84\n",
       "2 2020-06-10 18:38:40+00:00  395   2.55\n",
       "3 2020-06-10 18:40:10+00:00  395   2.33\n",
       "4 2020-06-10 18:41:42+00:00  395   2.09"
      ]
     },
     "execution_count": 14,
     "metadata": {},
     "output_type": "execute_result"
    }
   ],
   "source": [
    "#let's get a dataframe with each of the variables we defined, aligned by time and node\n",
    "df_jobs = client.query(['load_fifteen'],\n",
    "                  columns=['timestamp','node','value'],\n",
    "                  year_month=\"20-06\") \n",
    "\n",
    "df_jobs.head()"
   ]
  },
  {
   "cell_type": "code",
   "execution_count": 19,
   "id": "5de53ef1",
   "metadata": {},
   "outputs": [
    {
     "name": "stdout",
     "output_type": "stream",
     "text": [
      "Retrieving data of type: float\n"
     ]
    },
    {
     "data": {
      "text/html": [
       "<div>\n",
       "<style scoped>\n",
       "    .dataframe tbody tr th:only-of-type {\n",
       "        vertical-align: middle;\n",
       "    }\n",
       "\n",
       "    .dataframe tbody tr th {\n",
       "        vertical-align: top;\n",
       "    }\n",
       "\n",
       "    .dataframe thead th {\n",
       "        text-align: right;\n",
       "    }\n",
       "</style>\n",
       "<table border=\"1\" class=\"dataframe\">\n",
       "  <thead>\n",
       "    <tr style=\"text-align: right;\">\n",
       "      <th></th>\n",
       "      <th>timestamp</th>\n",
       "      <th>value</th>\n",
       "      <th>device</th>\n",
       "      <th>panel</th>\n",
       "    </tr>\n",
       "  </thead>\n",
       "  <tbody>\n",
       "  </tbody>\n",
       "</table>\n",
       "</div>"
      ],
      "text/plain": [
       "Empty DataFrame\n",
       "Columns: [timestamp, value, device, panel]\n",
       "Index: []"
      ]
     },
     "execution_count": 19,
     "metadata": {},
     "output_type": "execute_result"
    }
   ],
   "source": [
    "df_power = client.query(['Tot'],\n",
    "                  columns=['timestamp','value','device', 'panel'],\n",
    "                  year_month=\"20-06\") \n",
    "\n",
    "df_power.head()"
   ]
  },
  {
   "cell_type": "code",
   "execution_count": 4,
   "id": "e69064c8",
   "metadata": {},
   "outputs": [
    {
     "name": "stdout",
     "output_type": "stream",
     "text": [
      "Retrieving data of type: float\n"
     ]
    }
   ],
   "source": [
    "df_weather = client.query(['temp'],\n",
    "                  columns=['timestamp','value'],\n",
    "                  year_month=\"20-06\") "
   ]
  },
  {
   "cell_type": "code",
   "execution_count": 8,
   "id": "23151e22",
   "metadata": {},
   "outputs": [
    {
     "name": "stdout",
     "output_type": "stream",
     "text": [
      "Retrieving data of type: float\n"
     ]
    }
   ],
   "source": [
    "df_weather = client.query('temp', columns=['timestamp', \"node\", 'value'], year_month = ['20-06'])"
   ]
  },
  {
   "cell_type": "code",
   "execution_count": null,
   "id": "351818ed",
   "metadata": {},
   "outputs": [],
   "source": [
    "df_air = client.query(['Return_Air_Temperature'],\n",
    "                  columns=['timestamp','value'],\n",
    "                  year_month=\"20-06\") "
   ]
  },
  {
   "cell_type": "code",
   "execution_count": 5,
   "id": "9ba2081a",
   "metadata": {},
   "outputs": [],
   "source": [
    "metrics_hardware_gpu = [f'gpu{i}_core_temp' for i in [0,1,3,4]]\n",
    "metrics_hardware_cpu = [f'p0_core{i}_temp' for i in range(24)] \n",
    "\n",
    "this_left = ([f'p1_core{i}_temp' for i in range(24)])\n",
    "\n",
    "for j in range(24):\n",
    "    metrics_hardware_cpu.append(this_left[j])\n",
    "\n",
    "for i in range(3):\n",
    "  metrics_hardware_cpu.append(metrics_hardware_gpu[i])\n",
    "\n",
    "metrics_hardware = metrics_hardware_cpu"
   ]
  },
  {
   "cell_type": "code",
   "execution_count": 22,
   "id": "69f360e8",
   "metadata": {},
   "outputs": [
    {
     "name": "stdout",
     "output_type": "stream",
     "text": [
      "Retrieving data of type: int32\n"
     ]
    },
    {
     "ename": "ArrowInvalid",
     "evalue": "Could not open Parquet input source '../data/m100/year_month=20-06/plugin=ipmi_pub/metric=p1_core15_temp/a_0.parquet': Parquet magic bytes not found in footer. Either the file is corrupted or this is not a parquet file.",
     "output_type": "error",
     "traceback": [
      "\u001b[0;31m---------------------------------------------------------------------------\u001b[0m",
      "\u001b[0;31mArrowInvalid\u001b[0m                              Traceback (most recent call last)",
      "Cell \u001b[0;32mIn[22], line 1\u001b[0m\n\u001b[0;32m----> 1\u001b[0m df_hardware \u001b[39m=\u001b[39m client\u001b[39m.\u001b[39;49mquery(metrics_hardware,\n\u001b[1;32m      2\u001b[0m                   columns\u001b[39m=\u001b[39;49m[\u001b[39m'\u001b[39;49m\u001b[39mtimestamp\u001b[39;49m\u001b[39m'\u001b[39;49m,\u001b[39m'\u001b[39;49m\u001b[39mvalue\u001b[39;49m\u001b[39m'\u001b[39;49m, \u001b[39m'\u001b[39;49m\u001b[39mnode\u001b[39;49m\u001b[39m'\u001b[39;49m],\n\u001b[1;32m      3\u001b[0m                   year_month\u001b[39m=\u001b[39;49m\u001b[39m\"\u001b[39;49m\u001b[39m20-06\u001b[39;49m\u001b[39m\"\u001b[39;49m, node \u001b[39m=\u001b[39;49m [\u001b[39m'\u001b[39;49m\u001b[39m381\u001b[39;49m\u001b[39m'\u001b[39;49m,\u001b[39m'\u001b[39;49m\u001b[39m383\u001b[39;49m\u001b[39m'\u001b[39;49m,\u001b[39m'\u001b[39;49m\u001b[39m385\u001b[39;49m\u001b[39m'\u001b[39;49m,\u001b[39m'\u001b[39;49m\u001b[39m387\u001b[39;49m\u001b[39m'\u001b[39;49m] ) \n",
      "File \u001b[0;32m~/cs6784/final-project/6784-final/data/exadata/parquet_dataset/query_tool/query_tool.py:154\u001b[0m, in \u001b[0;36mM100DataClient.query\u001b[0;34m(self, metrics, columns, tstart, tstop, **kwargs)\u001b[0m\n\u001b[1;32m    150\u001b[0m     \u001b[39mif\u001b[39;00m common_filter \u001b[39mis\u001b[39;00m \u001b[39mnot\u001b[39;00m \u001b[39mNone\u001b[39;00m:\n\u001b[1;32m    151\u001b[0m         dtype_metrics_filter \u001b[39m&\u001b[39m\u001b[39m=\u001b[39m common_filter\n\u001b[0;32m--> 154\u001b[0m     table \u001b[39m=\u001b[39m \u001b[39mself\u001b[39;49m\u001b[39m.\u001b[39;49mdataset_per_dtype[dtype]\u001b[39m.\u001b[39;49mto_table(columns\u001b[39m=\u001b[39;49mcolumns,\n\u001b[1;32m    155\u001b[0m                                                    \u001b[39mfilter\u001b[39;49m\u001b[39m=\u001b[39;49mdtype_metrics_filter)\n\u001b[1;32m    156\u001b[0m     tables\u001b[39m.\u001b[39mappend(table)\n\u001b[1;32m    158\u001b[0m \u001b[39m# concat tables (PyArrow)\u001b[39;00m\n\u001b[1;32m    159\u001b[0m \u001b[39m#return self._concat_tables_pyarrow(tables)\u001b[39;00m\n\u001b[1;32m    160\u001b[0m \n\u001b[1;32m    161\u001b[0m \u001b[39m# convert tables to pandas and concatenate them (using Pandas type inference)\u001b[39;00m\n",
      "File \u001b[0;32m~/indresearch/xu/xu/xu-venv/lib/python3.8/site-packages/pyarrow/_dataset.pyx:556\u001b[0m, in \u001b[0;36mpyarrow._dataset.Dataset.to_table\u001b[0;34m()\u001b[0m\n",
      "File \u001b[0;32m~/indresearch/xu/xu/xu-venv/lib/python3.8/site-packages/pyarrow/_dataset.pyx:3713\u001b[0m, in \u001b[0;36mpyarrow._dataset.Scanner.to_table\u001b[0;34m()\u001b[0m\n",
      "File \u001b[0;32m~/indresearch/xu/xu/xu-venv/lib/python3.8/site-packages/pyarrow/error.pxi:154\u001b[0m, in \u001b[0;36mpyarrow.lib.pyarrow_internal_check_status\u001b[0;34m()\u001b[0m\n",
      "File \u001b[0;32m~/indresearch/xu/xu/xu-venv/lib/python3.8/site-packages/pyarrow/error.pxi:91\u001b[0m, in \u001b[0;36mpyarrow.lib.check_status\u001b[0;34m()\u001b[0m\n",
      "\u001b[0;31mArrowInvalid\u001b[0m: Could not open Parquet input source '../data/m100/year_month=20-06/plugin=ipmi_pub/metric=p1_core15_temp/a_0.parquet': Parquet magic bytes not found in footer. Either the file is corrupted or this is not a parquet file."
     ]
    }
   ],
   "source": [
    "df_hardware = client.query(metrics_hardware,\n",
    "                  columns=['timestamp','value', 'node'],\n",
    "                  year_month=\"20-06\", node = ['381','383','385','387'] ) "
   ]
  },
  {
   "attachments": {},
   "cell_type": "markdown",
   "id": "1bb7bf12",
   "metadata": {},
   "source": [
    "Ganglia - info on each of the 3 GPUs\n",
    "\n",
    "Slurm - simple metrics of load\n",
    "\n",
    "Vertiv - use almost all of these dimensions\n",
    "\n",
    "\n",
    "Important:\n",
    "cooling:\n",
    "\n",
    "define control actions: \n",
    "vertiv - input air supply temperature set point (supply_air_temperature)\n",
    "\n",
    "ACTIONS: set points\n",
    "\n",
    "ONE DIMENSIONAL ACTION SPACE!\n",
    "\n",
    "logics - power consumption \n",
    "\n",
    "FEATURE SPACE:\n",
    "cooling\n",
    "AC\n",
    "\n",
    "\n",
    "\n",
    "objective:\n",
    "minimize power while remaining a safe range\n",
    "\n",
    "temperature (weather - humidity, temp) ()\n",
    "\n",
    "\n",
    "job allocation/power\n",
    "spatial distribution\n"
   ]
  }
 ],
 "metadata": {
  "kernelspec": {
   "display_name": "xu-venv",
   "language": "python",
   "name": "python3"
  },
  "language_info": {
   "codemirror_mode": {
    "name": "ipython",
    "version": 3
   },
   "file_extension": ".py",
   "mimetype": "text/x-python",
   "name": "python",
   "nbconvert_exporter": "python",
   "pygments_lexer": "ipython3",
   "version": "3.8.9"
  },
  "vscode": {
   "interpreter": {
    "hash": "74ea42a2acbac2542a5ba28118d5ac45aa30cdd1086d6bdd4fc2eb17ce0fd824"
   }
  }
 },
 "nbformat": 4,
 "nbformat_minor": 5
}
