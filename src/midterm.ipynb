{
 "cells": [
  {
   "cell_type": "code",
   "execution_count": 2,
   "id": "initial_id",
   "metadata": {
    "collapsed": true,
    "ExecuteTime": {
     "end_time": "2023-12-09T16:50:58.770270300Z",
     "start_time": "2023-12-09T16:50:44.895032500Z"
    }
   },
   "outputs": [
    {
     "ename": "ModuleNotFoundError",
     "evalue": "No module named 'query_tool'",
     "output_type": "error",
     "traceback": [
      "\u001B[1;31m---------------------------------------------------------------------------\u001B[0m",
      "\u001B[1;31mModuleNotFoundError\u001B[0m                       Traceback (most recent call last)",
      "Cell \u001B[1;32mIn[2], line 13\u001B[0m\n\u001B[0;32m     11\u001B[0m \u001B[38;5;28;01mfrom\u001B[39;00m \u001B[38;5;21;01mtorch\u001B[39;00m\u001B[38;5;21;01m.\u001B[39;00m\u001B[38;5;21;01mutils\u001B[39;00m\u001B[38;5;21;01m.\u001B[39;00m\u001B[38;5;21;01mdata\u001B[39;00m \u001B[38;5;28;01mimport\u001B[39;00m Dataset, DataLoader\n\u001B[0;32m     12\u001B[0m \u001B[38;5;28;01mfrom\u001B[39;00m \u001B[38;5;21;01msklearn\u001B[39;00m\u001B[38;5;21;01m.\u001B[39;00m\u001B[38;5;21;01mlinear_model\u001B[39;00m \u001B[38;5;28;01mimport\u001B[39;00m LinearRegression\n\u001B[1;32m---> 13\u001B[0m \u001B[38;5;28;01mfrom\u001B[39;00m \u001B[38;5;21;01mquery_tool\u001B[39;00m \u001B[38;5;28;01mimport\u001B[39;00m M100DataClient\n\u001B[0;32m     14\u001B[0m \u001B[38;5;28;01mfrom\u001B[39;00m \u001B[38;5;21;01mmatplotlib\u001B[39;00m \u001B[38;5;28;01mimport\u001B[39;00m pyplot \u001B[38;5;28;01mas\u001B[39;00m plt\n\u001B[0;32m     15\u001B[0m \u001B[38;5;28;01mfrom\u001B[39;00m \u001B[38;5;21;01mmodels\u001B[39;00m \u001B[38;5;28;01mimport\u001B[39;00m LinearNN, StateEstimator\n",
      "\u001B[1;31mModuleNotFoundError\u001B[0m: No module named 'query_tool'"
     ]
    }
   ],
   "source": [
    "%reset -f\n",
    "\n",
    "import sys\n",
    "sys.path.append(\"../data/exadata/parquet_dataset/query_tool\")\n",
    "\n",
    "import os\n",
    "import pandas as pd\n",
    "import numpy as np\n",
    "import datetime\n",
    "import torch\n",
    "from torch.utils.data import Dataset, DataLoader\n",
    "from sklearn.linear_model import LinearRegression\n",
    "from query_tool import M100DataClient\n",
    "from matplotlib import pyplot as plt\n",
    "from models import LinearNN, StateEstimator\n",
    "\n",
    "dataset_path = \"../data/m100\"\n",
    "processed_path = \"../data/processed\"\n",
    "client = M100DataClient(dataset_path)\n",
    "\n"
   ]
  },
  {
   "cell_type": "code",
   "execution_count": null,
   "outputs": [],
   "source": [
    "\"\"\"Cell purpose: pull desired features from plugins\"\"\"\n",
    "\n",
    "\n",
    "#TODO: Merging method, working for columns that aren't timestamp,node,value\n",
    "#For now I think it's necessary to do it this way because of memory issues\n",
    "# def extract_features(feature_list, n_rows, columns, year_month):\n",
    "#     df = pd.DataFrame()\n",
    "#     for f in feature_list: \n",
    "#         query_df = client.query(f, \n",
    "#                       columns=columns,\n",
    "#                       year_month=year_month)\n",
    "#         \n",
    "#         samples = np.random.randint(low = 0, high = query_df.shape[0], size = n_rows)\n",
    "#         sampled_df = query_df if query_df.shape[0] < n_rows else query_df.iloc[samples] \n",
    "#         multi_idx= pd.MultiIndex.from_arrays([sampled_df[\"timestamp\"].values, sampled_df[\"node\"].values], names = (\"timestamp\", \"node\"))\n",
    "#         data = {f: sampled_df[\"value\"].values}\n",
    "#         processed_df = pd.DataFrame(index = multi_idx, data=data)\n",
    "#         if df.empty:\n",
    "#             df = processed_df\n",
    "#         else:\n",
    "#             df = pd.concat([df, processed_df], join=\"outer\")\n",
    "#     return df\n",
    "\n",
    "def extract_features(feature_list, n_rows, nodes_of_interest, columns, year_month):\n",
    "    plugin_df = pd.DataFrame()\n",
    "    node_dfs = []\n",
    "    for f in feature_list: \n",
    "        query_df = client.query(f, \n",
    "                      columns=columns,\n",
    "                      year_month=year_month)\n",
    "        query_df = query_df[query_df[\"node\"] in nodes_of_interest]    \n",
    "        \n",
    "        for noi in nodes_of_interest:\n",
    "            idxs = np.where(query_df[\"node\"] == noi, True, False)\n",
    "            node_data = query_df[\"value\"].iloc[idxs]\n",
    "            node_data.rename({\"value\": str(noi) + \"_\" + str(f)})\n",
    "            node_data.drop(\"node\")\n",
    "            node_dfs.append(node_data)\n",
    "            \n",
    "    plugin_df = pd.concat(node_dfs, join=\"inner\", left_on=\"timestamp\", right_on=\"timestamp\")\n",
    "    return plugin_df\n",
    "\n",
    "\n",
    "n_rows = 50\n",
    "nodes_of_interest = [i for i in range(len(10))]\n",
    "year_month = [\"22-02\"]\n",
    "\n",
    "#ipmi collects physical/hardware properties of nodes\n",
    "ipmi_features = [\"ambient\", \"gpu0_core_temp\", \"p0_core0_temp\"]\n",
    "ipmi_columns = [\"timestamp\", \"node\", \"value\"]\n",
    "ipmi_df = extract_features(ipmi_features, n_rows, nodes_of_interest, ipmi_columns, year_month)\n",
    "ipmi_df.to_csv(os.path.join(processed_path, \"ipmi\"))\n",
    "\n",
    "#vertiv plugin collects data for AC cooling \n",
    "# vertiv_features = [\"Supply_Air_Temperature\"]\n",
    "# vertiv_labels = [\"Return_Air_Temperature\"]\n",
    "# vertiv_df = client.query([\"Supply_Air_Temperature\", \"Return_Air_Temperature\"],\n",
    "#                   columns=['timestamp','value'],\n",
    "#                   year_month=[\"22-02\"])\n",
    "\n",
    "\n",
    "\n",
    "# #ganglia collects metrics on utilization of hardware\n",
    "# ganglia_df = client.query([\"load_fifteen\"],\n",
    "#                   columns=['timestamp', \"node\", 'value'],\n",
    "#                   year_month=[\"22-02\"])\n",
    "\n",
    "# logics collects power consumption data from equipment and devices\n",
    "# logics_df = client.query([\"Tot\"],\n",
    "#                   columns=['timestamp', \"device\", \"panel\", 'value'],\n",
    "#                   year_month=[\"22-02\"])\n",
    "\n",
    "#schneider collects data on liquid cooling system\n",
    "# schneider_df = client.query([\"Tot\"],\n",
    "#                   columns=['timestamp', \"node\", 'value'],\n",
    "#                   year_month=[\"22-02\"])\n",
    "\n",
    "#weather data\n",
    "# weather_df = client.query([\"temp\"],\n",
    "#                   columns=['timestamp', 'value'],\n",
    "#                   year_month=[\"22-02\"])\n",
    "\n",
    "\n",
    "ipmi_df.head(100)\n"
   ],
   "metadata": {
    "collapsed": false,
    "is_executing": true
   },
   "id": "22578a71535bd1bf"
  },
  {
   "cell_type": "code",
   "execution_count": 3,
   "outputs": [
    {
     "name": "stdout",
     "output_type": "stream",
     "text": [
      "(150, 3)\n"
     ]
    },
    {
     "ename": "TypeError",
     "evalue": "pivot() missing 1 required keyword-only argument: 'columns'",
     "output_type": "error",
     "traceback": [
      "\u001B[0;31m---------------------------------------------------------------------------\u001B[0m",
      "\u001B[0;31mTypeError\u001B[0m                                 Traceback (most recent call last)",
      "Cell \u001B[0;32mIn[3], line 6\u001B[0m\n\u001B[1;32m      4\u001B[0m \u001B[38;5;28;01mfor\u001B[39;00m d \u001B[38;5;129;01min\u001B[39;00m plugin_dfs:\n\u001B[1;32m      5\u001B[0m     \u001B[38;5;28mprint\u001B[39m(d\u001B[38;5;241m.\u001B[39mshape)\n\u001B[0;32m----> 6\u001B[0m     \u001B[38;5;28mprint\u001B[39m(\u001B[43md\u001B[49m\u001B[38;5;241;43m.\u001B[39;49m\u001B[43mpivot\u001B[49m\u001B[43m(\u001B[49m\u001B[43mindex\u001B[49m\u001B[38;5;241;43m=\u001B[39;49m\u001B[38;5;124;43m\"\u001B[39;49m\u001B[38;5;124;43mtimestamp\u001B[39;49m\u001B[38;5;124;43m\"\u001B[39;49m\u001B[43m)\u001B[49m\u001B[38;5;241m.\u001B[39mhead(\u001B[38;5;241m3\u001B[39m))\n",
      "\u001B[0;31mTypeError\u001B[0m: pivot() missing 1 required keyword-only argument: 'columns'"
     ]
    }
   ],
   "source": [
    "\n",
    "# feature_dfs = [ipmi_df, vertiv_df, weather_df]\n",
    "feature_dfs = [impi_df, vertiv_df] #start w/ small one for now\n"
   ],
   "metadata": {
    "collapsed": false,
    "ExecuteTime": {
     "end_time": "2023-12-09T07:07:47.617337765Z",
     "start_time": "2023-12-09T07:07:46.816848196Z"
    }
   },
   "id": "176c98e2cc36cbe1"
  },
  {
   "cell_type": "code",
   "execution_count": null,
   "outputs": [],
   "source": [
    "\"\"\"Cell purpose: preprocess and/or merge data as desired\"\"\"\n",
    "df = pd.concat(plugin_dfs)\n",
    "# print(merged_df[\"timestamp\"].astype(np.int64) * 10e-9)\n",
    "# merge_df[\"timestamp\"] = merge_df[\"timestamp\"].apply(lambda ts: ts.as_unit(\"ns\"))\n",
    "df.head(10)\n",
    "\n",
    "splits = np.floor([.8, .1, .1] * len(df))\n",
    "train_df = df.iloc[splits[0]]\n",
    "val_df = df.iloc[splits[1]]\n",
    "test_df = df.iloc[splits[2]]\n"
   ],
   "metadata": {
    "collapsed": false,
    "ExecuteTime": {
     "end_time": "2023-12-09T07:07:47.623525300Z",
     "start_time": "2023-12-09T07:07:47.619924143Z"
    }
   },
   "id": "6b1733a0c94ce8c0"
  },
  {
   "cell_type": "code",
   "execution_count": 1,
   "outputs": [
    {
     "ename": "SyntaxError",
     "evalue": "invalid syntax (3064710445.py, line 14)",
     "output_type": "error",
     "traceback": [
      "\u001B[0;36m  Cell \u001B[0;32mIn[1], line 14\u001B[0;36m\u001B[0m\n\u001B[0;31m    train_ds =\u001B[0m\n\u001B[0m               ^\u001B[0m\n\u001B[0;31mSyntaxError\u001B[0m\u001B[0;31m:\u001B[0m invalid syntax\n"
     ]
    }
   ],
   "source": [
    "# Will have to make work with timestamp indexign later\n",
    "class M100Data(Dataset):\n",
    "    def __init__(self, feature_df, label_df, transform = None, label_transform = None):\n",
    "        self.feature_df = feature_df\n",
    "        self.label_df = label_df\n",
    "        self.transform = transform\n",
    "\n",
    "    def __len__(self):\n",
    "        return len(self.df.shape[0])\n",
    "\n",
    "    def __getitem__(self, idx):\n",
    "        return self.feature_df.iloc[idx], self.label_df.iloc[idx]\n",
    "    \n",
    "train_ds = M100Data(df,)"
   ],
   "metadata": {
    "collapsed": false,
    "ExecuteTime": {
     "end_time": "2023-12-09T15:24:02.948579579Z",
     "start_time": "2023-12-09T15:24:02.942171300Z"
    }
   },
   "id": "4a17ace650982f45"
  },
  {
   "cell_type": "code",
   "execution_count": null,
   "outputs": [],
   "source": [],
   "metadata": {
    "collapsed": false
   },
   "id": "96a5aadcd8397788"
  },
  {
   "cell_type": "code",
   "execution_count": null,
   "outputs": [],
   "source": [
    "trainloader = DataLoader(train_ds, batch_size = 8, shuffle = True)\n",
    "model = LinearNN()"
   ],
   "metadata": {
    "collapsed": false,
    "ExecuteTime": {
     "start_time": "2023-12-09T07:07:47.666504352Z"
    }
   },
   "id": "b9f72e50101dbd20"
  },
  {
   "cell_type": "code",
   "execution_count": null,
   "outputs": [],
   "source": [
    "\"\"\"Cell purpose: train\"\"\"\n",
    "# model = LinearRegression().fit(merged_df[\"air_temp\"].to_numpy().reshape(-1,1), merged_df[\"ambient_temp\"].to_numpy().reshape(-1,1))"
   ],
   "metadata": {
    "collapsed": false,
    "ExecuteTime": {
     "end_time": "2023-12-09T07:07:47.667219844Z",
     "start_time": "2023-12-09T07:07:47.666705981Z"
    }
   },
   "id": "da89ca240a6e4c2b"
  },
  {
   "cell_type": "code",
   "execution_count": null,
   "outputs": [],
   "source": [
    "\"\"\"Cell purpose: inference\"\"\"\n",
    "# preds = model.predict(test_df[\"air_temp\"].to_numpy().reshape(-1,1))\n"
   ],
   "metadata": {
    "collapsed": false,
    "ExecuteTime": {
     "start_time": "2023-12-09T07:07:47.666798315Z"
    }
   },
   "id": "118a70fbe9449cf1"
  },
  {
   "cell_type": "code",
   "execution_count": null,
   "outputs": [],
   "source": [
    "\"\"\"Cell purpose: benchmarking\"\"\"\n",
    "\n",
    "# labels = test_df[\"ambient_temp\"].to_numpy().reshape(-1,1)\n",
    "# \n",
    "# \n",
    "# timesteps = [t for t in range(preds.shape[0])]\n",
    "# colors = iter(plt.cm.rainbow(np.linspace(0, 0.5, 2)))\n",
    "# plt.scatter(preds, labels, c=[\"blue\", \"red\"])\n",
    "# \n",
    "# plt.legend(loc=\"upper left\")\n",
    "# plt.xlabel(\"Time\")\n",
    "# plt.ylabel(\"Ambient temperature\")\n",
    "# plt.grid()\n",
    "# plt.show()\n",
    "\n"
   ],
   "metadata": {
    "collapsed": false,
    "ExecuteTime": {
     "start_time": "2023-12-09T07:07:47.666956331Z"
    }
   },
   "id": "46493ce89db187d0"
  },
  {
   "cell_type": "code",
   "execution_count": null,
   "outputs": [],
   "source": [
    "\"\"\n"
   ],
   "metadata": {
    "collapsed": false,
    "ExecuteTime": {
     "start_time": "2023-12-09T07:07:47.667013106Z"
    }
   },
   "id": "8ca995608b0b8e6c"
  }
 ],
 "metadata": {
  "kernelspec": {
   "display_name": "Python 3",
   "language": "python",
   "name": "python3"
  },
  "language_info": {
   "codemirror_mode": {
    "name": "ipython",
    "version": 2
   },
   "file_extension": ".py",
   "mimetype": "text/x-python",
   "name": "python",
   "nbconvert_exporter": "python",
   "pygments_lexer": "ipython2",
   "version": "2.7.6"
  }
 },
 "nbformat": 4,
 "nbformat_minor": 5
}
