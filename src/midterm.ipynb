{
 "cells": [
  {
   "cell_type": "code",
   "execution_count": 9,
   "id": "initial_id",
   "metadata": {
    "collapsed": true,
    "ExecuteTime": {
     "end_time": "2023-11-11T03:03:32.501481937Z",
     "start_time": "2023-11-11T03:03:30.056900267Z"
    }
   },
   "outputs": [
    {
     "name": "stdout",
     "output_type": "stream",
     "text": [
      "Retrieving data of type: float\n"
     ]
    },
    {
     "data": {
      "text/plain": "                  timestamp node  value\n0 2022-02-07 18:56:20+00:00   44   16.6\n1 2022-02-07 18:56:40+00:00   44   16.6\n2 2022-02-07 18:57:00+00:00   44   16.4\n3 2022-02-07 18:57:20+00:00   44   16.4\n4 2022-02-07 18:57:40+00:00   44   16.4",
      "text/html": "<div>\n<style scoped>\n    .dataframe tbody tr th:only-of-type {\n        vertical-align: middle;\n    }\n\n    .dataframe tbody tr th {\n        vertical-align: top;\n    }\n\n    .dataframe thead th {\n        text-align: right;\n    }\n</style>\n<table border=\"1\" class=\"dataframe\">\n  <thead>\n    <tr style=\"text-align: right;\">\n      <th></th>\n      <th>timestamp</th>\n      <th>node</th>\n      <th>value</th>\n    </tr>\n  </thead>\n  <tbody>\n    <tr>\n      <th>0</th>\n      <td>2022-02-07 18:56:20+00:00</td>\n      <td>44</td>\n      <td>16.6</td>\n    </tr>\n    <tr>\n      <th>1</th>\n      <td>2022-02-07 18:56:40+00:00</td>\n      <td>44</td>\n      <td>16.6</td>\n    </tr>\n    <tr>\n      <th>2</th>\n      <td>2022-02-07 18:57:00+00:00</td>\n      <td>44</td>\n      <td>16.4</td>\n    </tr>\n    <tr>\n      <th>3</th>\n      <td>2022-02-07 18:57:20+00:00</td>\n      <td>44</td>\n      <td>16.4</td>\n    </tr>\n    <tr>\n      <th>4</th>\n      <td>2022-02-07 18:57:40+00:00</td>\n      <td>44</td>\n      <td>16.4</td>\n    </tr>\n  </tbody>\n</table>\n</div>"
     },
     "execution_count": 9,
     "metadata": {},
     "output_type": "execute_result"
    }
   ],
   "source": [
    "import pandas\n",
    "%reset -f\n",
    "\n",
    "import sys\n",
    "sys.path.append(\"../data/exadata/parquet_dataset/query_tool\")\n",
    "\n",
    "import pandas as pd\n",
    "import numpy as np\n",
    "from sklearn.linear_model import LinearRegression\n",
    "from query_tool import M100DataClient\n",
    "from matplotlib import pyplot as plt\n",
    "import datetime\n",
    "dataset_path = \"../data/m100\"\n",
    "client = M100DataClient(dataset_path)\n",
    "\n",
    "df = client.query(['ambient', \"Supply_Air_Temperature\"],\n",
    "                  columns=['timestamp','node','value'],\n",
    "                  year_month=[\"22-02\"]) \n",
    "df.head()"
   ]
  },
  {
   "cell_type": "code",
   "execution_count": 10,
   "outputs": [
    {
     "name": "stdout",
     "output_type": "stream",
     "text": [
      "Retrieving data of type: float\n",
      "Retrieving data of type: float\n"
     ]
    }
   ],
   "source": [
    "vertiv_df = client.query([\"Supply_Air_Temperature\"],\n",
    "                  columns=['timestamp','value'],\n",
    "                  year_month=[\"22-02\"])\n",
    "vertiv_df = vertiv_df.rename(columns = {\"value\": \"air_temp\" })\n",
    "\n",
    "ipmi_df = client.query([\"ambient\"],\n",
    "                  columns=['timestamp', \"node\", 'value'],\n",
    "                  year_month=[\"22-02\"])\n",
    "ipmi_df = ipmi_df.rename(columns = {\"value\": \"ambient_temp\" }).iloc[:100000]\n"
   ],
   "metadata": {
    "collapsed": false,
    "ExecuteTime": {
     "end_time": "2023-11-11T03:03:36.338267314Z",
     "start_time": "2023-11-11T03:03:32.482478505Z"
    }
   },
   "id": "22578a71535bd1bf"
  },
  {
   "cell_type": "code",
   "execution_count": 15,
   "outputs": [
    {
     "data": {
      "text/plain": "                   timestamp  air_temp node  ambient_temp\n0  2022-02-06 23:00:00+00:00      23.5   46     20.799999\n1  2022-02-06 23:00:00+00:00      23.5   48     22.600000\n2  2022-02-06 23:00:00+00:00      23.5   49     23.000000\n3  2022-02-06 23:00:00+00:00      23.5   50     23.000000\n4  2022-02-06 23:00:00+00:00      23.5   76     23.600000\n..                       ...       ...  ...           ...\n95 2022-02-06 23:00:00+00:00      24.1   82     21.000000\n96 2022-02-06 23:00:00+00:00      24.1  519     29.200001\n97 2022-02-06 23:00:00+00:00      24.1  521     21.600000\n98 2022-02-06 23:00:00+00:00      24.1  523     22.200001\n99 2022-02-06 23:00:00+00:00      24.1  524     23.000000\n\n[100 rows x 4 columns]",
      "text/html": "<div>\n<style scoped>\n    .dataframe tbody tr th:only-of-type {\n        vertical-align: middle;\n    }\n\n    .dataframe tbody tr th {\n        vertical-align: top;\n    }\n\n    .dataframe thead th {\n        text-align: right;\n    }\n</style>\n<table border=\"1\" class=\"dataframe\">\n  <thead>\n    <tr style=\"text-align: right;\">\n      <th></th>\n      <th>timestamp</th>\n      <th>air_temp</th>\n      <th>node</th>\n      <th>ambient_temp</th>\n    </tr>\n  </thead>\n  <tbody>\n    <tr>\n      <th>0</th>\n      <td>2022-02-06 23:00:00+00:00</td>\n      <td>23.5</td>\n      <td>46</td>\n      <td>20.799999</td>\n    </tr>\n    <tr>\n      <th>1</th>\n      <td>2022-02-06 23:00:00+00:00</td>\n      <td>23.5</td>\n      <td>48</td>\n      <td>22.600000</td>\n    </tr>\n    <tr>\n      <th>2</th>\n      <td>2022-02-06 23:00:00+00:00</td>\n      <td>23.5</td>\n      <td>49</td>\n      <td>23.000000</td>\n    </tr>\n    <tr>\n      <th>3</th>\n      <td>2022-02-06 23:00:00+00:00</td>\n      <td>23.5</td>\n      <td>50</td>\n      <td>23.000000</td>\n    </tr>\n    <tr>\n      <th>4</th>\n      <td>2022-02-06 23:00:00+00:00</td>\n      <td>23.5</td>\n      <td>76</td>\n      <td>23.600000</td>\n    </tr>\n    <tr>\n      <th>...</th>\n      <td>...</td>\n      <td>...</td>\n      <td>...</td>\n      <td>...</td>\n    </tr>\n    <tr>\n      <th>95</th>\n      <td>2022-02-06 23:00:00+00:00</td>\n      <td>24.1</td>\n      <td>82</td>\n      <td>21.000000</td>\n    </tr>\n    <tr>\n      <th>96</th>\n      <td>2022-02-06 23:00:00+00:00</td>\n      <td>24.1</td>\n      <td>519</td>\n      <td>29.200001</td>\n    </tr>\n    <tr>\n      <th>97</th>\n      <td>2022-02-06 23:00:00+00:00</td>\n      <td>24.1</td>\n      <td>521</td>\n      <td>21.600000</td>\n    </tr>\n    <tr>\n      <th>98</th>\n      <td>2022-02-06 23:00:00+00:00</td>\n      <td>24.1</td>\n      <td>523</td>\n      <td>22.200001</td>\n    </tr>\n    <tr>\n      <th>99</th>\n      <td>2022-02-06 23:00:00+00:00</td>\n      <td>24.1</td>\n      <td>524</td>\n      <td>23.000000</td>\n    </tr>\n  </tbody>\n</table>\n<p>100 rows × 4 columns</p>\n</div>"
     },
     "execution_count": 15,
     "metadata": {},
     "output_type": "execute_result"
    }
   ],
   "source": [
    "\n",
    "new_df = vertiv_df.merge(ipmi_df, on = \"timestamp\")\n",
    "new_df.head(100)\n",
    "\n",
    "# new_df[\"timestamp\"] = new_df[\"timestamp\"].apply(lambda ts: ts.as_unit(\"ns\"))\n"
   ],
   "metadata": {
    "collapsed": false,
    "ExecuteTime": {
     "end_time": "2023-11-11T03:04:19.445623358Z",
     "start_time": "2023-11-11T03:04:19.317412163Z"
    }
   },
   "id": "6b1733a0c94ce8c0"
  },
  {
   "cell_type": "code",
   "execution_count": 13,
   "outputs": [
    {
     "name": "stdout",
     "output_type": "stream",
     "text": [
      "0 days 00:00:00\n"
     ]
    }
   ],
   "source": [],
   "metadata": {
    "collapsed": false,
    "ExecuteTime": {
     "end_time": "2023-11-11T03:03:36.539847520Z",
     "start_time": "2023-11-11T03:03:36.490721020Z"
    }
   },
   "id": "da89ca240a6e4c2b"
  },
  {
   "cell_type": "code",
   "execution_count": 14,
   "outputs": [
    {
     "ename": "TypeError",
     "evalue": "float() argument must be a string or a number, not 'Timestamp'",
     "output_type": "error",
     "traceback": [
      "\u001B[0;31m---------------------------------------------------------------------------\u001B[0m",
      "\u001B[0;31mTypeError\u001B[0m                                 Traceback (most recent call last)",
      "Cell \u001B[0;32mIn[14], line 1\u001B[0m\n\u001B[0;32m----> 1\u001B[0m model \u001B[38;5;241m=\u001B[39m \u001B[43mLinearRegression\u001B[49m\u001B[43m(\u001B[49m\u001B[43m)\u001B[49m\u001B[38;5;241;43m.\u001B[39;49m\u001B[43mfit\u001B[49m\u001B[43m(\u001B[49m\u001B[43mvertiv_df\u001B[49m\u001B[43m,\u001B[49m\u001B[43m \u001B[49m\u001B[43mipmi_df\u001B[49m\u001B[43m)\u001B[49m\n\u001B[1;32m      2\u001B[0m \u001B[38;5;28mprint\u001B[39m(model)\n",
      "File \u001B[0;32m~/anaconda3/envs/cooling_env/lib/python3.8/site-packages/sklearn/base.py:1151\u001B[0m, in \u001B[0;36m_fit_context.<locals>.decorator.<locals>.wrapper\u001B[0;34m(estimator, *args, **kwargs)\u001B[0m\n\u001B[1;32m   1144\u001B[0m     estimator\u001B[38;5;241m.\u001B[39m_validate_params()\n\u001B[1;32m   1146\u001B[0m \u001B[38;5;28;01mwith\u001B[39;00m config_context(\n\u001B[1;32m   1147\u001B[0m     skip_parameter_validation\u001B[38;5;241m=\u001B[39m(\n\u001B[1;32m   1148\u001B[0m         prefer_skip_nested_validation \u001B[38;5;129;01mor\u001B[39;00m global_skip_validation\n\u001B[1;32m   1149\u001B[0m     )\n\u001B[1;32m   1150\u001B[0m ):\n\u001B[0;32m-> 1151\u001B[0m     \u001B[38;5;28;01mreturn\u001B[39;00m \u001B[43mfit_method\u001B[49m\u001B[43m(\u001B[49m\u001B[43mestimator\u001B[49m\u001B[43m,\u001B[49m\u001B[43m \u001B[49m\u001B[38;5;241;43m*\u001B[39;49m\u001B[43margs\u001B[49m\u001B[43m,\u001B[49m\u001B[43m \u001B[49m\u001B[38;5;241;43m*\u001B[39;49m\u001B[38;5;241;43m*\u001B[39;49m\u001B[43mkwargs\u001B[49m\u001B[43m)\u001B[49m\n",
      "File \u001B[0;32m~/anaconda3/envs/cooling_env/lib/python3.8/site-packages/sklearn/linear_model/_base.py:678\u001B[0m, in \u001B[0;36mLinearRegression.fit\u001B[0;34m(self, X, y, sample_weight)\u001B[0m\n\u001B[1;32m    674\u001B[0m n_jobs_ \u001B[38;5;241m=\u001B[39m \u001B[38;5;28mself\u001B[39m\u001B[38;5;241m.\u001B[39mn_jobs\n\u001B[1;32m    676\u001B[0m accept_sparse \u001B[38;5;241m=\u001B[39m \u001B[38;5;28;01mFalse\u001B[39;00m \u001B[38;5;28;01mif\u001B[39;00m \u001B[38;5;28mself\u001B[39m\u001B[38;5;241m.\u001B[39mpositive \u001B[38;5;28;01melse\u001B[39;00m [\u001B[38;5;124m\"\u001B[39m\u001B[38;5;124mcsr\u001B[39m\u001B[38;5;124m\"\u001B[39m, \u001B[38;5;124m\"\u001B[39m\u001B[38;5;124mcsc\u001B[39m\u001B[38;5;124m\"\u001B[39m, \u001B[38;5;124m\"\u001B[39m\u001B[38;5;124mcoo\u001B[39m\u001B[38;5;124m\"\u001B[39m]\n\u001B[0;32m--> 678\u001B[0m X, y \u001B[38;5;241m=\u001B[39m \u001B[38;5;28;43mself\u001B[39;49m\u001B[38;5;241;43m.\u001B[39;49m\u001B[43m_validate_data\u001B[49m\u001B[43m(\u001B[49m\n\u001B[1;32m    679\u001B[0m \u001B[43m    \u001B[49m\u001B[43mX\u001B[49m\u001B[43m,\u001B[49m\u001B[43m \u001B[49m\u001B[43my\u001B[49m\u001B[43m,\u001B[49m\u001B[43m \u001B[49m\u001B[43maccept_sparse\u001B[49m\u001B[38;5;241;43m=\u001B[39;49m\u001B[43maccept_sparse\u001B[49m\u001B[43m,\u001B[49m\u001B[43m \u001B[49m\u001B[43my_numeric\u001B[49m\u001B[38;5;241;43m=\u001B[39;49m\u001B[38;5;28;43;01mTrue\u001B[39;49;00m\u001B[43m,\u001B[49m\u001B[43m \u001B[49m\u001B[43mmulti_output\u001B[49m\u001B[38;5;241;43m=\u001B[39;49m\u001B[38;5;28;43;01mTrue\u001B[39;49;00m\n\u001B[1;32m    680\u001B[0m \u001B[43m\u001B[49m\u001B[43m)\u001B[49m\n\u001B[1;32m    682\u001B[0m has_sw \u001B[38;5;241m=\u001B[39m sample_weight \u001B[38;5;129;01mis\u001B[39;00m \u001B[38;5;129;01mnot\u001B[39;00m \u001B[38;5;28;01mNone\u001B[39;00m\n\u001B[1;32m    683\u001B[0m \u001B[38;5;28;01mif\u001B[39;00m has_sw:\n",
      "File \u001B[0;32m~/anaconda3/envs/cooling_env/lib/python3.8/site-packages/sklearn/base.py:621\u001B[0m, in \u001B[0;36mBaseEstimator._validate_data\u001B[0;34m(self, X, y, reset, validate_separately, cast_to_ndarray, **check_params)\u001B[0m\n\u001B[1;32m    619\u001B[0m         y \u001B[38;5;241m=\u001B[39m check_array(y, input_name\u001B[38;5;241m=\u001B[39m\u001B[38;5;124m\"\u001B[39m\u001B[38;5;124my\u001B[39m\u001B[38;5;124m\"\u001B[39m, \u001B[38;5;241m*\u001B[39m\u001B[38;5;241m*\u001B[39mcheck_y_params)\n\u001B[1;32m    620\u001B[0m     \u001B[38;5;28;01melse\u001B[39;00m:\n\u001B[0;32m--> 621\u001B[0m         X, y \u001B[38;5;241m=\u001B[39m \u001B[43mcheck_X_y\u001B[49m\u001B[43m(\u001B[49m\u001B[43mX\u001B[49m\u001B[43m,\u001B[49m\u001B[43m \u001B[49m\u001B[43my\u001B[49m\u001B[43m,\u001B[49m\u001B[43m \u001B[49m\u001B[38;5;241;43m*\u001B[39;49m\u001B[38;5;241;43m*\u001B[39;49m\u001B[43mcheck_params\u001B[49m\u001B[43m)\u001B[49m\n\u001B[1;32m    622\u001B[0m     out \u001B[38;5;241m=\u001B[39m X, y\n\u001B[1;32m    624\u001B[0m \u001B[38;5;28;01mif\u001B[39;00m \u001B[38;5;129;01mnot\u001B[39;00m no_val_X \u001B[38;5;129;01mand\u001B[39;00m check_params\u001B[38;5;241m.\u001B[39mget(\u001B[38;5;124m\"\u001B[39m\u001B[38;5;124mensure_2d\u001B[39m\u001B[38;5;124m\"\u001B[39m, \u001B[38;5;28;01mTrue\u001B[39;00m):\n",
      "File \u001B[0;32m~/anaconda3/envs/cooling_env/lib/python3.8/site-packages/sklearn/utils/validation.py:1163\u001B[0m, in \u001B[0;36mcheck_X_y\u001B[0;34m(X, y, accept_sparse, accept_large_sparse, dtype, order, copy, force_all_finite, ensure_2d, allow_nd, multi_output, ensure_min_samples, ensure_min_features, y_numeric, estimator)\u001B[0m\n\u001B[1;32m   1143\u001B[0m     \u001B[38;5;28;01mraise\u001B[39;00m \u001B[38;5;167;01mValueError\u001B[39;00m(\n\u001B[1;32m   1144\u001B[0m         \u001B[38;5;124mf\u001B[39m\u001B[38;5;124m\"\u001B[39m\u001B[38;5;132;01m{\u001B[39;00mestimator_name\u001B[38;5;132;01m}\u001B[39;00m\u001B[38;5;124m requires y to be passed, but the target y is None\u001B[39m\u001B[38;5;124m\"\u001B[39m\n\u001B[1;32m   1145\u001B[0m     )\n\u001B[1;32m   1147\u001B[0m X \u001B[38;5;241m=\u001B[39m check_array(\n\u001B[1;32m   1148\u001B[0m     X,\n\u001B[1;32m   1149\u001B[0m     accept_sparse\u001B[38;5;241m=\u001B[39maccept_sparse,\n\u001B[0;32m   (...)\u001B[0m\n\u001B[1;32m   1160\u001B[0m     input_name\u001B[38;5;241m=\u001B[39m\u001B[38;5;124m\"\u001B[39m\u001B[38;5;124mX\u001B[39m\u001B[38;5;124m\"\u001B[39m,\n\u001B[1;32m   1161\u001B[0m )\n\u001B[0;32m-> 1163\u001B[0m y \u001B[38;5;241m=\u001B[39m \u001B[43m_check_y\u001B[49m\u001B[43m(\u001B[49m\u001B[43my\u001B[49m\u001B[43m,\u001B[49m\u001B[43m \u001B[49m\u001B[43mmulti_output\u001B[49m\u001B[38;5;241;43m=\u001B[39;49m\u001B[43mmulti_output\u001B[49m\u001B[43m,\u001B[49m\u001B[43m \u001B[49m\u001B[43my_numeric\u001B[49m\u001B[38;5;241;43m=\u001B[39;49m\u001B[43my_numeric\u001B[49m\u001B[43m,\u001B[49m\u001B[43m \u001B[49m\u001B[43mestimator\u001B[49m\u001B[38;5;241;43m=\u001B[39;49m\u001B[43mestimator\u001B[49m\u001B[43m)\u001B[49m\n\u001B[1;32m   1165\u001B[0m check_consistent_length(X, y)\n\u001B[1;32m   1167\u001B[0m \u001B[38;5;28;01mreturn\u001B[39;00m X, y\n",
      "File \u001B[0;32m~/anaconda3/envs/cooling_env/lib/python3.8/site-packages/sklearn/utils/validation.py:1188\u001B[0m, in \u001B[0;36m_check_y\u001B[0;34m(y, multi_output, y_numeric, estimator)\u001B[0m\n\u001B[1;32m   1186\u001B[0m     _ensure_no_complex_data(y)\n\u001B[1;32m   1187\u001B[0m \u001B[38;5;28;01mif\u001B[39;00m y_numeric \u001B[38;5;129;01mand\u001B[39;00m y\u001B[38;5;241m.\u001B[39mdtype\u001B[38;5;241m.\u001B[39mkind \u001B[38;5;241m==\u001B[39m \u001B[38;5;124m\"\u001B[39m\u001B[38;5;124mO\u001B[39m\u001B[38;5;124m\"\u001B[39m:\n\u001B[0;32m-> 1188\u001B[0m     y \u001B[38;5;241m=\u001B[39m \u001B[43my\u001B[49m\u001B[38;5;241;43m.\u001B[39;49m\u001B[43mastype\u001B[49m\u001B[43m(\u001B[49m\u001B[43mnp\u001B[49m\u001B[38;5;241;43m.\u001B[39;49m\u001B[43mfloat64\u001B[49m\u001B[43m)\u001B[49m\n\u001B[1;32m   1190\u001B[0m \u001B[38;5;28;01mreturn\u001B[39;00m y\n",
      "\u001B[0;31mTypeError\u001B[0m: float() argument must be a string or a number, not 'Timestamp'"
     ]
    }
   ],
   "source": [
    "model = LinearRegression().fit(vertiv_df, ipmi_df)\n",
    "print(model)"
   ],
   "metadata": {
    "collapsed": false,
    "ExecuteTime": {
     "end_time": "2023-11-11T03:03:37.695679440Z",
     "start_time": "2023-11-11T03:03:36.537194221Z"
    }
   },
   "id": "118a70fbe9449cf1"
  },
  {
   "cell_type": "code",
   "execution_count": null,
   "outputs": [],
   "source": [],
   "metadata": {
    "collapsed": false,
    "ExecuteTime": {
     "end_time": "2023-11-11T03:03:37.745262967Z",
     "start_time": "2023-11-11T03:03:37.697542247Z"
    }
   },
   "id": "46493ce89db187d0"
  }
 ],
 "metadata": {
  "kernelspec": {
   "display_name": "Python 3",
   "language": "python",
   "name": "python3"
  },
  "language_info": {
   "codemirror_mode": {
    "name": "ipython",
    "version": 2
   },
   "file_extension": ".py",
   "mimetype": "text/x-python",
   "name": "python",
   "nbconvert_exporter": "python",
   "pygments_lexer": "ipython2",
   "version": "2.7.6"
  }
 },
 "nbformat": 4,
 "nbformat_minor": 5
}
