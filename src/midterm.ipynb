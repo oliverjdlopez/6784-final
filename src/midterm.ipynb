{
 "cells": [
  {
   "cell_type": "code",
   "execution_count": 1,
   "id": "initial_id",
   "metadata": {
    "collapsed": true,
    "ExecuteTime": {
     "end_time": "2023-12-09T07:07:39.624534413Z",
     "start_time": "2023-12-09T07:07:37.346394233Z"
    }
   },
   "outputs": [],
   "source": [
    "import pandas\n",
    "%reset -f\n",
    "\n",
    "import sys\n",
    "sys.path.append(\"../data/exadata/parquet_dataset/query_tool\")\n",
    "\n",
    "from toolz import pipe\n",
    "import pandas as pd\n",
    "import numpy as np\n",
    "import datetime\n",
    "import torch\n",
    "from torch.utils.data import Dataset, DataLoader\n",
    "from sklearn.linear_model import LinearRegression\n",
    "from query_tool import M100DataClient\n",
    "from matplotlib import pyplot as plt\n",
    "from models import LinearNN, StateEstimator\n",
    "\n",
    "dataset_path = \"../data/m100\"\n",
    "client = M100DataClient(dataset_path)\n",
    "\n"
   ]
  },
  {
   "cell_type": "code",
   "execution_count": 2,
   "outputs": [
    {
     "name": "stdout",
     "output_type": "stream",
     "text": [
      "Retrieving data of type: float\n",
      "Retrieving data of type: int32\n",
      "Retrieving data of type: int32\n"
     ]
    },
    {
     "data": {
      "text/plain": "                            ambient  gpu0_core_temp  p0_core0_temp\ntimestamp           node                                          \n2022-02-23 08:39:40 73    23.600000            <NA>           <NA>\n2022-02-20 10:15:00 467   21.200001            <NA>           <NA>\n2022-02-09 22:48:20 479   26.000000            <NA>           <NA>\n2022-02-13 13:06:20 680   19.200001            <NA>           <NA>\n2022-02-01 06:18:40 812   23.799999            <NA>           <NA>\n...                             ...             ...            ...\n2022-02-20 03:43:20 189         NaN              67           <NA>\n2022-02-18 12:40:20 74          NaN              43           <NA>\n2022-02-05 16:49:20 602         NaN              31           <NA>\n2022-02-07 23:09:40 201         NaN              47           <NA>\n2022-02-14 07:19:00 445         NaN              70           <NA>\n\n[100 rows x 3 columns]",
      "text/html": "<div>\n<style scoped>\n    .dataframe tbody tr th:only-of-type {\n        vertical-align: middle;\n    }\n\n    .dataframe tbody tr th {\n        vertical-align: top;\n    }\n\n    .dataframe thead th {\n        text-align: right;\n    }\n</style>\n<table border=\"1\" class=\"dataframe\">\n  <thead>\n    <tr style=\"text-align: right;\">\n      <th></th>\n      <th></th>\n      <th>ambient</th>\n      <th>gpu0_core_temp</th>\n      <th>p0_core0_temp</th>\n    </tr>\n    <tr>\n      <th>timestamp</th>\n      <th>node</th>\n      <th></th>\n      <th></th>\n      <th></th>\n    </tr>\n  </thead>\n  <tbody>\n    <tr>\n      <th>2022-02-23 08:39:40</th>\n      <th>73</th>\n      <td>23.600000</td>\n      <td>&lt;NA&gt;</td>\n      <td>&lt;NA&gt;</td>\n    </tr>\n    <tr>\n      <th>2022-02-20 10:15:00</th>\n      <th>467</th>\n      <td>21.200001</td>\n      <td>&lt;NA&gt;</td>\n      <td>&lt;NA&gt;</td>\n    </tr>\n    <tr>\n      <th>2022-02-09 22:48:20</th>\n      <th>479</th>\n      <td>26.000000</td>\n      <td>&lt;NA&gt;</td>\n      <td>&lt;NA&gt;</td>\n    </tr>\n    <tr>\n      <th>2022-02-13 13:06:20</th>\n      <th>680</th>\n      <td>19.200001</td>\n      <td>&lt;NA&gt;</td>\n      <td>&lt;NA&gt;</td>\n    </tr>\n    <tr>\n      <th>2022-02-01 06:18:40</th>\n      <th>812</th>\n      <td>23.799999</td>\n      <td>&lt;NA&gt;</td>\n      <td>&lt;NA&gt;</td>\n    </tr>\n    <tr>\n      <th>...</th>\n      <th>...</th>\n      <td>...</td>\n      <td>...</td>\n      <td>...</td>\n    </tr>\n    <tr>\n      <th>2022-02-20 03:43:20</th>\n      <th>189</th>\n      <td>NaN</td>\n      <td>67</td>\n      <td>&lt;NA&gt;</td>\n    </tr>\n    <tr>\n      <th>2022-02-18 12:40:20</th>\n      <th>74</th>\n      <td>NaN</td>\n      <td>43</td>\n      <td>&lt;NA&gt;</td>\n    </tr>\n    <tr>\n      <th>2022-02-05 16:49:20</th>\n      <th>602</th>\n      <td>NaN</td>\n      <td>31</td>\n      <td>&lt;NA&gt;</td>\n    </tr>\n    <tr>\n      <th>2022-02-07 23:09:40</th>\n      <th>201</th>\n      <td>NaN</td>\n      <td>47</td>\n      <td>&lt;NA&gt;</td>\n    </tr>\n    <tr>\n      <th>2022-02-14 07:19:00</th>\n      <th>445</th>\n      <td>NaN</td>\n      <td>70</td>\n      <td>&lt;NA&gt;</td>\n    </tr>\n  </tbody>\n</table>\n<p>100 rows × 3 columns</p>\n</div>"
     },
     "execution_count": 2,
     "metadata": {},
     "output_type": "execute_result"
    }
   ],
   "source": [
    "\"\"\"Cell purpose: pull desired features from plugins\"\"\"\n",
    "\n",
    "\n",
    "#TODO: Merging method, working for columns that aren't timestamp,node,value\n",
    "#For now I think it's necessary to do it this way because of memory issues\n",
    "def extract_features(feature_list, n_rows, columns, year_month):\n",
    "    df = pd.DataFrame()\n",
    "    for f in feature_list: \n",
    "        query_df = client.query(f, \n",
    "                      columns=columns,\n",
    "                      year_month=year_month)\n",
    "        \n",
    "        samples = np.random.randint(low = 0, high = query_df.shape[0], size = n_rows)\n",
    "        sampled_df = query_df if query_df.shape[0] < n_rows else query_df.iloc[samples] \n",
    "        multi_idx= pd.MultiIndex.from_arrays([sampled_df[\"timestamp\"].values, sampled_df[\"node\"].values], names = (\"timestamp\", \"node\"))\n",
    "        data = {f: sampled_df[\"value\"].values}\n",
    "        processed_df = pd.DataFrame(index = multi_idx, data=data)\n",
    "        if df.empty:\n",
    "            df = processed_df\n",
    "        else:\n",
    "            # df = pd.merge(df, processed_df, left_index=True, right_index=True)\n",
    "            # df = pd.merge(df, processed_df, how=\"outer\")\n",
    "            df = pd.concat([df, processed_df], join=\"outer\")\n",
    "    return df\n",
    "\n",
    "n_rows = 50\n",
    "year_month = [\"22-02\"]\n",
    "\n",
    "#ipmi collects physical/hardware properties of nodes\n",
    "ipmi_features = [\"ambient\", \"gpu0_core_temp\", \"p0_core0_temp\"]\n",
    "ipmi_columns = [\"timestamp\", \"node\", \"value\"]\n",
    "ipmi_df = extract_features(ipmi_features, n_rows, ipmi_columns, year_month)\n",
    "\n",
    "\n",
    "#vertiv plugin collects data for AC cooling \n",
    "# vertiv_df = client.query([\"Supply_Air_Temperature\", \"Return_Air_Temperature\"],\n",
    "#                   columns=['timestamp','value'],\n",
    "#                   year_month=[\"22-02\"])\n",
    "\n",
    "\n",
    "# #ganglia collects metrics on utilization of hardware\n",
    "# ganglia_df = client.query([\"load_fifteen\"],\n",
    "#                   columns=['timestamp', \"node\", 'value'],\n",
    "#                   year_month=[\"22-02\"])\n",
    "\n",
    "# logics collects power consumption data from equipment and devices\n",
    "# logics_df = client.query([\"Tot\"],\n",
    "#                   columns=['timestamp', \"device\", \"panel\", 'value'],\n",
    "#                   year_month=[\"22-02\"])\n",
    "\n",
    "#schneider collects data on liquid cooling system\n",
    "# schneider_df = client.query([\"Tot\"],\n",
    "#                   columns=['timestamp', \"node\", 'value'],\n",
    "#                   year_month=[\"22-02\"])\n",
    "\n",
    "#weather data\n",
    "# weather_df = client.query([\"temp\"],\n",
    "#                   columns=['timestamp', 'value'],\n",
    "#                   year_month=[\"22-02\"])\n",
    "\n",
    "\n",
    "ipmi_df.head(100)\n"
   ],
   "metadata": {
    "collapsed": false,
    "ExecuteTime": {
     "end_time": "2023-12-09T07:07:46.817549202Z",
     "start_time": "2023-12-09T07:07:39.625577291Z"
    }
   },
   "id": "22578a71535bd1bf"
  },
  {
   "cell_type": "code",
   "execution_count": 3,
   "outputs": [
    {
     "name": "stdout",
     "output_type": "stream",
     "text": [
      "(150, 3)\n"
     ]
    },
    {
     "ename": "TypeError",
     "evalue": "pivot() missing 1 required keyword-only argument: 'columns'",
     "output_type": "error",
     "traceback": [
      "\u001B[0;31m---------------------------------------------------------------------------\u001B[0m",
      "\u001B[0;31mTypeError\u001B[0m                                 Traceback (most recent call last)",
      "Cell \u001B[0;32mIn[3], line 6\u001B[0m\n\u001B[1;32m      4\u001B[0m \u001B[38;5;28;01mfor\u001B[39;00m d \u001B[38;5;129;01min\u001B[39;00m plugin_dfs:\n\u001B[1;32m      5\u001B[0m     \u001B[38;5;28mprint\u001B[39m(d\u001B[38;5;241m.\u001B[39mshape)\n\u001B[0;32m----> 6\u001B[0m     \u001B[38;5;28mprint\u001B[39m(\u001B[43md\u001B[49m\u001B[38;5;241;43m.\u001B[39;49m\u001B[43mpivot\u001B[49m\u001B[43m(\u001B[49m\u001B[43mindex\u001B[49m\u001B[38;5;241;43m=\u001B[39;49m\u001B[38;5;124;43m\"\u001B[39;49m\u001B[38;5;124;43mtimestamp\u001B[39;49m\u001B[38;5;124;43m\"\u001B[39;49m\u001B[43m)\u001B[49m\u001B[38;5;241m.\u001B[39mhead(\u001B[38;5;241m3\u001B[39m))\n",
      "\u001B[0;31mTypeError\u001B[0m: pivot() missing 1 required keyword-only argument: 'columns'"
     ]
    }
   ],
   "source": [
    "# dfs = [weather_df, schneider_df, logics_df, ganglia_df, ipmi_df, vertiv_df]\n",
    "# plugin_dfs = [ipmi_df, vertiv_df, weather_df]\n",
    "plugin_dfs = [ipmi_df]\n",
    "for d in plugin_dfs:\n",
    "    print(d.shape)\n",
    "    print(d.pivot(index=\"timestamp\").head(3))"
   ],
   "metadata": {
    "collapsed": false,
    "ExecuteTime": {
     "end_time": "2023-12-09T07:07:47.617337765Z",
     "start_time": "2023-12-09T07:07:46.816848196Z"
    }
   },
   "id": "176c98e2cc36cbe1"
  },
  {
   "cell_type": "code",
   "execution_count": null,
   "outputs": [],
   "source": [
    "\"\"\"Cell purpose: preprocess and/or merge data as desired\"\"\"\n",
    "df = pd.concat(plugin_dfs)\n",
    "# print(merged_df[\"timestamp\"].astype(np.int64) * 10e-9)\n",
    "# merge_df[\"timestamp\"] = merge_df[\"timestamp\"].apply(lambda ts: ts.as_unit(\"ns\"))\n",
    "df.head(10)"
   ],
   "metadata": {
    "collapsed": false,
    "ExecuteTime": {
     "end_time": "2023-12-09T07:07:47.623525300Z",
     "start_time": "2023-12-09T07:07:47.619924143Z"
    }
   },
   "id": "6b1733a0c94ce8c0"
  },
  {
   "cell_type": "code",
   "execution_count": null,
   "outputs": [],
   "source": [
    "# Will have to make work with timestamp indexign later\n",
    "class M100Data(Dataset):\n",
    "    def __init__(self, df, transform = None, label_transform = None):\n",
    "        self.df = df\n",
    "        self.transform = transform\n",
    "\n",
    "    def __len__(self):\n",
    "        return len(self.df.shape[0])\n",
    "\n",
    "    def __getitem__(self, idx):\n",
    "        pass\n",
    "        # return feat, label\n",
    "    \n",
    "    "
   ],
   "metadata": {
    "collapsed": false,
    "ExecuteTime": {
     "start_time": "2023-12-09T07:07:47.622859742Z"
    }
   },
   "id": "4a17ace650982f45"
  },
  {
   "cell_type": "code",
   "execution_count": null,
   "outputs": [],
   "source": [
    "trainloader = DataLoader(train_ds, batch_size = 8, shuffle = True)\n",
    "model = LinearNN()"
   ],
   "metadata": {
    "collapsed": false,
    "ExecuteTime": {
     "start_time": "2023-12-09T07:07:47.666504352Z"
    }
   },
   "id": "b9f72e50101dbd20"
  },
  {
   "cell_type": "code",
   "execution_count": null,
   "outputs": [],
   "source": [
    "\"\"\"Cell purpose: train\"\"\"\n",
    "# model = LinearRegression().fit(merged_df[\"air_temp\"].to_numpy().reshape(-1,1), merged_df[\"ambient_temp\"].to_numpy().reshape(-1,1))"
   ],
   "metadata": {
    "collapsed": false,
    "ExecuteTime": {
     "end_time": "2023-12-09T07:07:47.667219844Z",
     "start_time": "2023-12-09T07:07:47.666705981Z"
    }
   },
   "id": "da89ca240a6e4c2b"
  },
  {
   "cell_type": "code",
   "execution_count": null,
   "outputs": [],
   "source": [
    "\"\"\"Cell purpose: inference\"\"\"\n",
    "# preds = model.predict(test_df[\"air_temp\"].to_numpy().reshape(-1,1))\n"
   ],
   "metadata": {
    "collapsed": false,
    "ExecuteTime": {
     "start_time": "2023-12-09T07:07:47.666798315Z"
    }
   },
   "id": "118a70fbe9449cf1"
  },
  {
   "cell_type": "code",
   "execution_count": null,
   "outputs": [],
   "source": [
    "\"\"\"Cell purpose: benchmarking\"\"\"\n",
    "\n",
    "# labels = test_df[\"ambient_temp\"].to_numpy().reshape(-1,1)\n",
    "# \n",
    "# \n",
    "# timesteps = [t for t in range(preds.shape[0])]\n",
    "# colors = iter(plt.cm.rainbow(np.linspace(0, 0.5, 2)))\n",
    "# plt.scatter(preds, labels, c=[\"blue\", \"red\"])\n",
    "# \n",
    "# plt.legend(loc=\"upper left\")\n",
    "# plt.xlabel(\"Time\")\n",
    "# plt.ylabel(\"Ambient temperature\")\n",
    "# plt.grid()\n",
    "# plt.show()\n",
    "\n"
   ],
   "metadata": {
    "collapsed": false,
    "ExecuteTime": {
     "start_time": "2023-12-09T07:07:47.666956331Z"
    }
   },
   "id": "46493ce89db187d0"
  },
  {
   "cell_type": "code",
   "execution_count": null,
   "outputs": [],
   "source": [
    "\"\"\n"
   ],
   "metadata": {
    "collapsed": false,
    "ExecuteTime": {
     "start_time": "2023-12-09T07:07:47.667013106Z"
    }
   },
   "id": "8ca995608b0b8e6c"
  }
 ],
 "metadata": {
  "kernelspec": {
   "display_name": "Python 3",
   "language": "python",
   "name": "python3"
  },
  "language_info": {
   "codemirror_mode": {
    "name": "ipython",
    "version": 2
   },
   "file_extension": ".py",
   "mimetype": "text/x-python",
   "name": "python",
   "nbconvert_exporter": "python",
   "pygments_lexer": "ipython2",
   "version": "2.7.6"
  }
 },
 "nbformat": 4,
 "nbformat_minor": 5
}
