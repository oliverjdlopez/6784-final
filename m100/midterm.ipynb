{
 "cells": [
  {
   "cell_type": "code",
   "execution_count": null,
   "id": "initial_id",
   "metadata": {
    "collapsed": true,
    "ExecuteTime": {
     "start_time": "2023-12-10T22:26:34.251412Z"
    }
   },
   "outputs": [],
   "source": [
    "%reset -f\n",
    "\n",
    "import sys\n",
    "sys.path.append(\"../data/exadata/parquet_dataset/query_tool\")\n",
    "\n",
    "import os\n",
    "import pandas as pd\n",
    "import numpy as np\n",
    "import datetime\n",
    "import torch\n",
    "from torch.utils.data import Dataset, DataLoader\n",
    "from sklearn.linear_model import LinearRegression\n",
    "from query_tool import M100DataClient\n",
    "from matplotlib import pyplot as plt\n",
    "from models import *\n",
    "\n",
    "dataset_path = \"../data/m100\"\n",
    "processed_path = \"../data\"\n",
    "client = M100DataClient(dataset_path)\n",
    "\n"
   ]
  },
  {
   "cell_type": "code",
   "execution_count": null,
   "outputs": [],
   "source": [
    "\"\"\"Cell purpose: pull desired features from plugins\"\"\"\n",
    "\n",
    "\n",
    "#TODO: Merging method, working for columns that aren't timestamp,node,value\n",
    "#For now I think it's necessary to do it this way because of memory issues\n",
    "# def extract_features(feature_list, n_rows, columns, year_month):\n",
    "#     df = pd.DataFrame()\n",
    "#     for f in feature_list: \n",
    "#         query_df = client.query(f, \n",
    "#                       columns=columns,\n",
    "#                       year_month=year_month)\n",
    "#         \n",
    "#         samples = np.random.randint(low = 0, high = query_df.shape[0], size = n_rows)\n",
    "#         sampled_df = query_df if query_df.shape[0] < n_rows else query_df.iloc[samples] \n",
    "#         multi_idx= pd.MultiIndex.from_arrays([sampled_df[\"timestamp\"].values, sampled_df[\"node\"].values], names = (\"timestamp\", \"node\"))\n",
    "#         data = {f: sampled_df[\"value\"].values}\n",
    "#         processed_df = pd.DataFrame(index = multi_idx, data=data)\n",
    "#         if df.empty:\n",
    "#             df = processed_df\n",
    "#         else:\n",
    "#             df = pd.concat([df, processed_df], join=\"outer\")\n",
    "#     return df\n",
    "\n",
    "def extract_features(feature_list, n_rows, nodes_of_interest, columns, year_month):\n",
    "    plugin_df = pd.DataFrame()\n",
    "    node_dfs = []\n",
    "    for f in feature_list: \n",
    "        query_df = client.query(f, \n",
    "                      columns=columns,\n",
    "                      year_month=year_month)   \n",
    "        query_df.dropna(inplace=True)\n",
    "        node_list = query_df[\"node\"].to_numpy().astype(np.int32)\n",
    "        for noi in nodes_of_interest:\n",
    "            idxs = np.where(node_list == noi, True, False)\n",
    "            nodes = query_df.iloc[idxs].iloc[:n_rows]\n",
    "            node_values = nodes[\"value\"].values\n",
    "            \n",
    "            node_df = pd.DataFrame(index=nodes[\"timestamp\"])\n",
    "            new_name = str(noi) + \"_\" + str(f)\n",
    "            node_df[new_name] = node_values\n",
    "            node_dfs.append(node_df)\n",
    "    plugin_df=pd.concat(node_dfs, axis=1, join=\"outer\")\n",
    "    # plugin_df = node_dfs[0]\n",
    "    # for d in node_dfs[1:]:  \n",
    "    #     plugin_df = plugin_df.concat(d, axis=1, join=\"outer\")\n",
    "    return plugin_df\n",
    "\n",
    "# def extract_features_simple (feature_list, n_rows, nodes_of_interest, columns, year_month):\n",
    "#     plugin_df = pd.DataFrame()\n",
    "#     node_dfs = []\n",
    "#     for f in feature_list: \n",
    "#         query_df = client.query(f, \n",
    "#                       columns=columns,\n",
    "#                       year_month=year_month)   \n",
    "#         for noi in nodes_of_interest:\n",
    "#         df = quer_df[]\n",
    "#     \n",
    "\n",
    "n_rows = 10000\n",
    "# nodes_of_interest = [i for i in range(10)]\n",
    "nodes_of_interest = [0]\n",
    "year_month = [\"22-02\"]\n",
    "\n",
    "#ipmi collects physical/hardware properties of nodes\n",
    "ipmi_features = [\"ambient\", \"gpu0_core_temp\"]\n",
    "ipmi_columns = [\"timestamp\", \"node\", \"value\"]\n",
    "ipmi_df = extract_features(ipmi_features, n_rows, nodes_of_interest, ipmi_columns, year_month)\n",
    "ipmi_df.to_csv(os.path.join(processed_path, \"ipmi.csv\"))\n",
    "\n",
    "#vertiv plugin collects data for AC cooling \n",
    "# vertiv_features = [\"Supply_Air_Temperature\"]\n",
    "# vertiv_labels = [\"Return_Air_Temperature\"]\n",
    "# vertiv_df = client.query([\"Supply_Air_Temperature\", \"Return_Air_Temperature\"],\n",
    "#                   columns=['timestamp','value'],\n",
    "#                   year_month=[\"22-02\"])\n",
    "\n",
    "\n",
    "\n",
    "# #ganglia collects metrics on utilization of hardware\n",
    "ganglia_features = [\"Tot\"]\n",
    "ganglia_columns = [\"timestamp\", \"node\", \"value\"]\n",
    "ganglia_df = extract_features(ganglia_features, n_rows, nodes_of_interest, ganglia_columns, year_month)\n",
    "ganglia_df.to_csv(os.path.join(processed_path, \"ganglia.csv\"))\n",
    "\n",
    "# logics collects power consumption data from equipment and devices\n",
    "# logics_df = client.query([\"Tot\"],\n",
    "#                   columns=['timestamp', \"device\", \"panel\", 'value'],\n",
    "#                   year_month=[\"22-02\"])\n",
    "\n",
    "#schneider collects data on liquid cooling system\n",
    "# schneider_df = client.query([\"Tot\"],\n",
    "#                   columns=['timestamp', \"node\", 'value'],\n",
    "#                   year_month=[\"22-02\"])\n",
    "\n",
    "#weather data\n",
    "# weather_df = client.query([\"temp\"],\n",
    "#                   columns=['timestamp', 'value'],\n",
    "#                   year_month=[\"22-02\"])\n",
    "\n",
    "\n"
   ],
   "metadata": {
    "collapsed": false,
    "ExecuteTime": {
     "start_time": "2023-12-10T22:26:34.256412400Z"
    }
   },
   "id": "22578a71535bd1bf"
  },
  {
   "cell_type": "code",
   "execution_count": null,
   "outputs": [],
   "source": [
    "ipmi_df\n",
    "plugin_dfs = [ipmi_df] #start w/ small one for now\n",
    "df = pd.concat(plugin_dfs)\n"
   ],
   "metadata": {
    "collapsed": false,
    "ExecuteTime": {
     "start_time": "2023-12-10T22:26:34.260455400Z"
    }
   },
   "id": "176c98e2cc36cbe1"
  },
  {
   "cell_type": "code",
   "execution_count": null,
   "outputs": [],
   "source": [
    "\"\"\"Cell purpose: preprocess and/or merge data as desired\"\"\"\n",
    "def df_to_X_y(df, feature_list, label_list):\n",
    "    return df.loc[feature_list], df.loc[label_list]\n",
    "    \n",
    "\n",
    "feature_list = [\"0_ambient\"]\n",
    "label_list = [\"0_gpu0_core_temp\"] #not what we actually want, but for testing\n",
    "feature_df = df[feature_list] \n",
    "label_df = df[label_list]\n",
    "\n",
    "#align t and t+1\n",
    "feature_df = feature_df.iloc[:-1]\n",
    "label_df = label_df.iloc[1:]\n",
    "\n",
    "\n",
    "trainX = None\n",
    "trainY = None\n",
    "\n"
   ],
   "metadata": {
    "collapsed": false,
    "ExecuteTime": {
     "start_time": "2023-12-10T22:26:34.264480100Z"
    }
   },
   "id": "6b1733a0c94ce8c0"
  },
  {
   "cell_type": "code",
   "execution_count": null,
   "outputs": [],
   "source": [
    "# Will have to make work with timestamp indexign later\n",
    "class M100Data(Dataset):\n",
    "    def __init__(self, feature_df, label_df, transform = None, label_transform = None):\n",
    "        self.feature_df = feature_df\n",
    "        self.label_df = label_df\n",
    "        self.transform = transform\n",
    "        self.feature_dim = self.feature_df.shape[1]\n",
    "        self.label_dim = self.label_df.shape[1]\n",
    "    def __len__(self):\n",
    "        return self.feature_df.shape[0]\n",
    "\n",
    "    def __getitem__(self, idx):\n",
    "        feature = torch.as_tensor(self.feature_df.iloc[idx].values)\n",
    "        label = torch.as_tensor(self.label_df.iloc[idx].values)\n",
    "        return feature, label\n",
    "    \n",
    "train_ds = M100Data(feature_df, label_df)\n",
    "trainloader = DataLoader(train_ds, batch_size = 8, shuffle = True)\n"
   ],
   "metadata": {
    "collapsed": false,
    "ExecuteTime": {
     "start_time": "2023-12-10T22:26:34.268412100Z"
    }
   },
   "id": "4a17ace650982f45"
  },
  {
   "cell_type": "code",
   "execution_count": null,
   "outputs": [],
   "source": [],
   "metadata": {
    "collapsed": false,
    "ExecuteTime": {
     "start_time": "2023-12-10T22:26:34.270420700Z"
    }
   },
   "id": "96a5aadcd8397788"
  },
  {
   "cell_type": "code",
   "execution_count": null,
   "outputs": [],
   "source": [
    "\n",
    "epochs = 1\n",
    "model = LinearNN(train_ds.feature_dim, train_ds.label_dim)\n",
    "optimizer = torch.optim.SGD(model.parameters())\n",
    "loss_fn = torch.nn.CrossEntropyLoss()\n",
    "train(model, trainloader, optimizer, loss_fn, epochs)"
   ],
   "metadata": {
    "collapsed": false,
    "ExecuteTime": {
     "start_time": "2023-12-10T22:26:34.274413600Z"
    }
   },
   "id": "b9f72e50101dbd20"
  },
  {
   "cell_type": "code",
   "execution_count": null,
   "outputs": [],
   "source": [
    "\"\"\"Cell purpose: train\"\"\"\n",
    "# model = LinearRegression().fit(merged_df[\"air_temp\"].to_numpy().reshape(-1,1), merged_df[\"ambient_temp\"].to_numpy().reshape(-1,1))"
   ],
   "metadata": {
    "collapsed": false,
    "ExecuteTime": {
     "start_time": "2023-12-10T22:26:34.276412600Z"
    }
   },
   "id": "da89ca240a6e4c2b"
  },
  {
   "cell_type": "code",
   "execution_count": null,
   "outputs": [],
   "source": [
    "\"\"\"Cell purpose: inference\"\"\"\n",
    "# preds = model.predict(test_df[\"air_temp\"].to_numpy().reshape(-1,1))\n"
   ],
   "metadata": {
    "collapsed": false,
    "ExecuteTime": {
     "start_time": "2023-12-10T22:26:34.279413500Z"
    }
   },
   "id": "118a70fbe9449cf1"
  },
  {
   "cell_type": "code",
   "execution_count": null,
   "outputs": [],
   "source": [
    "\"\"\"Cell purpose: benchmarking\"\"\"\n",
    "\n",
    "# labels = test_df[\"ambient_temp\"].to_numpy().reshape(-1,1)\n",
    "# \n",
    "# \n",
    "# timesteps = [t for t in range(preds.shape[0])]\n",
    "# colors = iter(plt.cm.rainbow(np.linspace(0, 0.5, 2)))\n",
    "# plt.scatter(preds, labels, c=[\"blue\", \"red\"])\n",
    "# \n",
    "# plt.legend(loc=\"upper left\")\n",
    "# plt.xlabel(\"Time\")\n",
    "# plt.ylabel(\"Ambient temperature\")\n",
    "# plt.grid()\n",
    "# plt.show()\n",
    "\n"
   ],
   "metadata": {
    "collapsed": false,
    "ExecuteTime": {
     "start_time": "2023-12-10T22:26:34.281427400Z"
    }
   },
   "id": "46493ce89db187d0"
  },
  {
   "cell_type": "code",
   "execution_count": null,
   "outputs": [],
   "source": [
    "\"\"\n"
   ],
   "metadata": {
    "collapsed": false,
    "ExecuteTime": {
     "start_time": "2023-12-10T22:26:34.283424600Z"
    }
   },
   "id": "8ca995608b0b8e6c"
  }
 ],
 "metadata": {
  "kernelspec": {
   "display_name": "Python 3",
   "language": "python",
   "name": "python3"
  },
  "language_info": {
   "codemirror_mode": {
    "name": "ipython",
    "version": 2
   },
   "file_extension": ".py",
   "mimetype": "text/x-python",
   "name": "python",
   "nbconvert_exporter": "python",
   "pygments_lexer": "ipython2",
   "version": "2.7.6"
  }
 },
 "nbformat": 4,
 "nbformat_minor": 5
}
