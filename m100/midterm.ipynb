{
 "cells": [
  {
   "cell_type": "code",
   "execution_count": 1,
   "id": "initial_id",
   "metadata": {
    "collapsed": true,
    "ExecuteTime": {
     "end_time": "2023-12-12T18:40:13.417678700Z",
     "start_time": "2023-12-12T18:40:04.523582600Z"
    }
   },
   "outputs": [],
   "source": [
    "%reset -f\n",
    "\n",
    "import sys\n",
    "sys.path.append(\"../data/exadata/parquet_dataset/query_tool\")\n",
    "\n",
    "import os\n",
    "import pandas as pd\n",
    "import numpy as np\n",
    "import itertools\n",
    "import datetime\n",
    "import torch\n",
    "from torch.utils.data import Dataset, DataLoader\n",
    "from sklearn.linear_model import LinearRegression\n",
    "from query_tool import M100DataClient\n",
    "from matplotlib import pyplot as plt\n",
    "from models import *\n",
    "\n",
    "dataset_path = \"../data/m100\"\n",
    "processed_path = \"../data/processed_m100\"\n",
    "client = M100DataClient(dataset_path)\n",
    "\n"
   ]
  },
  {
   "cell_type": "code",
   "execution_count": 2,
   "outputs": [],
   "source": [
    "#TODO FOR BOTH: TIMESTAMP INDICES\n",
    "\n",
    "def extract_node_values(feature_list, n_rows, nodes_of_interest, columns, year_month):\n",
    "    node_dfs = []\n",
    "    for f in feature_list: \n",
    "        query_df = client.query(f, \n",
    "                      columns=columns,\n",
    "                      year_month=year_month)   \n",
    "        query_df.dropna(inplace=True)\n",
    "        node_list = query_df[\"node\"].to_numpy().astype(np.int32)\n",
    "        for noi in nodes_of_interest:\n",
    "            idxs = np.where(node_list == noi, True, False)\n",
    "            nodes = query_df.iloc[idxs].iloc[:n_rows]\n",
    "            node_values = nodes[\"value\"].values\n",
    "            \n",
    "            node_df = pd.DataFrame(index=nodes[\"timestamp\"])\n",
    "            new_name = str(noi) + \"_\" + str(f)\n",
    "            node_df[new_name] = nodes[\"value\"].values\n",
    "            node_dfs.append(node_df)\n",
    "            \n",
    "    plugin_df=pd.concat(node_dfs, axis=1, join=\"inner\")\n",
    "    return plugin_df\n",
    "\n",
    "def extract_values(feature_list, n_rows, columns, year_month):\n",
    "    dfs = []\n",
    "    for f in feature_list: \n",
    "        query_df = client.query(f, \n",
    "                      columns=columns,\n",
    "                      year_month=year_month)   \n",
    "        query_df.dropna(inplace=True)\n",
    "        df = pd.DataFrame(index=query_df[\"timestamp\"])\n",
    "        df[f] = query_df[\"value\"].values\n",
    "        df = df.iloc[:n_rows]\n",
    "        dfs.append(df)\n",
    "        \n",
    "    plugin_df=pd.concat(dfs, axis=1, join=\"inner\")\n",
    "    return plugin_df\n",
    "    \n",
    "#ipmi collects physical/hardware properties of nodes\n",
    "def make_ipmi():\n",
    "    ipmi_features = [\"ambient\"]\n",
    "    ipmi_columns = [\"timestamp\", \"node\", \"value\"]\n",
    "    ipmi_df = extract_node_values(ipmi_features, n_rows, nodes_of_interest, ipmi_columns, year_month)\n",
    "    return ipmi_df\n",
    "\n",
    "#ganglia collects metrics on utilization of hardware \n",
    "def make_ganglia():\n",
    "    ganglia_features = []\n",
    "    ganglia_columns = [\"timestamp\", \"node\", \"value\"]\n",
    "    ganglia_df = extract_node_values(ganglia_features, n_rows, nodes_of_interest,ganglia_columns, year_month)\n",
    "    return ganglia_df\n",
    "    \n",
    "#vertiv plugin collects data for AC cooling \n",
    "\n",
    "def make_vertiv():\n",
    "    vertiv_features = [\"Supply_Air_Temperature\"]\n",
    "    vertiv_columns = [\"timestamp\", \"value\"]\n",
    "    vertiv_df = extract_values(vertiv_features, n_rows, vertiv_columns, year_month)\n",
    "    return vertiv_df\n",
    "\n",
    "def make_vertiv_labels():\n",
    "    vertiv_labels = [\"Return_Air_Temperature\"]\n",
    "    vertiv_columns = [\"timestamp\", \"value\"]\n",
    "    vertiv_labels = extract_values(vertiv_labels, n_rows, vertiv_columns, year_month)\n",
    "    return vertiv_labels\n",
    "   \n",
    "\n",
    "#weather data\n",
    "def make_weather():\n",
    "    weather_features = [\"temp\"]\n",
    "    weather_columns = [\"timestamp\", \"value\"]\n",
    "    weather_df = extract_values(weather_features, n_rows, weather_columns, year_month)\n",
    "    return weather_df"
   ],
   "metadata": {
    "collapsed": false,
    "ExecuteTime": {
     "end_time": "2023-12-12T18:40:13.437183600Z",
     "start_time": "2023-12-12T18:40:13.430683700Z"
    }
   },
   "id": "725c688ce5380726"
  },
  {
   "cell_type": "code",
   "execution_count": 3,
   "outputs": [],
   "source": [
    "\"\"\"Cell purpose: pull desired features from plugins\"\"\"\n",
    "\n",
    "\n",
    "n_rows = 1000000\n",
    "nodes_of_interest = [i for i in range(10)]\n",
    "# nodes_of_interest = [0]\n",
    "year_month = [\"22-02\"]\n",
    "\n",
    "# vertiv_df = make_vertiv()\n",
    "# vertiv_df = vertiv_df.groupby(vertiv_df.index).mean()\n",
    "# vertiv_df.to_csv(os.path.join(processed_path, \"vertiv.csv\"))\n",
    "# \n",
    "# \n",
    "# vertiv_labels = make_vertiv_labels()\n",
    "# vertiv_labels.to_csv(os.path.join(processed_path, \"vertiv_labels.csv\"))\n",
    "# \n",
    "# ipmi_df = make_ipmi()\n",
    "# ipmi_df.to_csv(os.path.join(processed_path, \"ipmi.csv\"))\n",
    "# \n",
    "# weather_df = make_weather()\n",
    "# weather_df.to_csv(os.path.join(processed_path, \"weather.csv\"))\n",
    "\n",
    "\n",
    "#schneider collects data on liquid cooling system\n",
    "# schneider_df = client.query([\"Tot\"],\n",
    "#                   columns=['timestamp', 'value'],\n",
    "#                   year_month=[\"22-02\"])\n",
    "\n",
    "# logics collects power consumption data from equipment and devices\n",
    "# logics_features = [\"Tot\"]\n",
    "# logics_columns = [\"timestamp\", \"node\", \"value\"]\n",
    "# logics_df = extract_node_values(logics_features, n_rows, nodes_of_interest, logics_columns, year_month)\n",
    "# logics_df.to_csv(os.path.join(processed_path, \"logics.csv\"))\n",
    "# del logics_df #probably done anyway by python but no harm"
   ],
   "metadata": {
    "collapsed": false,
    "ExecuteTime": {
     "end_time": "2023-12-12T18:40:13.461367500Z",
     "start_time": "2023-12-12T18:40:13.442189500Z"
    }
   },
   "id": "22578a71535bd1bf"
  },
  {
   "cell_type": "code",
   "execution_count": 4,
   "outputs": [
    {
     "data": {
      "text/plain": "                           0_ambient  1_ambient  2_ambient  3_ambient  \\\ntimestamp                                                               \n2022-02-06 23:00:00+00:00       21.8       20.8       21.6       21.6   \n2022-02-07 01:20:00+00:00       22.2       21.4       22.0       22.2   \n2022-02-07 03:20:00+00:00       21.2       20.0       21.2       21.6   \n2022-02-07 03:30:00+00:00       21.2       20.2       21.4       21.6   \n2022-02-07 06:00:00+00:00       21.4       20.6       21.4       21.4   \n...                              ...        ...        ...        ...   \n2022-02-11 22:10:00+00:00       20.6       19.4       20.8       21.0   \n2022-02-11 22:20:00+00:00       21.2       20.4       21.2       21.4   \n2022-02-11 22:30:00+00:00       21.2       20.4       21.2       21.2   \n2022-02-11 22:40:00+00:00       20.8       19.8       20.8       21.4   \n2022-02-11 22:50:00+00:00       20.6       19.0       20.6       21.2   \n\n                           4_ambient  5_ambient  6_ambient  7_ambient  \\\ntimestamp                                                               \n2022-02-06 23:00:00+00:00       22.4       22.6       22.6       23.0   \n2022-02-07 01:20:00+00:00       22.8       22.6       22.4       22.8   \n2022-02-07 03:20:00+00:00       22.4       22.2       22.2       22.6   \n2022-02-07 03:30:00+00:00       22.4       22.2       22.2       22.6   \n2022-02-07 06:00:00+00:00       22.0       22.0       21.8       22.2   \n...                              ...        ...        ...        ...   \n2022-02-11 22:10:00+00:00       22.0       21.8       21.8       22.4   \n2022-02-11 22:20:00+00:00       22.2       22.2       22.0       22.6   \n2022-02-11 22:30:00+00:00       21.8       22.0       22.0       22.4   \n2022-02-11 22:40:00+00:00       22.2       22.0       22.0       22.4   \n2022-02-11 22:50:00+00:00       22.0       22.0       22.0       22.2   \n\n                           8_ambient  9_ambient  temp  Supply_Air_Temperature  \ntimestamp                                                                      \n2022-02-06 23:00:00+00:00       23.6       24.0  7.23               19.950000  \n2022-02-07 01:20:00+00:00       23.4       23.8  4.47               19.233334  \n2022-02-07 03:20:00+00:00       23.0       23.4  4.27               19.383333  \n2022-02-07 03:30:00+00:00       23.0       23.4  4.41               19.033333  \n2022-02-07 06:00:00+00:00       22.8       23.2  4.31               19.066668  \n...                              ...        ...   ...                     ...  \n2022-02-11 22:10:00+00:00       22.8       23.2  8.02               20.300000  \n2022-02-11 22:20:00+00:00       23.0       23.4  7.96               19.850000  \n2022-02-11 22:30:00+00:00       22.8       23.2  7.80               20.000000  \n2022-02-11 22:40:00+00:00       22.8       23.2  7.44               20.200000  \n2022-02-11 22:50:00+00:00       22.8       23.2  7.43               19.850000  \n\n[2448 rows x 12 columns]",
      "text/html": "<div>\n<style scoped>\n    .dataframe tbody tr th:only-of-type {\n        vertical-align: middle;\n    }\n\n    .dataframe tbody tr th {\n        vertical-align: top;\n    }\n\n    .dataframe thead th {\n        text-align: right;\n    }\n</style>\n<table border=\"1\" class=\"dataframe\">\n  <thead>\n    <tr style=\"text-align: right;\">\n      <th></th>\n      <th>0_ambient</th>\n      <th>1_ambient</th>\n      <th>2_ambient</th>\n      <th>3_ambient</th>\n      <th>4_ambient</th>\n      <th>5_ambient</th>\n      <th>6_ambient</th>\n      <th>7_ambient</th>\n      <th>8_ambient</th>\n      <th>9_ambient</th>\n      <th>temp</th>\n      <th>Supply_Air_Temperature</th>\n    </tr>\n    <tr>\n      <th>timestamp</th>\n      <th></th>\n      <th></th>\n      <th></th>\n      <th></th>\n      <th></th>\n      <th></th>\n      <th></th>\n      <th></th>\n      <th></th>\n      <th></th>\n      <th></th>\n      <th></th>\n    </tr>\n  </thead>\n  <tbody>\n    <tr>\n      <th>2022-02-06 23:00:00+00:00</th>\n      <td>21.8</td>\n      <td>20.8</td>\n      <td>21.6</td>\n      <td>21.6</td>\n      <td>22.4</td>\n      <td>22.6</td>\n      <td>22.6</td>\n      <td>23.0</td>\n      <td>23.6</td>\n      <td>24.0</td>\n      <td>7.23</td>\n      <td>19.950000</td>\n    </tr>\n    <tr>\n      <th>2022-02-07 01:20:00+00:00</th>\n      <td>22.2</td>\n      <td>21.4</td>\n      <td>22.0</td>\n      <td>22.2</td>\n      <td>22.8</td>\n      <td>22.6</td>\n      <td>22.4</td>\n      <td>22.8</td>\n      <td>23.4</td>\n      <td>23.8</td>\n      <td>4.47</td>\n      <td>19.233334</td>\n    </tr>\n    <tr>\n      <th>2022-02-07 03:20:00+00:00</th>\n      <td>21.2</td>\n      <td>20.0</td>\n      <td>21.2</td>\n      <td>21.6</td>\n      <td>22.4</td>\n      <td>22.2</td>\n      <td>22.2</td>\n      <td>22.6</td>\n      <td>23.0</td>\n      <td>23.4</td>\n      <td>4.27</td>\n      <td>19.383333</td>\n    </tr>\n    <tr>\n      <th>2022-02-07 03:30:00+00:00</th>\n      <td>21.2</td>\n      <td>20.2</td>\n      <td>21.4</td>\n      <td>21.6</td>\n      <td>22.4</td>\n      <td>22.2</td>\n      <td>22.2</td>\n      <td>22.6</td>\n      <td>23.0</td>\n      <td>23.4</td>\n      <td>4.41</td>\n      <td>19.033333</td>\n    </tr>\n    <tr>\n      <th>2022-02-07 06:00:00+00:00</th>\n      <td>21.4</td>\n      <td>20.6</td>\n      <td>21.4</td>\n      <td>21.4</td>\n      <td>22.0</td>\n      <td>22.0</td>\n      <td>21.8</td>\n      <td>22.2</td>\n      <td>22.8</td>\n      <td>23.2</td>\n      <td>4.31</td>\n      <td>19.066668</td>\n    </tr>\n    <tr>\n      <th>...</th>\n      <td>...</td>\n      <td>...</td>\n      <td>...</td>\n      <td>...</td>\n      <td>...</td>\n      <td>...</td>\n      <td>...</td>\n      <td>...</td>\n      <td>...</td>\n      <td>...</td>\n      <td>...</td>\n      <td>...</td>\n    </tr>\n    <tr>\n      <th>2022-02-11 22:10:00+00:00</th>\n      <td>20.6</td>\n      <td>19.4</td>\n      <td>20.8</td>\n      <td>21.0</td>\n      <td>22.0</td>\n      <td>21.8</td>\n      <td>21.8</td>\n      <td>22.4</td>\n      <td>22.8</td>\n      <td>23.2</td>\n      <td>8.02</td>\n      <td>20.300000</td>\n    </tr>\n    <tr>\n      <th>2022-02-11 22:20:00+00:00</th>\n      <td>21.2</td>\n      <td>20.4</td>\n      <td>21.2</td>\n      <td>21.4</td>\n      <td>22.2</td>\n      <td>22.2</td>\n      <td>22.0</td>\n      <td>22.6</td>\n      <td>23.0</td>\n      <td>23.4</td>\n      <td>7.96</td>\n      <td>19.850000</td>\n    </tr>\n    <tr>\n      <th>2022-02-11 22:30:00+00:00</th>\n      <td>21.2</td>\n      <td>20.4</td>\n      <td>21.2</td>\n      <td>21.2</td>\n      <td>21.8</td>\n      <td>22.0</td>\n      <td>22.0</td>\n      <td>22.4</td>\n      <td>22.8</td>\n      <td>23.2</td>\n      <td>7.80</td>\n      <td>20.000000</td>\n    </tr>\n    <tr>\n      <th>2022-02-11 22:40:00+00:00</th>\n      <td>20.8</td>\n      <td>19.8</td>\n      <td>20.8</td>\n      <td>21.4</td>\n      <td>22.2</td>\n      <td>22.0</td>\n      <td>22.0</td>\n      <td>22.4</td>\n      <td>22.8</td>\n      <td>23.2</td>\n      <td>7.44</td>\n      <td>20.200000</td>\n    </tr>\n    <tr>\n      <th>2022-02-11 22:50:00+00:00</th>\n      <td>20.6</td>\n      <td>19.0</td>\n      <td>20.6</td>\n      <td>21.2</td>\n      <td>22.0</td>\n      <td>22.0</td>\n      <td>22.0</td>\n      <td>22.2</td>\n      <td>22.8</td>\n      <td>23.2</td>\n      <td>7.43</td>\n      <td>19.850000</td>\n    </tr>\n  </tbody>\n</table>\n<p>2448 rows × 12 columns</p>\n</div>"
     },
     "execution_count": 4,
     "metadata": {},
     "output_type": "execute_result"
    }
   ],
   "source": [
    "weather_df = pd.read_csv(os.path.join(processed_path, \"weather.csv\"), index_col = \"timestamp\")\n",
    "vertiv_df = pd.read_csv(os.path.join(processed_path, \"vertiv.csv\"), index_col=\"timestamp\")\n",
    "vertiv_labels = pd.read_csv(os.path.join(processed_path, \"vertiv_labels.csv\"),index_col=\"timestamp\")\n",
    "# ganglia_df= pd.read_csv(os.path.join(processed_path, \"ganglia.csv\"))\n",
    "ipmi_df = pd.read_csv(os.path.join(processed_path, \"ipmi.csv\"), index_col=\"timestamp\")\n",
    "\n",
    "\n",
    "plugin_dfs = [ipmi_df, weather_df, vertiv_df] #start w/ small one for now\n",
    "df = plugin_dfs[0]\n",
    "for d in plugin_dfs[1:]:\n",
    "    df = df.merge(d, left_index=True, right_index=True)\n",
    "df\n",
    "#current issue: it seems like there are duplicate timestamps in supply air temp. Solution would be to average values when there are duplicate timestamps"
   ],
   "metadata": {
    "collapsed": false,
    "ExecuteTime": {
     "end_time": "2023-12-12T18:40:15.329731Z",
     "start_time": "2023-12-12T18:40:13.450370700Z"
    }
   },
   "id": "176c98e2cc36cbe1"
  },
  {
   "cell_type": "code",
   "execution_count": 5,
   "outputs": [
    {
     "data": {
      "text/plain": "'2022-02-06 23:00:00+00:00'"
     },
     "execution_count": 5,
     "metadata": {},
     "output_type": "execute_result"
    }
   ],
   "source": [
    "df.index[0]"
   ],
   "metadata": {
    "collapsed": false,
    "ExecuteTime": {
     "end_time": "2023-12-12T18:40:15.342739200Z",
     "start_time": "2023-12-12T18:40:15.325870800Z"
    }
   },
   "id": "36e179ab1ac4ab65"
  },
  {
   "cell_type": "code",
   "execution_count": 6,
   "outputs": [],
   "source": [
    "\"\"\"Cell purpose: preprocess and/or merge data as desired\"\"\"\n",
    "# \n",
    "# feature_list = itertools.chain(ipmi_features, weather_features, vertiv_features)\n",
    "# label_list = itertools.chain(vertiv_labels) \n",
    "\n",
    "\n",
    "feature_list = [\"0_ambient\"]\n",
    "label_list = [\"1_ambient\"] #not what we actually want, but for testing\n",
    "feature_df = df[feature_list] \n",
    "label_df = df[label_list]\n",
    "\n",
    "#align t and t+1\n",
    "feature_df = feature_df.iloc[:-1]\n",
    "label_df = label_df.iloc[1:]\n",
    "\n",
    "assert feature_df.shape[0] == label_df.shape[0]\n",
    "\n"
   ],
   "metadata": {
    "collapsed": false,
    "ExecuteTime": {
     "end_time": "2023-12-12T18:40:15.396854900Z",
     "start_time": "2023-12-12T18:40:15.338732Z"
    }
   },
   "id": "6b1733a0c94ce8c0"
  },
  {
   "cell_type": "code",
   "execution_count": 7,
   "outputs": [],
   "source": [
    "# Will have to make work with timestamp indexign later\n",
    "class M100Data(Dataset):\n",
    "    def __init__(self, feature_df, label_df, transform = None, label_transform = None):\n",
    "        self.feature_df = feature_df\n",
    "        self.label_df = label_df\n",
    "        self.transform = transform\n",
    "        self.feature_dim = self.feature_df.shape[1]\n",
    "        self.label_dim = self.label_df.shape[1]\n",
    "    def __len__(self):\n",
    "        return self.feature_df.shape[0]\n",
    "\n",
    "    def __getitem__(self, idx):\n",
    "        feature = torch.as_tensor(self.feature_df.iloc[idx].values, dtype=torch.float32)\n",
    "        label = torch.as_tensor(self.label_df.iloc[idx].values, dtype=torch.float32)\n",
    "        return feature, label\n",
    "    \n",
    "train_ds = M100Data(feature_df, label_df)\n",
    "trainloader = DataLoader(train_ds, batch_size = 8, shuffle = True)"
   ],
   "metadata": {
    "collapsed": false,
    "ExecuteTime": {
     "end_time": "2023-12-12T18:40:15.446987900Z",
     "start_time": "2023-12-12T18:40:15.363269200Z"
    }
   },
   "id": "4a17ace650982f45"
  },
  {
   "cell_type": "code",
   "execution_count": 7,
   "outputs": [],
   "source": [],
   "metadata": {
    "collapsed": false,
    "ExecuteTime": {
     "end_time": "2023-12-12T18:40:15.447984Z",
     "start_time": "2023-12-12T18:40:15.374862100Z"
    }
   },
   "id": "96a5aadcd8397788"
  },
  {
   "cell_type": "code",
   "execution_count": 8,
   "outputs": [
    {
     "name": "stdout",
     "output_type": "stream",
     "text": [
      "tensor([-19.3673], grad_fn=<AddBackward0>)\n",
      "tensor([1.5354], grad_fn=<AddBackward0>)\n"
     ]
    }
   ],
   "source": [
    "epochs = 1\n",
    "\n",
    "model = LinearNN(train_ds.feature_dim, train_ds.label_dim)\n",
    "optimizer = torch.optim.SGD(model.parameters(), 1e-3)\n",
    "loss_fn = torch.nn.CrossEntropyLoss()\n",
    "model.eval()\n",
    "x, y = train_ds[0]\n",
    "print(model(x))\n",
    "for e in range(epochs):\n",
    "    train_loss = train_epoch(model, trainloader, optimizer, loss_fn)\n",
    "    # eval_loss = eval_epoch(model, evalloader, loss_fn)\n",
    "print(model(x))"
   ],
   "metadata": {
    "collapsed": false,
    "ExecuteTime": {
     "end_time": "2023-12-12T18:40:16.667349800Z",
     "start_time": "2023-12-12T18:40:15.385858600Z"
    }
   },
   "id": "b9f72e50101dbd20"
  },
  {
   "cell_type": "code",
   "execution_count": 9,
   "outputs": [
    {
     "data": {
      "text/plain": "'Cell purpose: train'"
     },
     "execution_count": 9,
     "metadata": {},
     "output_type": "execute_result"
    }
   ],
   "source": [
    "\"\"\"Cell purpose: train\"\"\"\n",
    "# model = LinearRegression().fit(merged_df[\"air_temp\"].to_numpy().reshape(-1,1), merged_df[\"ambient_temp\"].to_numpy().reshape(-1,1))"
   ],
   "metadata": {
    "collapsed": false,
    "ExecuteTime": {
     "end_time": "2023-12-12T18:40:16.676351400Z",
     "start_time": "2023-12-12T18:40:16.666331900Z"
    }
   },
   "id": "da89ca240a6e4c2b"
  },
  {
   "cell_type": "code",
   "execution_count": 10,
   "outputs": [
    {
     "data": {
      "text/plain": "'Cell purpose: inference'"
     },
     "execution_count": 10,
     "metadata": {},
     "output_type": "execute_result"
    }
   ],
   "source": [
    "\"\"\"Cell purpose: inference\"\"\"\n",
    "# preds = model.predict(test_df[\"air_temp\"].to_numpy().reshape(-1,1))\n"
   ],
   "metadata": {
    "collapsed": false,
    "ExecuteTime": {
     "end_time": "2023-12-12T18:40:16.761554500Z",
     "start_time": "2023-12-12T18:40:16.677352600Z"
    }
   },
   "id": "118a70fbe9449cf1"
  },
  {
   "cell_type": "code",
   "execution_count": 11,
   "outputs": [
    {
     "data": {
      "text/plain": "'Cell purpose: benchmarking'"
     },
     "execution_count": 11,
     "metadata": {},
     "output_type": "execute_result"
    }
   ],
   "source": [
    "\"\"\"Cell purpose: benchmarking\"\"\"\n",
    "\n",
    "# labels = test_df[\"ambient_temp\"].to_numpy().reshape(-1,1)\n",
    "# \n",
    "# \n",
    "# timesteps = [t for t in range(preds.shape[0])]\n",
    "# colors = iter(plt.cm.rainbow(np.linspace(0, 0.5, 2)))\n",
    "# plt.scatter(preds, labels, c=[\"blue\", \"red\"])\n",
    "# \n",
    "# plt.legend(loc=\"upper left\")\n",
    "# plt.xlabel(\"Time\")\n",
    "# plt.ylabel(\"Ambient temperature\")\n",
    "# plt.grid()\n",
    "# plt.show()\n",
    "\n"
   ],
   "metadata": {
    "collapsed": false,
    "ExecuteTime": {
     "end_time": "2023-12-12T18:40:16.763553Z",
     "start_time": "2023-12-12T18:40:16.701760900Z"
    }
   },
   "id": "46493ce89db187d0"
  },
  {
   "cell_type": "code",
   "execution_count": 12,
   "outputs": [
    {
     "data": {
      "text/plain": "''"
     },
     "execution_count": 12,
     "metadata": {},
     "output_type": "execute_result"
    }
   ],
   "source": [
    "\"\"\n"
   ],
   "metadata": {
    "collapsed": false,
    "ExecuteTime": {
     "end_time": "2023-12-12T18:40:16.763553Z",
     "start_time": "2023-12-12T18:40:16.722728300Z"
    }
   },
   "id": "8ca995608b0b8e6c"
  }
 ],
 "metadata": {
  "kernelspec": {
   "display_name": "Python 3",
   "language": "python",
   "name": "python3"
  },
  "language_info": {
   "codemirror_mode": {
    "name": "ipython",
    "version": 2
   },
   "file_extension": ".py",
   "mimetype": "text/x-python",
   "name": "python",
   "nbconvert_exporter": "python",
   "pygments_lexer": "ipython2",
   "version": "2.7.6"
  }
 },
 "nbformat": 4,
 "nbformat_minor": 5
}
