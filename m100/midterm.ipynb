{
 "cells": [
  {
   "cell_type": "code",
   "execution_count": 1,
   "id": "initial_id",
   "metadata": {
    "collapsed": true,
    "ExecuteTime": {
     "end_time": "2023-12-04T05:50:14.886737023Z",
     "start_time": "2023-12-04T05:50:10.658797214Z"
    }
   },
   "outputs": [],
   "source": [
    "import pandas\n",
    "%reset -f\n",
    "\n",
    "import sys\n",
    "sys.path.append(\"../data/exadata/parquet_dataset/query_tool\")\n",
    "\n",
    "from toolz import pipe\n",
    "import pandas as pd\n",
    "import numpy as np\n",
    "import datetime\n",
    "import torch\n",
    "from torch.utils.data import Dataset\n",
    "from sklearn.linear_model import LinearRegression\n",
    "from query_tool import M100DataClient\n",
    "from matplotlib import pyplot as plt\n",
    "from models import LinearNN, StateEstimator\n",
    "\n",
    "dataset_path = \"../data/m100\"\n",
    "client = M100DataClient(dataset_path)\n",
    "\n"
   ]
  },
  {
   "cell_type": "code",
   "execution_count": null,
   "outputs": [
    {
     "name": "stdout",
     "output_type": "stream",
     "text": [
      "Retrieving data of type: float\n",
      "Retrieving data of type: int32\n",
      "done\n"
     ]
    }
   ],
   "source": [
    "\"\"\"Cell purpose: pull desired features from plugins\"\"\"\n",
    "\n",
    "        \n",
    "\n",
    "\n",
    "#vertiv plugin collects data for AC cooling \n",
    "# vertiv_df = client.query([\"Supply_Air_Temperature\", \"Return_Air_Temperature\"],\n",
    "#                   columns=['timestamp','value'],\n",
    "#                   year_month=[\"22-02\"])\n",
    "\n",
    "\n",
    "\n",
    "#ipmi pluging collects physical/hardware properties of nodes\n",
    "ipmi_features = [\"ambient\", \"gpu0_core_temp\", \"p0_core0_temp\"]\n",
    "ipmi_df = client.query([\"ambient\"], #starting with just one core for each, work out indexing deal later\n",
    "                  columns=['timestamp', \"node\", 'value'],\n",
    "                  year_month=[\"22-02\"])\n",
    "\n",
    "ipmi_df2 = client.query([\"gpu0_core_temp\"], #starting with just one core for each, work out indexing deal later\n",
    "                  columns=['timestamp', \"node\", 'value'],\n",
    "                  year_month=[\"22-02\"])\n",
    "\n",
    "print(\"done\")\n",
    "pd.concat([ipmi_df, ipmi_df2])\n",
    "# #ganglia collects metrics on utilization of hardware\n",
    "# ganglia_df = client.query([\"load_fifteen\"],\n",
    "#                   columns=['timestamp', \"node\", 'value'],\n",
    "#                   year_month=[\"22-02\"])\n",
    "\n",
    "# logics collects power consumption data from equipment and devices\n",
    "# logics_df = client.query([\"Tot\"],\n",
    "#                   columns=['timestamp', \"device\", \"panel\", 'value'],\n",
    "#                   year_month=[\"22-02\"])\n",
    "\n",
    "#schneider collects data on liquid cooling system\n",
    "# schneider_df = client.query([\"Tot\"],\n",
    "#                   columns=['timestamp', \"node\", 'value'],\n",
    "#                   year_month=[\"22-02\"])\n",
    "\n",
    "#weather data\n",
    "# weather_df = client.query([\"temp\"],\n",
    "#                   columns=['timestamp', 'value'],\n",
    "#                   year_month=[\"22-02\"])\n",
    "\n",
    "\n",
    "ipmi_df.head()\n"
   ],
   "metadata": {
    "collapsed": false,
    "is_executing": true,
    "ExecuteTime": {
     "start_time": "2023-12-04T05:51:15.169056238Z"
    }
   },
   "id": "22578a71535bd1bf"
  },
  {
   "cell_type": "code",
   "execution_count": 5,
   "outputs": [
    {
     "name": "stdout",
     "output_type": "stream",
     "text": [
      "(118500161, 3)\n",
      "                  timestamp node  value\n",
      "0 2022-02-07 18:56:20+00:00   44   16.6\n",
      "1 2022-02-07 18:56:40+00:00   44   16.6\n",
      "2 2022-02-07 18:57:00+00:00   44   16.4\n",
      "(2297640, 2)\n",
      "                  timestamp      value\n",
      "0 2022-02-26 23:00:00+00:00  24.299999\n",
      "1 2022-02-26 23:00:00+00:00  24.200001\n",
      "2 2022-02-26 23:00:00+00:00  22.799999\n",
      "(3400, 3)\n",
      "                  timestamp node  value\n",
      "0 2022-02-27 23:10:10+00:00  NaN   5.08\n",
      "1 2022-02-27 23:30:00+00:00  NaN   4.79\n",
      "2 2022-02-27 23:40:00+00:00  NaN   4.43\n"
     ]
    }
   ],
   "source": [
    "# dfs = [weather_df, schneider_df, logics_df, ganglia_df, ipmi_df, vertiv_df]\n",
    "plugin_dfs = [ipmi_df, vertiv_df, weather_df]\n",
    "for d in plugin_dfs:\n",
    "    print(d.shape)\n",
    "    print(d.pivot(index=\"timestamp\").head(3))"
   ],
   "metadata": {
    "collapsed": false,
    "ExecuteTime": {
     "end_time": "2023-12-03T19:55:45.641602091Z",
     "start_time": "2023-12-03T19:55:45.607364769Z"
    }
   },
   "id": "176c98e2cc36cbe1"
  },
  {
   "cell_type": "code",
   "execution_count": 6,
   "outputs": [
    {
     "data": {
      "text/plain": "                  timestamp node  value\n0 2022-02-07 18:56:20+00:00   44   16.6\n1 2022-02-07 18:56:40+00:00   44   16.6\n2 2022-02-07 18:57:00+00:00   44   16.4\n3 2022-02-07 18:57:20+00:00   44   16.4\n4 2022-02-07 18:57:40+00:00   44   16.4\n5 2022-02-07 18:58:00+00:00   44   16.4\n6 2022-02-07 18:58:20+00:00   44   16.4\n7 2022-02-07 18:58:40+00:00   44   16.4\n8 2022-02-07 18:59:00+00:00   44   16.4\n9 2022-02-07 18:59:20+00:00   44   16.4",
      "text/html": "<div>\n<style scoped>\n    .dataframe tbody tr th:only-of-type {\n        vertical-align: middle;\n    }\n\n    .dataframe tbody tr th {\n        vertical-align: top;\n    }\n\n    .dataframe thead th {\n        text-align: right;\n    }\n</style>\n<table border=\"1\" class=\"dataframe\">\n  <thead>\n    <tr style=\"text-align: right;\">\n      <th></th>\n      <th>timestamp</th>\n      <th>node</th>\n      <th>value</th>\n    </tr>\n  </thead>\n  <tbody>\n    <tr>\n      <th>0</th>\n      <td>2022-02-07 18:56:20+00:00</td>\n      <td>44</td>\n      <td>16.6</td>\n    </tr>\n    <tr>\n      <th>1</th>\n      <td>2022-02-07 18:56:40+00:00</td>\n      <td>44</td>\n      <td>16.6</td>\n    </tr>\n    <tr>\n      <th>2</th>\n      <td>2022-02-07 18:57:00+00:00</td>\n      <td>44</td>\n      <td>16.4</td>\n    </tr>\n    <tr>\n      <th>3</th>\n      <td>2022-02-07 18:57:20+00:00</td>\n      <td>44</td>\n      <td>16.4</td>\n    </tr>\n    <tr>\n      <th>4</th>\n      <td>2022-02-07 18:57:40+00:00</td>\n      <td>44</td>\n      <td>16.4</td>\n    </tr>\n    <tr>\n      <th>5</th>\n      <td>2022-02-07 18:58:00+00:00</td>\n      <td>44</td>\n      <td>16.4</td>\n    </tr>\n    <tr>\n      <th>6</th>\n      <td>2022-02-07 18:58:20+00:00</td>\n      <td>44</td>\n      <td>16.4</td>\n    </tr>\n    <tr>\n      <th>7</th>\n      <td>2022-02-07 18:58:40+00:00</td>\n      <td>44</td>\n      <td>16.4</td>\n    </tr>\n    <tr>\n      <th>8</th>\n      <td>2022-02-07 18:59:00+00:00</td>\n      <td>44</td>\n      <td>16.4</td>\n    </tr>\n    <tr>\n      <th>9</th>\n      <td>2022-02-07 18:59:20+00:00</td>\n      <td>44</td>\n      <td>16.4</td>\n    </tr>\n  </tbody>\n</table>\n</div>"
     },
     "execution_count": 6,
     "metadata": {},
     "output_type": "execute_result"
    }
   ],
   "source": [
    "\"\"\"Cell purpose: preprocess and/or merge data as desired\"\"\"\n",
    "df = pd.concat(plugin_dfs)\n",
    "# print(merged_df[\"timestamp\"].astype(np.int64) * 10e-9)\n",
    "# merge_df[\"timestamp\"] = merge_df[\"timestamp\"].apply(lambda ts: ts.as_unit(\"ns\"))\n",
    "df.head(10)"
   ],
   "metadata": {
    "collapsed": false,
    "ExecuteTime": {
     "end_time": "2023-12-03T19:55:51.174780417Z",
     "start_time": "2023-12-03T19:55:48.729100569Z"
    }
   },
   "id": "6b1733a0c94ce8c0"
  },
  {
   "cell_type": "code",
   "execution_count": null,
   "outputs": [],
   "source": [
    "# Will have to make work with timestamp indexign later\n",
    "# class M100Data(Dataset):\n",
    "#     def __init__(self, df, transform = None, label_transform = None):\n",
    "#         self.df = df\n",
    "#         self.transform = transform\n",
    "# \n",
    "#     def __len__(self):\n",
    "#         return len(self.df.shape[0])\n",
    "# \n",
    "#     def __getitem__(self, idx):\n",
    "#         return feat, label\n",
    "    \n",
    "    "
   ],
   "metadata": {
    "collapsed": false
   },
   "id": "4a17ace650982f45"
  },
  {
   "cell_type": "code",
   "execution_count": null,
   "outputs": [],
   "source": [
    "\"\"\"Cell purpose: train\"\"\"\n",
    "model = LinearRegression().fit(merged_df[\"air_temp\"].to_numpy().reshape(-1,1), merged_df[\"ambient_temp\"].to_numpy().reshape(-1,1))"
   ],
   "metadata": {
    "collapsed": false,
    "is_executing": true
   },
   "id": "da89ca240a6e4c2b"
  },
  {
   "cell_type": "code",
   "execution_count": null,
   "outputs": [],
   "source": [
    "\"\"\"Cell purpose: inference\"\"\"\n",
    "preds = model.predict(test_df[\"air_temp\"].to_numpy().reshape(-1,1))\n"
   ],
   "metadata": {
    "collapsed": false,
    "is_executing": true
   },
   "id": "118a70fbe9449cf1"
  },
  {
   "cell_type": "code",
   "execution_count": null,
   "outputs": [],
   "source": [
    "\"\"\"Cell purpose: benchmarking\"\"\"\n",
    "\n",
    "labels = test_df[\"ambient_temp\"].to_numpy().reshape(-1,1)\n",
    "\n",
    "\n",
    "timesteps = [t for t in range(preds.shape[0])]\n",
    "colors = iter(plt.cm.rainbow(np.linspace(0, 0.5, 2)))\n",
    "plt.scatter(preds, labels, c=[\"blue\", \"red\"])\n",
    "\n",
    "plt.legend(loc=\"upper left\")\n",
    "plt.xlabel(\"Time\")\n",
    "plt.ylabel(\"Ambient temperature\")\n",
    "plt.grid()\n",
    "plt.show()\n",
    "\n"
   ],
   "metadata": {
    "collapsed": false,
    "is_executing": true
   },
   "id": "46493ce89db187d0"
  },
  {
   "cell_type": "code",
   "execution_count": null,
   "outputs": [],
   "source": [
    "\"\"\n"
   ],
   "metadata": {
    "collapsed": false,
    "is_executing": true
   },
   "id": "8ca995608b0b8e6c"
  }
 ],
 "metadata": {
  "kernelspec": {
   "display_name": "Python 3",
   "language": "python",
   "name": "python3"
  },
  "language_info": {
   "codemirror_mode": {
    "name": "ipython",
    "version": 2
   },
   "file_extension": ".py",
   "mimetype": "text/x-python",
   "name": "python",
   "nbconvert_exporter": "python",
   "pygments_lexer": "ipython2",
   "version": "2.7.6"
  }
 },
 "nbformat": 4,
 "nbformat_minor": 5
}
