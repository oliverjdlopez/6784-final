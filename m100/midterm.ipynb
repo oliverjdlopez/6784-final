{
 "cells": [
  {
   "cell_type": "code",
   "execution_count": 15,
   "id": "initial_id",
   "metadata": {
    "collapsed": true,
    "ExecuteTime": {
     "end_time": "2023-12-10T09:14:15.751229300Z",
     "start_time": "2023-12-10T09:14:12.704814400Z"
    }
   },
   "outputs": [],
   "source": [
    "%reset -f\n",
    "\n",
    "import sys\n",
    "sys.path.append(\"../data/exadata/parquet_dataset/query_tool\")\n",
    "\n",
    "import os\n",
    "import pandas as pd\n",
    "import numpy as np\n",
    "import datetime\n",
    "import torch\n",
    "from torch.utils.data import Dataset, DataLoader\n",
    "from sklearn.linear_model import LinearRegression\n",
    "from query_tool import M100DataClient\n",
    "from matplotlib import pyplot as plt\n",
    "from models import LinearNN, StateEstimator\n",
    "\n",
    "dataset_path = \"../data/m100\"\n",
    "processed_path = \"../data\"\n",
    "client = M100DataClient(dataset_path)\n",
    "\n"
   ]
  },
  {
   "cell_type": "code",
   "execution_count": 17,
   "outputs": [
    {
     "name": "stdout",
     "output_type": "stream",
     "text": [
      "Retrieving data of type: float\n"
     ]
    },
    {
     "name": "stderr",
     "output_type": "stream",
     "text": [
      "C:\\Users\\olive\\AppData\\Local\\Temp\\ipykernel_23924\\3287829056.py:35: SettingWithCopyWarning: \n",
      "A value is trying to be set on a copy of a slice from a DataFrame\n",
      "\n",
      "See the caveats in the documentation: https://pandas.pydata.org/pandas-docs/stable/user_guide/indexing.html#returning-a-view-versus-a-copy\n",
      "  node_data.drop(\"node\", axis = \"columns\", inplace=True)\n"
     ]
    },
    {
     "ename": "TypeError",
     "evalue": "DataFrame.pivot() takes 1 positional argument but 2 positional arguments (and 1 keyword-only argument) were given",
     "output_type": "error",
     "traceback": [
      "\u001B[1;31m---------------------------------------------------------------------------\u001B[0m",
      "\u001B[1;31mTypeError\u001B[0m                                 Traceback (most recent call last)",
      "Cell \u001B[1;32mIn[17], line 52\u001B[0m\n\u001B[0;32m     50\u001B[0m ipmi_features \u001B[38;5;241m=\u001B[39m [\u001B[38;5;124m\"\u001B[39m\u001B[38;5;124mambient\u001B[39m\u001B[38;5;124m\"\u001B[39m, \u001B[38;5;124m\"\u001B[39m\u001B[38;5;124mgpu0_core_temp\u001B[39m\u001B[38;5;124m\"\u001B[39m, \u001B[38;5;124m\"\u001B[39m\u001B[38;5;124mp0_core0_temp\u001B[39m\u001B[38;5;124m\"\u001B[39m]\n\u001B[0;32m     51\u001B[0m ipmi_columns \u001B[38;5;241m=\u001B[39m [\u001B[38;5;124m\"\u001B[39m\u001B[38;5;124mtimestamp\u001B[39m\u001B[38;5;124m\"\u001B[39m, \u001B[38;5;124m\"\u001B[39m\u001B[38;5;124mnode\u001B[39m\u001B[38;5;124m\"\u001B[39m, \u001B[38;5;124m\"\u001B[39m\u001B[38;5;124mvalue\u001B[39m\u001B[38;5;124m\"\u001B[39m]\n\u001B[1;32m---> 52\u001B[0m ipmi_df \u001B[38;5;241m=\u001B[39m \u001B[43mextract_features\u001B[49m\u001B[43m(\u001B[49m\u001B[43mipmi_features\u001B[49m\u001B[43m,\u001B[49m\u001B[43m \u001B[49m\u001B[43mn_rows\u001B[49m\u001B[43m,\u001B[49m\u001B[43m \u001B[49m\u001B[43mnodes_of_interest\u001B[49m\u001B[43m,\u001B[49m\u001B[43m \u001B[49m\u001B[43mipmi_columns\u001B[49m\u001B[43m,\u001B[49m\u001B[43m \u001B[49m\u001B[43myear_month\u001B[49m\u001B[43m)\u001B[49m\n\u001B[0;32m     53\u001B[0m ipmi_df\u001B[38;5;241m.\u001B[39mto_csv(os\u001B[38;5;241m.\u001B[39mpath\u001B[38;5;241m.\u001B[39mjoin(processed_path, \u001B[38;5;124m\"\u001B[39m\u001B[38;5;124mipmi\u001B[39m\u001B[38;5;124m\"\u001B[39m))\n\u001B[0;32m     55\u001B[0m \u001B[38;5;66;03m#vertiv plugin collects data for AC cooling \u001B[39;00m\n\u001B[0;32m     56\u001B[0m \u001B[38;5;66;03m# vertiv_features = [\"Supply_Air_Temperature\"]\u001B[39;00m\n\u001B[0;32m     57\u001B[0m \u001B[38;5;66;03m# vertiv_labels = [\"Return_Air_Temperature\"]\u001B[39;00m\n\u001B[1;32m   (...)\u001B[0m\n\u001B[0;32m     81\u001B[0m \u001B[38;5;66;03m#                   columns=['timestamp', 'value'],\u001B[39;00m\n\u001B[0;32m     82\u001B[0m \u001B[38;5;66;03m#                   year_month=[\"22-02\"])\u001B[39;00m\n",
      "Cell \u001B[1;32mIn[17], line 36\u001B[0m, in \u001B[0;36mextract_features\u001B[1;34m(feature_list, n_rows, nodes_of_interest, columns, year_month)\u001B[0m\n\u001B[0;32m     34\u001B[0m node_data \u001B[38;5;241m=\u001B[39m query_df\u001B[38;5;241m.\u001B[39miloc[idxs]\n\u001B[0;32m     35\u001B[0m node_data\u001B[38;5;241m.\u001B[39mdrop(\u001B[38;5;124m\"\u001B[39m\u001B[38;5;124mnode\u001B[39m\u001B[38;5;124m\"\u001B[39m, axis \u001B[38;5;241m=\u001B[39m \u001B[38;5;124m\"\u001B[39m\u001B[38;5;124mcolumns\u001B[39m\u001B[38;5;124m\"\u001B[39m, inplace\u001B[38;5;241m=\u001B[39m\u001B[38;5;28;01mTrue\u001B[39;00m)\n\u001B[1;32m---> 36\u001B[0m node_data \u001B[38;5;241m=\u001B[39m \u001B[43mnode_data\u001B[49m\u001B[38;5;241;43m.\u001B[39;49m\u001B[43mpivot\u001B[49m\u001B[43m(\u001B[49m\u001B[38;5;124;43m\"\u001B[39;49m\u001B[38;5;124;43mvalue\u001B[39;49m\u001B[38;5;124;43m\"\u001B[39;49m\u001B[43m,\u001B[49m\u001B[43m \u001B[49m\u001B[43mindex\u001B[49m\u001B[38;5;241;43m=\u001B[39;49m\u001B[38;5;124;43m\"\u001B[39;49m\u001B[38;5;124;43mtimestamp\u001B[39;49m\u001B[38;5;124;43m\"\u001B[39;49m\u001B[43m)\u001B[49m\n\u001B[0;32m     37\u001B[0m node_data\u001B[38;5;241m.\u001B[39mrename({\u001B[38;5;124m\"\u001B[39m\u001B[38;5;124mvalue\u001B[39m\u001B[38;5;124m\"\u001B[39m: \u001B[38;5;28mstr\u001B[39m(noi) \u001B[38;5;241m+\u001B[39m \u001B[38;5;124m\"\u001B[39m\u001B[38;5;124m_\u001B[39m\u001B[38;5;124m\"\u001B[39m \u001B[38;5;241m+\u001B[39m \u001B[38;5;28mstr\u001B[39m(f)}, inplace\u001B[38;5;241m=\u001B[39m\u001B[38;5;28;01mTrue\u001B[39;00m)\n\u001B[0;32m     38\u001B[0m node_dfs\u001B[38;5;241m.\u001B[39mappend(node_data)\n",
      "\u001B[1;31mTypeError\u001B[0m: DataFrame.pivot() takes 1 positional argument but 2 positional arguments (and 1 keyword-only argument) were given"
     ]
    }
   ],
   "source": [
    "\"\"\"Cell purpose: pull desired features from plugins\"\"\"\n",
    "\n",
    "\n",
    "#TODO: Merging method, working for columns that aren't timestamp,node,value\n",
    "#For now I think it's necessary to do it this way because of memory issues\n",
    "# def extract_features(feature_list, n_rows, columns, year_month):\n",
    "#     df = pd.DataFrame()\n",
    "#     for f in feature_list: \n",
    "#         query_df = client.query(f, \n",
    "#                       columns=columns,\n",
    "#                       year_month=year_month)\n",
    "#         \n",
    "#         samples = np.random.randint(low = 0, high = query_df.shape[0], size = n_rows)\n",
    "#         sampled_df = query_df if query_df.shape[0] < n_rows else query_df.iloc[samples] \n",
    "#         multi_idx= pd.MultiIndex.from_arrays([sampled_df[\"timestamp\"].values, sampled_df[\"node\"].values], names = (\"timestamp\", \"node\"))\n",
    "#         data = {f: sampled_df[\"value\"].values}\n",
    "#         processed_df = pd.DataFrame(index = multi_idx, data=data)\n",
    "#         if df.empty:\n",
    "#             df = processed_df\n",
    "#         else:\n",
    "#             df = pd.concat([df, processed_df], join=\"outer\")\n",
    "#     return df\n",
    "\n",
    "def extract_features(feature_list, n_rows, nodes_of_interest, columns, year_month):\n",
    "    plugin_df = pd.DataFrame()\n",
    "    node_dfs = []\n",
    "    for f in feature_list: \n",
    "        query_df = client.query(f, \n",
    "                      columns=columns,\n",
    "                      year_month=year_month)   \n",
    "        \n",
    "        for noi in nodes_of_interest:\n",
    "            idxs = np.where(query_df[\"node\"].to_numpy().astype(np.int32) == noi, True, False)\n",
    "            node_data = query_df.iloc[idxs]\n",
    "            node_data.drop(\"node\", axis = \"columns\", inplace=True)\n",
    "            node_data = node_data.pivot(\"value\", index=\"timestamp\")\n",
    "            node_data.rename({\"value\": str(noi) + \"_\" + str(f)}, inplace=True)\n",
    "            node_dfs.append(node_data)\n",
    "            \n",
    "    plugin_df = pd.concat(node_dfs, join=\"outer\")\n",
    "    return plugin_df\n",
    "\n",
    "\n",
    "n_rows = 50\n",
    "nodes_of_interest = [i for i in range(10)]\n",
    "nodes_of_interest = [0]\n",
    "year_month = [\"22-02\"]\n",
    "\n",
    "#ipmi collects physical/hardware properties of nodes\n",
    "ipmi_features = [\"ambient\", \"gpu0_core_temp\", \"p0_core0_temp\"]\n",
    "ipmi_columns = [\"timestamp\", \"node\", \"value\"]\n",
    "ipmi_df = extract_features(ipmi_features, n_rows, nodes_of_interest, ipmi_columns, year_month)\n",
    "ipmi_df.to_csv(os.path.join(processed_path, \"ipmi\"))\n",
    "\n",
    "#vertiv plugin collects data for AC cooling \n",
    "# vertiv_features = [\"Supply_Air_Temperature\"]\n",
    "# vertiv_labels = [\"Return_Air_Temperature\"]\n",
    "# vertiv_df = client.query([\"Supply_Air_Temperature\", \"Return_Air_Temperature\"],\n",
    "#                   columns=['timestamp','value'],\n",
    "#                   year_month=[\"22-02\"])\n",
    "\n",
    "\n",
    "\n",
    "# #ganglia collects metrics on utilization of hardware\n",
    "# ganglia_df = client.query([\"load_fifteen\"],\n",
    "#                   columns=['timestamp', \"node\", 'value'],\n",
    "#                   year_month=[\"22-02\"])\n",
    "\n",
    "# logics collects power consumption data from equipment and devices\n",
    "# logics_df = client.query([\"Tot\"],\n",
    "#                   columns=['timestamp', \"device\", \"panel\", 'value'],\n",
    "#                   year_month=[\"22-02\"])\n",
    "\n",
    "#schneider collects data on liquid cooling system\n",
    "# schneider_df = client.query([\"Tot\"],\n",
    "#                   columns=['timestamp', \"node\", 'value'],\n",
    "#                   year_month=[\"22-02\"])\n",
    "\n",
    "#weather data\n",
    "# weather_df = client.query([\"temp\"],\n",
    "#                   columns=['timestamp', 'value'],\n",
    "#                   year_month=[\"22-02\"])\n",
    "\n",
    "\n",
    "ipmi_df.head(100)\n"
   ],
   "metadata": {
    "collapsed": false,
    "ExecuteTime": {
     "end_time": "2023-12-10T09:18:33.009096Z",
     "start_time": "2023-12-10T09:18:18.328195700Z"
    }
   },
   "id": "22578a71535bd1bf"
  },
  {
   "cell_type": "code",
   "execution_count": null,
   "outputs": [],
   "source": [
    "\n",
    "# feature_dfs = [ipmi_df, vertiv_df, weather_df]\n",
    "feature_dfs = [ipmi_df, vertiv_df] #start w/ small one for now\n"
   ],
   "metadata": {
    "collapsed": false,
    "ExecuteTime": {
     "start_time": "2023-12-10T09:00:45.117545500Z"
    }
   },
   "id": "176c98e2cc36cbe1"
  },
  {
   "cell_type": "code",
   "execution_count": null,
   "outputs": [],
   "source": [
    "\"\"\"Cell purpose: preprocess and/or merge data as desired\"\"\"\n",
    "df = pd.concat(plugin_dfs)\n",
    "# print(merged_df[\"timestamp\"].astype(np.int64) * 10e-9)\n",
    "# merge_df[\"timestamp\"] = merge_df[\"timestamp\"].apply(lambda ts: ts.as_unit(\"ns\"))\n",
    "df.head(10)\n",
    "\n",
    "splits = np.floor([.8, .1, .1] * len(df))\n",
    "train_df = df.iloc[splits[0]]\n",
    "val_df = df.iloc[splits[1]]\n",
    "test_df = df.iloc[splits[2]]\n",
    "\n"
   ],
   "metadata": {
    "collapsed": false,
    "ExecuteTime": {
     "start_time": "2023-12-10T09:00:45.121554100Z"
    }
   },
   "id": "6b1733a0c94ce8c0"
  },
  {
   "cell_type": "code",
   "execution_count": null,
   "outputs": [],
   "source": [
    "# Will have to make work with timestamp indexign later\n",
    "class M100Data(Dataset):\n",
    "    def __init__(self, feature_df, label_df, transform = None, label_transform = None):\n",
    "        self.feature_df = feature_df\n",
    "        self.label_df = label_df\n",
    "        self.transform = transform\n",
    "\n",
    "    def __len__(self):\n",
    "        return len(self.df.shape[0])\n",
    "\n",
    "    def __getitem__(self, idx):\n",
    "        return self.feature_df.iloc[idx], self.label_df.iloc[idx]\n",
    "    \n",
    "train_ds = M100Data(df,)"
   ],
   "metadata": {
    "collapsed": false,
    "ExecuteTime": {
     "start_time": "2023-12-10T09:00:45.129009700Z"
    }
   },
   "id": "4a17ace650982f45"
  },
  {
   "cell_type": "code",
   "execution_count": null,
   "outputs": [],
   "source": [],
   "metadata": {
    "collapsed": false,
    "ExecuteTime": {
     "start_time": "2023-12-10T09:00:45.135011700Z"
    }
   },
   "id": "96a5aadcd8397788"
  },
  {
   "cell_type": "code",
   "execution_count": null,
   "outputs": [],
   "source": [
    "trainloader = DataLoader(train_ds, batch_size = 8, shuffle = True)\n",
    "model = LinearNN()"
   ],
   "metadata": {
    "collapsed": false,
    "ExecuteTime": {
     "end_time": "2023-12-10T09:00:45.143013100Z",
     "start_time": "2023-12-10T09:00:45.140014800Z"
    }
   },
   "id": "b9f72e50101dbd20"
  },
  {
   "cell_type": "code",
   "execution_count": null,
   "outputs": [],
   "source": [
    "\"\"\"Cell purpose: train\"\"\"\n",
    "# model = LinearRegression().fit(merged_df[\"air_temp\"].to_numpy().reshape(-1,1), merged_df[\"ambient_temp\"].to_numpy().reshape(-1,1))"
   ],
   "metadata": {
    "collapsed": false,
    "ExecuteTime": {
     "start_time": "2023-12-10T09:00:45.144010400Z"
    }
   },
   "id": "da89ca240a6e4c2b"
  },
  {
   "cell_type": "code",
   "execution_count": null,
   "outputs": [],
   "source": [
    "\"\"\"Cell purpose: inference\"\"\"\n",
    "# preds = model.predict(test_df[\"air_temp\"].to_numpy().reshape(-1,1))\n"
   ],
   "metadata": {
    "collapsed": false,
    "ExecuteTime": {
     "start_time": "2023-12-10T09:00:45.149010600Z"
    }
   },
   "id": "118a70fbe9449cf1"
  },
  {
   "cell_type": "code",
   "execution_count": null,
   "outputs": [],
   "source": [
    "\"\"\"Cell purpose: benchmarking\"\"\"\n",
    "\n",
    "# labels = test_df[\"ambient_temp\"].to_numpy().reshape(-1,1)\n",
    "# \n",
    "# \n",
    "# timesteps = [t for t in range(preds.shape[0])]\n",
    "# colors = iter(plt.cm.rainbow(np.linspace(0, 0.5, 2)))\n",
    "# plt.scatter(preds, labels, c=[\"blue\", \"red\"])\n",
    "# \n",
    "# plt.legend(loc=\"upper left\")\n",
    "# plt.xlabel(\"Time\")\n",
    "# plt.ylabel(\"Ambient temperature\")\n",
    "# plt.grid()\n",
    "# plt.show()\n",
    "\n"
   ],
   "metadata": {
    "collapsed": false,
    "ExecuteTime": {
     "start_time": "2023-12-10T09:00:45.153017Z"
    }
   },
   "id": "46493ce89db187d0"
  },
  {
   "cell_type": "code",
   "execution_count": null,
   "outputs": [],
   "source": [
    "\"\"\n"
   ],
   "metadata": {
    "collapsed": false,
    "ExecuteTime": {
     "start_time": "2023-12-10T09:00:45.157018100Z"
    }
   },
   "id": "8ca995608b0b8e6c"
  }
 ],
 "metadata": {
  "kernelspec": {
   "display_name": "Python 3",
   "language": "python",
   "name": "python3"
  },
  "language_info": {
   "codemirror_mode": {
    "name": "ipython",
    "version": 2
   },
   "file_extension": ".py",
   "mimetype": "text/x-python",
   "name": "python",
   "nbconvert_exporter": "python",
   "pygments_lexer": "ipython2",
   "version": "2.7.6"
  }
 },
 "nbformat": 4,
 "nbformat_minor": 5
}
