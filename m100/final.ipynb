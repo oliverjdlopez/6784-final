{
 "cells": [
  {
   "cell_type": "code",
   "execution_count": 1,
   "id": "initial_id",
   "metadata": {
    "collapsed": true,
    "ExecuteTime": {
     "end_time": "2023-12-14T18:42:09.400346200Z",
     "start_time": "2023-12-14T18:42:04.397089800Z"
    }
   },
   "outputs": [],
   "source": [
    "%reset -f\n",
    "\n",
    "import sys\n",
    "sys.path.append(\"../exadata-main/parquet_dataset/query_tool\")\n",
    "\n",
    "import os\n",
    "import pandas as pd\n",
    "import numpy as np\n",
    "import itertools\n",
    "import datetime\n",
    "import torch\n",
    "from torch.utils.data import Dataset, DataLoader\n",
    "from sklearn.linear_model import LinearRegression\n",
    "from sklearn.model_selection import train_test_split\n",
    "from query_tool import M100DataClient\n",
    "from matplotlib import pyplot as plt\n",
    "from models import *\n",
    "\n",
    "dataset_path = \"data\"\n",
    "processed_path = \"processed_m100\"\n",
    "client = M100DataClient(dataset_path)\n",
    "\n",
    "\n"
   ]
  },
  {
   "cell_type": "code",
   "execution_count": 2,
   "outputs": [],
   "source": [
    "import torch\n",
    "import torch.nn as nn\n",
    "import scipy\n",
    "\n",
    "class LinearNN(nn.Module):\n",
    "    def __init__(self, feature_dim, action_dim, hidden_dim=128):\n",
    "        super().__init__()\n",
    "        self.fc1 = nn.Linear(feature_dim, hidden_dim)\n",
    "        self.bn1 = nn.BatchNorm1d(hidden_dim)\n",
    "        self.relu = nn.ReLU()\n",
    "        self.dropout = nn.Dropout(0.5)\n",
    "        self.fc2 = nn.Linear(hidden_dim, hidden_dim // 2)\n",
    "        self.bn2 = nn.BatchNorm1d(hidden_dim // 2)\n",
    "        self.fc3 = nn.Linear(hidden_dim // 2, action_dim)\n",
    "\n",
    "    def forward(self, x):\n",
    "        x = self.relu(self.bn1(self.fc1(x)))\n",
    "        x = self.dropout(x)\n",
    "        x = self.relu(self.bn2(self.fc2(x)))\n",
    "        return self.fc3(x)\n",
    "\n",
    "def train(model, trainloader, optimizer, loss_fn, epochs, scheduler=None, batches=-1):\n",
    "    device = \"cuda:0\" if torch.cuda.is_available() else \"cpu\"\n",
    "    device = torch.device(\"cuda:0\" if torch.cuda.is_available() else \"cpu\")\n",
    "    model.to(device)\n",
    "    model.train()\n",
    "    for e in range(epochs):\n",
    "        # Iterating over data to carry out training step\n",
    "        for ii, (inputs, labels) in enumerate(trainloader):\n",
    "            if batches == ii:\n",
    "                del inputs, labels\n",
    "            if batches != -1 and ii >= batches:\n",
    "                break\n",
    "            inputs, labels = inputs.to(device), labels.to(device)\n",
    "            optimizer.zero_grad()\n",
    "            outs = model.forward(inputs)\n",
    "            outs, labels = torch.squeeze(outs), torch.squeeze(labels)\n",
    "            loss = loss_fn(outs, labels)\n",
    "            outputs = model(inputs)\n",
    "            loss = loss_fn(outputs, labels)\n",
    "            loss.backward()\n",
    "            optimizer.step()\n",
    "            del inputs, labels, outs\n",
    "        if scheduler:\n",
    "            scheduler.step()\n",
    "            if scheduler:\n",
    "                scheduler.step()\n",
    "        print(f\"Epoch {e+1}/{epochs}, Loss: {loss.item()}\")\n",
    "    model.eval()\n",
    "\n",
    "def train_epoch(model, trainloader, optimizer, loss_fn, scheduler=None, n_batches=-1):\n",
    "    device = torch.device(\"cuda:0\" if torch.cuda.is_available() else \"cpu\")\n",
    "    model.to(device)\n",
    "    model.train()\n",
    "    losses = []\n",
    "    # Iterating over data to carry out training step\n",
    "    for ii, (inputs, labels) in enumerate(trainloader):\n",
    "        if n_batches == ii:\n",
    "            del inputs, labels\n",
    "            break\n",
    "        inputs, labels = inputs.to(device), labels.to(device)\n",
    "        optimizer.zero_grad()\n",
    "        outs = model.forward(inputs)\n",
    "        outs, labels = torch.squeeze(outs), torch.squeeze(labels)\n",
    "        loss = loss_fn(outs, labels)\n",
    "        losses.append(loss.detach().cpu())\n",
    "        loss.backward()\n",
    "        optimizer.step()\n",
    "        del inputs, labels, outs\n",
    "    if scheduler:\n",
    "        scheduler.step()\n",
    "\n",
    "    model.eval()\n",
    "    return losses\n",
    "\n",
    "def test_epoch(model, testloader, loss_fn, n_batches=-1):\n",
    "    device = \"cuda:0\" if torch.cuda.is_available() else \"cpu\"\n",
    "    model.eval()\n",
    "    losses = []\n",
    "    with torch.no_grad():\n",
    "        # Iterating over data to carry out training step\n",
    "        for ii, (inputs, labels) in enumerate(testloader):\n",
    "            if n_batches == ii:\n",
    "                del inputs, labels\n",
    "                break\n",
    "\n",
    "            inputs, labels = inputs.to(device), labels.to(device)\n",
    "            outs = model.forward(inputs)\n",
    "            outs, labels = torch.squeeze(outs), torch.squeeze(labels)\n",
    "            loss = loss_fn(outs, labels)\n",
    "            losses.append(loss)\n",
    "            del inputs, labels, outs\n",
    "\n",
    "    model.eval()\n",
    "    return losses"
   ],
   "metadata": {
    "collapsed": false,
    "ExecuteTime": {
     "end_time": "2023-12-14T18:42:09.418005400Z",
     "start_time": "2023-12-14T18:42:09.411349500Z"
    }
   },
   "id": "f220174d28672a63"
  },
  {
   "cell_type": "code",
   "execution_count": 3,
   "outputs": [],
   "source": [
    "#TODO FOR BOTH: TIMESTAMP INDICES\n",
    "\n",
    "def extract_node_values(feature_list, n_rows, nodes_of_interest, columns, year_month):\n",
    "    node_dfs = []\n",
    "    for f in feature_list: \n",
    "        query_df = client.query(f, \n",
    "                      columns=columns,\n",
    "                      year_month=year_month)   \n",
    "        query_df.dropna(inplace=True)\n",
    "        node_list = query_df[\"node\"].to_numpy().astype(np.int32)\n",
    "        for noi in nodes_of_interest:\n",
    "            idxs = np.where(node_list == noi, True, False)\n",
    "            nodes = query_df.iloc[idxs].iloc[:n_rows]\n",
    "            node_values = nodes[\"value\"].values\n",
    "            \n",
    "            node_df = pd.DataFrame(index=nodes[\"timestamp\"])\n",
    "            new_name = str(noi) + \"_\" + str(f)\n",
    "            node_df[new_name] = nodes[\"value\"].values\n",
    "            node_dfs.append(node_df)\n",
    "            \n",
    "    plugin_df=pd.concat(node_dfs, axis=1, join=\"inner\")\n",
    "    return plugin_df\n",
    "\n",
    "def extract_values(feature_list, n_rows, columns, year_month):\n",
    "    dfs = []\n",
    "    for f in feature_list: \n",
    "        query_df = client.query(f, \n",
    "                      columns=columns,\n",
    "                      year_month=year_month)   \n",
    "        query_df.dropna(inplace=True)\n",
    "        df = pd.DataFrame(index=query_df[\"timestamp\"])\n",
    "        df[f] = query_df[\"value\"].values\n",
    "        df = df.iloc[:n_rows]\n",
    "        dfs.append(df)\n",
    "        \n",
    "    plugin_df=pd.concat(dfs, axis=1, join=\"inner\")\n",
    "    return plugin_df\n",
    "    \n",
    "#ipmi collects physical/hardware properties of nodes\n",
    "def make_ipmi():\n",
    "    ipmi_features = [\"ambient\"]\n",
    "    ipmi_columns = [\"timestamp\", \"node\", \"value\"]\n",
    "    ipmi_df = extract_node_values(ipmi_features, n_rows, nodes_of_interest, ipmi_columns, year_month)\n",
    "    return ipmi_df\n",
    "\n",
    "#ganglia collects metrics on utilization of hardware \n",
    "def make_ganglia():\n",
    "    ganglia_features = []\n",
    "    ganglia_columns = [\"timestamp\", \"node\", \"value\"]\n",
    "    ganglia_df = extract_node_values(ganglia_features, n_rows, nodes_of_interest,ganglia_columns, year_month)\n",
    "    return ganglia_df\n",
    "    \n",
    "#vertiv plugin collects data for AC cooling \n",
    "\n",
    "def make_vertiv():\n",
    "    vertiv_features = [\"Supply_Air_Temperature\"]\n",
    "    vertiv_columns = [\"timestamp\", \"value\"]\n",
    "    vertiv_df = extract_values(vertiv_features, n_rows, vertiv_columns, year_month)\n",
    "    return vertiv_df.groupby(vertiv_df.index).mean()\n",
    "\n",
    "def make_vertiv_labels():\n",
    "    vertiv_labels = [\"Return_Air_Temperature\"]\n",
    "    vertiv_columns = [\"timestamp\", \"value\"]\n",
    "    vertiv_labels = extract_values(vertiv_labels, n_rows, vertiv_columns, year_month)\n",
    "    return vertiv_labels\n",
    "   \n",
    "\n",
    "#weather data\n",
    "def make_weather():\n",
    "    weather_features = [\"temp\"]\n",
    "    weather_columns = [\"timestamp\", \"value\"]\n",
    "    weather_df = extract_values(weather_features, n_rows, weather_columns, year_month)\n",
    "    return weather_df"
   ],
   "metadata": {
    "collapsed": false,
    "ExecuteTime": {
     "end_time": "2023-12-14T18:42:09.447368500Z",
     "start_time": "2023-12-14T18:42:09.420010300Z"
    }
   },
   "id": "725c688ce5380726"
  },
  {
   "cell_type": "code",
   "execution_count": 4,
   "outputs": [
    {
     "name": "stdout",
     "output_type": "stream",
     "text": [
      "Retrieving data of type: float\n",
      "Retrieving data of type: float\n",
      "Retrieving data of type: float\n",
      "Retrieving data of type: float\n"
     ]
    }
   ],
   "source": [
    "\"\"\"Cell purpose: pull desired features from plugins\"\"\"\n",
    "\n",
    "\n",
    "n_rows = 1000000\n",
    "nodes_of_interest = [i for i in range(10)]\n",
    "# nodes_of_interest = [0]\n",
    "year_month = [\"22-02\"]\n",
    "\n",
    "vertiv_df = make_vertiv()\n",
    "vertiv_df = vertiv_df\n",
    "vertiv_df.to_csv(os.path.join(processed_path, \"vertiv.csv\"))\n",
    "# \n",
    "# \n",
    "vertiv_labels = make_vertiv_labels()\n",
    "vertiv_labels.to_csv(os.path.join(processed_path, \"vertiv_labels.csv\"))\n",
    "# \n",
    "ipmi_df = make_ipmi()\n",
    "ipmi_df.to_csv(os.path.join(processed_path, \"ipmi.csv\"))\n",
    "# \n",
    "weather_df = make_weather()\n",
    "weather_df.to_csv(os.path.join(processed_path, \"weather.csv\"))\n",
    "\n",
    "\n",
    "#schneider collects data on liquid cooling system\n",
    "# schneider_df = client.query([\"Tot\"],\n",
    "#                   columns=['timestamp', 'value'],\n",
    "#                   year_month=[\"22-02\"])\n",
    "\n",
    "# logics collects power consumption data from equipment and devices\n",
    "# logics_features = [\"Tot\"]\n",
    "# logics_columns = [\"timestamp\", \"node\", \"value\"]\n",
    "# logics_df = extract_node_values(logics_features, n_rows, nodes_of_interest, logics_columns, year_month)\n",
    "# logics_df.to_csv(os.path.join(processed_path, \"logics.csv\"))\n",
    "# del logics_df #probably done anyway by python but no harm"
   ],
   "metadata": {
    "collapsed": false,
    "ExecuteTime": {
     "end_time": "2023-12-14T18:42:36.886041900Z",
     "start_time": "2023-12-14T18:42:09.444367900Z"
    }
   },
   "id": "22578a71535bd1bf"
  },
  {
   "cell_type": "code",
   "execution_count": 5,
   "outputs": [
    {
     "data": {
      "text/plain": "                           0_ambient  1_ambient  2_ambient  3_ambient  \\\ntimestamp                                                               \n2022-02-01 00:00:00+00:00       21.8       20.8       21.6       21.6   \n2022-02-01 00:00:00+00:00       21.8       20.8       21.6       21.6   \n2022-02-01 00:00:00+00:00       21.8       20.8       21.6       21.6   \n2022-02-01 00:00:00+00:00       21.8       20.8       21.6       21.6   \n2022-02-01 00:00:00+00:00       21.8       20.8       21.6       21.6   \n...                              ...        ...        ...        ...   \n2022-02-28 23:40:00+00:00       21.2       20.4       21.4       21.6   \n2022-02-28 23:40:00+00:00       21.2       20.4       21.4       21.6   \n2022-02-28 23:40:00+00:00       21.2       20.4       21.4       21.6   \n2022-02-28 23:40:00+00:00       21.2       20.4       21.4       21.6   \n2022-02-28 23:40:00+00:00       21.2       20.4       21.4       21.6   \n\n                           4_ambient  5_ambient  6_ambient  7_ambient  \\\ntimestamp                                                               \n2022-02-01 00:00:00+00:00       22.2       22.2       22.0       22.4   \n2022-02-01 00:00:00+00:00       22.2       22.2       22.0       22.4   \n2022-02-01 00:00:00+00:00       22.2       22.2       22.0       22.4   \n2022-02-01 00:00:00+00:00       22.2       22.2       22.0       22.4   \n2022-02-01 00:00:00+00:00       22.2       22.2       22.0       22.4   \n...                              ...        ...        ...        ...   \n2022-02-28 23:40:00+00:00       22.4       22.2       22.2       22.4   \n2022-02-28 23:40:00+00:00       22.4       22.2       22.2       22.4   \n2022-02-28 23:40:00+00:00       22.4       22.2       22.2       22.4   \n2022-02-28 23:40:00+00:00       22.4       22.2       22.2       22.4   \n2022-02-28 23:40:00+00:00       22.4       22.2       22.2       22.4   \n\n                           8_ambient  9_ambient  temp  Supply_Air_Temperature  \\\ntimestamp                                                                       \n2022-02-01 00:00:00+00:00       22.8       23.2  7.10               18.733334   \n2022-02-01 00:00:00+00:00       22.8       23.2  7.10               18.733334   \n2022-02-01 00:00:00+00:00       22.8       23.2  7.10               18.733334   \n2022-02-01 00:00:00+00:00       22.8       23.2  7.10               18.733334   \n2022-02-01 00:00:00+00:00       22.8       23.2  7.10               18.733334   \n...                              ...        ...   ...                     ...   \n2022-02-28 23:40:00+00:00       22.8       23.2  4.59               17.566668   \n2022-02-28 23:40:00+00:00       22.8       23.2  4.59               17.566668   \n2022-02-28 23:40:00+00:00       22.8       23.2  4.59               17.566668   \n2022-02-28 23:40:00+00:00       22.8       23.2  4.59               17.566668   \n2022-02-28 23:40:00+00:00       22.8       23.2  4.59               17.566668   \n\n                           Return_Air_Temperature  \ntimestamp                                          \n2022-02-01 00:00:00+00:00                    24.5  \n2022-02-01 00:00:00+00:00                    24.8  \n2022-02-01 00:00:00+00:00                    23.2  \n2022-02-01 00:00:00+00:00                    25.3  \n2022-02-01 00:00:00+00:00                    25.4  \n...                                           ...  \n2022-02-28 23:40:00+00:00                    25.1  \n2022-02-28 23:40:00+00:00                    23.3  \n2022-02-28 23:40:00+00:00                    25.2  \n2022-02-28 23:40:00+00:00                    25.2  \n2022-02-28 23:40:00+00:00                    25.2  \n\n[12748 rows x 13 columns]",
      "text/html": "<div>\n<style scoped>\n    .dataframe tbody tr th:only-of-type {\n        vertical-align: middle;\n    }\n\n    .dataframe tbody tr th {\n        vertical-align: top;\n    }\n\n    .dataframe thead th {\n        text-align: right;\n    }\n</style>\n<table border=\"1\" class=\"dataframe\">\n  <thead>\n    <tr style=\"text-align: right;\">\n      <th></th>\n      <th>0_ambient</th>\n      <th>1_ambient</th>\n      <th>2_ambient</th>\n      <th>3_ambient</th>\n      <th>4_ambient</th>\n      <th>5_ambient</th>\n      <th>6_ambient</th>\n      <th>7_ambient</th>\n      <th>8_ambient</th>\n      <th>9_ambient</th>\n      <th>temp</th>\n      <th>Supply_Air_Temperature</th>\n      <th>Return_Air_Temperature</th>\n    </tr>\n    <tr>\n      <th>timestamp</th>\n      <th></th>\n      <th></th>\n      <th></th>\n      <th></th>\n      <th></th>\n      <th></th>\n      <th></th>\n      <th></th>\n      <th></th>\n      <th></th>\n      <th></th>\n      <th></th>\n      <th></th>\n    </tr>\n  </thead>\n  <tbody>\n    <tr>\n      <th>2022-02-01 00:00:00+00:00</th>\n      <td>21.8</td>\n      <td>20.8</td>\n      <td>21.6</td>\n      <td>21.6</td>\n      <td>22.2</td>\n      <td>22.2</td>\n      <td>22.0</td>\n      <td>22.4</td>\n      <td>22.8</td>\n      <td>23.2</td>\n      <td>7.10</td>\n      <td>18.733334</td>\n      <td>24.5</td>\n    </tr>\n    <tr>\n      <th>2022-02-01 00:00:00+00:00</th>\n      <td>21.8</td>\n      <td>20.8</td>\n      <td>21.6</td>\n      <td>21.6</td>\n      <td>22.2</td>\n      <td>22.2</td>\n      <td>22.0</td>\n      <td>22.4</td>\n      <td>22.8</td>\n      <td>23.2</td>\n      <td>7.10</td>\n      <td>18.733334</td>\n      <td>24.8</td>\n    </tr>\n    <tr>\n      <th>2022-02-01 00:00:00+00:00</th>\n      <td>21.8</td>\n      <td>20.8</td>\n      <td>21.6</td>\n      <td>21.6</td>\n      <td>22.2</td>\n      <td>22.2</td>\n      <td>22.0</td>\n      <td>22.4</td>\n      <td>22.8</td>\n      <td>23.2</td>\n      <td>7.10</td>\n      <td>18.733334</td>\n      <td>23.2</td>\n    </tr>\n    <tr>\n      <th>2022-02-01 00:00:00+00:00</th>\n      <td>21.8</td>\n      <td>20.8</td>\n      <td>21.6</td>\n      <td>21.6</td>\n      <td>22.2</td>\n      <td>22.2</td>\n      <td>22.0</td>\n      <td>22.4</td>\n      <td>22.8</td>\n      <td>23.2</td>\n      <td>7.10</td>\n      <td>18.733334</td>\n      <td>25.3</td>\n    </tr>\n    <tr>\n      <th>2022-02-01 00:00:00+00:00</th>\n      <td>21.8</td>\n      <td>20.8</td>\n      <td>21.6</td>\n      <td>21.6</td>\n      <td>22.2</td>\n      <td>22.2</td>\n      <td>22.0</td>\n      <td>22.4</td>\n      <td>22.8</td>\n      <td>23.2</td>\n      <td>7.10</td>\n      <td>18.733334</td>\n      <td>25.4</td>\n    </tr>\n    <tr>\n      <th>...</th>\n      <td>...</td>\n      <td>...</td>\n      <td>...</td>\n      <td>...</td>\n      <td>...</td>\n      <td>...</td>\n      <td>...</td>\n      <td>...</td>\n      <td>...</td>\n      <td>...</td>\n      <td>...</td>\n      <td>...</td>\n      <td>...</td>\n    </tr>\n    <tr>\n      <th>2022-02-28 23:40:00+00:00</th>\n      <td>21.2</td>\n      <td>20.4</td>\n      <td>21.4</td>\n      <td>21.6</td>\n      <td>22.4</td>\n      <td>22.2</td>\n      <td>22.2</td>\n      <td>22.4</td>\n      <td>22.8</td>\n      <td>23.2</td>\n      <td>4.59</td>\n      <td>17.566668</td>\n      <td>25.1</td>\n    </tr>\n    <tr>\n      <th>2022-02-28 23:40:00+00:00</th>\n      <td>21.2</td>\n      <td>20.4</td>\n      <td>21.4</td>\n      <td>21.6</td>\n      <td>22.4</td>\n      <td>22.2</td>\n      <td>22.2</td>\n      <td>22.4</td>\n      <td>22.8</td>\n      <td>23.2</td>\n      <td>4.59</td>\n      <td>17.566668</td>\n      <td>23.3</td>\n    </tr>\n    <tr>\n      <th>2022-02-28 23:40:00+00:00</th>\n      <td>21.2</td>\n      <td>20.4</td>\n      <td>21.4</td>\n      <td>21.6</td>\n      <td>22.4</td>\n      <td>22.2</td>\n      <td>22.2</td>\n      <td>22.4</td>\n      <td>22.8</td>\n      <td>23.2</td>\n      <td>4.59</td>\n      <td>17.566668</td>\n      <td>25.2</td>\n    </tr>\n    <tr>\n      <th>2022-02-28 23:40:00+00:00</th>\n      <td>21.2</td>\n      <td>20.4</td>\n      <td>21.4</td>\n      <td>21.6</td>\n      <td>22.4</td>\n      <td>22.2</td>\n      <td>22.2</td>\n      <td>22.4</td>\n      <td>22.8</td>\n      <td>23.2</td>\n      <td>4.59</td>\n      <td>17.566668</td>\n      <td>25.2</td>\n    </tr>\n    <tr>\n      <th>2022-02-28 23:40:00+00:00</th>\n      <td>21.2</td>\n      <td>20.4</td>\n      <td>21.4</td>\n      <td>21.6</td>\n      <td>22.4</td>\n      <td>22.2</td>\n      <td>22.2</td>\n      <td>22.4</td>\n      <td>22.8</td>\n      <td>23.2</td>\n      <td>4.59</td>\n      <td>17.566668</td>\n      <td>25.2</td>\n    </tr>\n  </tbody>\n</table>\n<p>12748 rows × 13 columns</p>\n</div>"
     },
     "execution_count": 5,
     "metadata": {},
     "output_type": "execute_result"
    }
   ],
   "source": [
    "weather_df = pd.read_csv(os.path.join(processed_path, \"weather.csv\"), index_col = \"timestamp\")\n",
    "vertiv_df = pd.read_csv(os.path.join(processed_path, \"vertiv.csv\"), index_col=\"timestamp\")\n",
    "vertiv_labels = pd.read_csv(os.path.join(processed_path, \"vertiv_labels.csv\"),index_col=\"timestamp\")\n",
    "# ganglia_df= pd.read_csv(os.path.join(processed_path, \"ganglia.csv\"))\n",
    "ipmi_df = pd.read_csv(os.path.join(processed_path, \"ipmi.csv\"), index_col=\"timestamp\")\n",
    "\n",
    "\n",
    "plugin_dfs = [ipmi_df, weather_df, vertiv_df, vertiv_labels] #start w/ small one for now\n",
    "df = plugin_dfs[0]\n",
    "for d in plugin_dfs[1:]:\n",
    "    df = df.merge(d, left_index=True, right_index=True)\n",
    "df\n",
    "\n",
    "#notes: we lose a lot of measurements because timestamps do not overlap. We might want to define an acceptabel margin"
   ],
   "metadata": {
    "collapsed": false,
    "ExecuteTime": {
     "end_time": "2023-12-14T18:42:38.315146100Z",
     "start_time": "2023-12-14T18:42:36.882038500Z"
    }
   },
   "id": "176c98e2cc36cbe1"
  },
  {
   "cell_type": "code",
   "execution_count": 6,
   "outputs": [
    {
     "data": {
      "text/plain": "'2022-02-01 00:00:00+00:00'"
     },
     "execution_count": 6,
     "metadata": {},
     "output_type": "execute_result"
    }
   ],
   "source": [
    "df.index[0]"
   ],
   "metadata": {
    "collapsed": false,
    "ExecuteTime": {
     "end_time": "2023-12-14T18:42:38.326330500Z",
     "start_time": "2023-12-14T18:42:38.315146100Z"
    }
   },
   "id": "36e179ab1ac4ab65"
  },
  {
   "cell_type": "code",
   "execution_count": 7,
   "outputs": [],
   "source": [
    "\"\"\"Cell purpose: preprocess and/or merge data as desired\"\"\"\n",
    "# \n",
    "# feature_list = itertools.chain(ipmi_features, weather_features, vertiv_features)\n",
    "# label_list = itertools.chain(vertiv_labels) \n",
    "feature_list = [\"0_ambient\", \"9_ambient\", \"temp\", \"Supply_Air_Temperature\"]\n",
    "label_list = [\"Return_Air_Temperature\"]\n",
    "\n",
    "train_df, test_df = train_test_split(df)\n",
    "train_df, test_df = train_df.iloc[:-1], test_df.iloc[1:] #align t and t+1\n",
    "train_features, test_features = train_df[feature_list], test_df[feature_list]\n",
    "train_labels, test_labels = train_df[label_list], test_df[label_list]\n",
    "\n",
    "\n"
   ],
   "metadata": {
    "collapsed": false,
    "ExecuteTime": {
     "end_time": "2023-12-14T18:42:38.372493600Z",
     "start_time": "2023-12-14T18:42:38.323304300Z"
    }
   },
   "id": "6b1733a0c94ce8c0"
  },
  {
   "cell_type": "code",
   "execution_count": 8,
   "outputs": [],
   "source": [
    "# Will have to make work with timestamp indexign later\n",
    "class M100Data(Dataset):\n",
    "    def __init__(self, feature_df, label_df, transform = None, label_transform = None):\n",
    "        self.feature_df = feature_df\n",
    "        self.label_df = label_df\n",
    "        self.feature_dim = self.feature_df.shape[1]\n",
    "        self.label_dim = self.label_df.shape[1]\n",
    "        self.transform = transform\n",
    "        self.label_transform = label_transform\n",
    "        \n",
    "    def __len__(self):\n",
    "        return self.feature_df.shape[0]\n",
    "\n",
    "    def __getitem__(self, idx):\n",
    "        feature = torch.as_tensor(self.feature_df.iloc[idx].values, dtype=torch.float32)\n",
    "        label = torch.as_tensor(self.label_df.iloc[idx].values, dtype=torch.float32)\n",
    "        return feature, label\n",
    "    \n",
    "train_ds = M100Data(train_features, train_labels)\n",
    "trainloader = DataLoader(train_ds, batch_size = 8, shuffle = True)\n",
    "\n",
    "test_ds = M100Data(test_features, test_labels)\n",
    "testloader = DataLoader(test_ds, batch_size=2)"
   ],
   "metadata": {
    "collapsed": false,
    "ExecuteTime": {
     "end_time": "2023-12-14T18:42:38.415492Z",
     "start_time": "2023-12-14T18:42:38.346975300Z"
    }
   },
   "id": "4a17ace650982f45"
  },
  {
   "cell_type": "code",
   "execution_count": 9,
   "outputs": [],
   "source": [
    "epochs = 10\n",
    "model = LinearNN(train_ds.feature_dim, train_ds.label_dim)\n",
    "optimizer = torch.optim.SGD(model.parameters(), 1e-3)\n",
    "loss_fn = torch.nn.MSELoss()\n",
    "\n",
    "train_losses, test_losses = [], []\n",
    "for _ in range(epochs):\n",
    "    train_losses.append(train_epoch(model, trainloader, optimizer, loss_fn))\n",
    "    test_losses.append(test_epoch(model, testloader, loss_fn))\n",
    "train_losses = np.array(train_losses)\n",
    "test_losses = np.array(test_losses)"
   ],
   "metadata": {
    "collapsed": false,
    "ExecuteTime": {
     "end_time": "2023-12-14T18:43:08.343701600Z",
     "start_time": "2023-12-14T18:42:38.352495200Z"
    }
   },
   "id": "96a5aadcd8397788"
  },
  {
   "cell_type": "code",
   "execution_count": 12,
   "outputs": [
    {
     "data": {
      "text/plain": "(10, 1593)"
     },
     "execution_count": 12,
     "metadata": {},
     "output_type": "execute_result"
    }
   ],
   "source": [
    "train_losses.shape\n",
    "test_losses.shape"
   ],
   "metadata": {
    "collapsed": false,
    "ExecuteTime": {
     "end_time": "2023-12-14T18:43:53.892854600Z",
     "start_time": "2023-12-14T18:43:50.102648900Z"
    }
   },
   "id": "da89ca240a6e4c2b"
  },
  {
   "cell_type": "code",
   "execution_count": 16,
   "outputs": [],
   "source": [
    "def plot_avg_epoch_loss(train_losses, test_losses):\n",
    "    assert len(train_losses) == len(test_losses) #num of epochs should be the same\n",
    "    avg_train_losses = np.mean(train_losses, axis=1)\n",
    "    avg_test_losses = np.mean(test_losses, axis=1)\n",
    "    timesteps = [t for t in range(len(avg_train_losses))]\n",
    "    # colors = iter(plt.cm.viridis(np.linspace(0, 0.5, 2)))\n",
    "    plt.plot(timesteps, avg_train_losses, c=\"blue\", label=\"Training loss\")\n",
    "    plt.plot(timesteps, avg_test_losses, c=\"red\", label=\"Testing loss\")\n",
    "    plt.legend(loc=\"upper left\")\n",
    "    plt.xlabel(\"Epoch\")\n",
    "    plt.ylabel(\"Loss\")\n",
    "    plt.grid()\n",
    "    plt.show()\n",
    "\n"
   ],
   "metadata": {
    "collapsed": false,
    "ExecuteTime": {
     "end_time": "2023-12-14T18:45:37.816987Z",
     "start_time": "2023-12-14T18:45:37.753467Z"
    }
   },
   "id": "118a70fbe9449cf1"
  },
  {
   "cell_type": "code",
   "execution_count": 17,
   "outputs": [
    {
     "data": {
      "text/plain": "<Figure size 640x480 with 1 Axes>",
      "image/png": "[encoded data removed]"
     },
     "metadata": {},
     "output_type": "display_data"
    }
   ],
   "source": [
    "\"\"\"Cell purpose: benchmarking\"\"\"\n",
    "plot_avg_epoch_loss(train_losses, test_losses)"
   ],
   "metadata": {
    "collapsed": false,
    "ExecuteTime": {
     "end_time": "2023-12-14T18:45:40.765259300Z",
     "start_time": "2023-12-14T18:45:40.580531Z"
    }
   },
   "id": "46493ce89db187d0"
  },
  {
   "cell_type": "code",
   "execution_count": 11,
   "outputs": [],
   "source": [],
   "metadata": {
    "collapsed": false,
    "ExecuteTime": {
     "end_time": "2023-12-14T18:43:24.047932200Z",
     "start_time": "2023-12-14T18:43:24.046922400Z"
    }
   },
   "id": "8ca995608b0b8e6c"
  },
  {
   "cell_type": "code",
   "execution_count": 11,
   "outputs": [],
   "source": [],
   "metadata": {
    "collapsed": false,
    "ExecuteTime": {
     "end_time": "2023-12-14T18:43:24.047932200Z",
     "start_time": "2023-12-14T18:43:24.046922400Z"
    }
   },
   "id": "80fd1620c5c3f872"
  }
 ],
 "metadata": {
  "kernelspec": {
   "display_name": "Python 3",
   "language": "python",
   "name": "python3"
  },
  "language_info": {
   "codemirror_mode": {
    "name": "ipython",
    "version": 2
   },
   "file_extension": ".py",
   "mimetype": "text/x-python",
   "name": "python",
   "nbconvert_exporter": "python",
   "pygments_lexer": "ipython2",
   "version": "2.7.6"
  }
 },
 "nbformat": 4,
 "nbformat_minor": 5
}
